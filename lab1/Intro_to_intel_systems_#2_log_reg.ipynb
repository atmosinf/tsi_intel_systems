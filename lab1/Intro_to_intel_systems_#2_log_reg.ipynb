{
 "cells": [
  {
   "cell_type": "code",
   "execution_count": null,
   "id": "3f8daff3",
   "metadata": {},
   "outputs": [],
   "source": [
    "# 1 Basic preprocessing\n",
    "\n",
    "#Checking/Handling missing values\n",
    "#Checking/handling outliers\n",
    "\n",
    "# 2 Exploring data\n",
    "\n",
    "#Investigate class imbalance\n",
    "#Investigate relationships between variables\n",
    "#Investigate correlation\n",
    "#Normality tests\n",
    "\n",
    "# 3 Data Engineering\n",
    "\n",
    "#Encoding\n",
    "#Feature Optimization\n",
    "#Scaling \n",
    "#Train/Test split\n",
    "\n",
    "# 4 Modelling\n",
    "\n",
    "#Building/training model\n",
    "#Running model\n",
    "\n",
    "# 5 Evaluation\n",
    "\n",
    "#metrics\n",
    "\n",
    "# 6 Hyperparameter Optimization\n"
   ]
  },
  {
   "cell_type": "code",
   "execution_count": 1,
   "id": "a95171de",
   "metadata": {},
   "outputs": [],
   "source": [
    "import pandas as pd\n",
    "import numpy as np"
   ]
  },
  {
   "cell_type": "code",
   "execution_count": 5,
   "id": "9154ed1d",
   "metadata": {},
   "outputs": [],
   "source": [
    "#Import data and set max columns\n",
    "\n",
    "data = pd.read_csv(r'C:/Users/HP/Downloads/bank-additional.csv', delimiter=';')\n",
    "pd.set_option('display.max_columns', None)"
   ]
  },
  {
   "cell_type": "code",
   "execution_count": 6,
   "id": "eb46b9bb",
   "metadata": {},
   "outputs": [
    {
     "data": {
      "text/html": [
       "<div>\n",
       "<style scoped>\n",
       "    .dataframe tbody tr th:only-of-type {\n",
       "        vertical-align: middle;\n",
       "    }\n",
       "\n",
       "    .dataframe tbody tr th {\n",
       "        vertical-align: top;\n",
       "    }\n",
       "\n",
       "    .dataframe thead th {\n",
       "        text-align: right;\n",
       "    }\n",
       "</style>\n",
       "<table border=\"1\" class=\"dataframe\">\n",
       "  <thead>\n",
       "    <tr style=\"text-align: right;\">\n",
       "      <th></th>\n",
       "      <th>age</th>\n",
       "      <th>job</th>\n",
       "      <th>marital</th>\n",
       "      <th>education</th>\n",
       "      <th>default</th>\n",
       "      <th>housing</th>\n",
       "      <th>loan</th>\n",
       "      <th>contact</th>\n",
       "      <th>month</th>\n",
       "      <th>day_of_week</th>\n",
       "      <th>duration</th>\n",
       "      <th>campaign</th>\n",
       "      <th>pdays</th>\n",
       "      <th>previous</th>\n",
       "      <th>poutcome</th>\n",
       "      <th>emp.var.rate</th>\n",
       "      <th>cons.price.idx</th>\n",
       "      <th>cons.conf.idx</th>\n",
       "      <th>euribor3m</th>\n",
       "      <th>nr.employed</th>\n",
       "      <th>y</th>\n",
       "    </tr>\n",
       "  </thead>\n",
       "  <tbody>\n",
       "    <tr>\n",
       "      <th>0</th>\n",
       "      <td>30</td>\n",
       "      <td>blue-collar</td>\n",
       "      <td>married</td>\n",
       "      <td>basic.9y</td>\n",
       "      <td>no</td>\n",
       "      <td>yes</td>\n",
       "      <td>no</td>\n",
       "      <td>cellular</td>\n",
       "      <td>may</td>\n",
       "      <td>fri</td>\n",
       "      <td>487</td>\n",
       "      <td>2</td>\n",
       "      <td>999</td>\n",
       "      <td>0</td>\n",
       "      <td>nonexistent</td>\n",
       "      <td>-1.8</td>\n",
       "      <td>92.893</td>\n",
       "      <td>-46.2</td>\n",
       "      <td>1.313</td>\n",
       "      <td>5099.1</td>\n",
       "      <td>no</td>\n",
       "    </tr>\n",
       "    <tr>\n",
       "      <th>1</th>\n",
       "      <td>39</td>\n",
       "      <td>services</td>\n",
       "      <td>single</td>\n",
       "      <td>high.school</td>\n",
       "      <td>no</td>\n",
       "      <td>no</td>\n",
       "      <td>no</td>\n",
       "      <td>telephone</td>\n",
       "      <td>may</td>\n",
       "      <td>fri</td>\n",
       "      <td>346</td>\n",
       "      <td>4</td>\n",
       "      <td>999</td>\n",
       "      <td>0</td>\n",
       "      <td>nonexistent</td>\n",
       "      <td>1.1</td>\n",
       "      <td>93.994</td>\n",
       "      <td>-36.4</td>\n",
       "      <td>4.855</td>\n",
       "      <td>5191.0</td>\n",
       "      <td>no</td>\n",
       "    </tr>\n",
       "    <tr>\n",
       "      <th>2</th>\n",
       "      <td>25</td>\n",
       "      <td>services</td>\n",
       "      <td>married</td>\n",
       "      <td>high.school</td>\n",
       "      <td>no</td>\n",
       "      <td>yes</td>\n",
       "      <td>no</td>\n",
       "      <td>telephone</td>\n",
       "      <td>jun</td>\n",
       "      <td>wed</td>\n",
       "      <td>227</td>\n",
       "      <td>1</td>\n",
       "      <td>999</td>\n",
       "      <td>0</td>\n",
       "      <td>nonexistent</td>\n",
       "      <td>1.4</td>\n",
       "      <td>94.465</td>\n",
       "      <td>-41.8</td>\n",
       "      <td>4.962</td>\n",
       "      <td>5228.1</td>\n",
       "      <td>no</td>\n",
       "    </tr>\n",
       "    <tr>\n",
       "      <th>3</th>\n",
       "      <td>38</td>\n",
       "      <td>services</td>\n",
       "      <td>married</td>\n",
       "      <td>basic.9y</td>\n",
       "      <td>no</td>\n",
       "      <td>unknown</td>\n",
       "      <td>unknown</td>\n",
       "      <td>telephone</td>\n",
       "      <td>jun</td>\n",
       "      <td>fri</td>\n",
       "      <td>17</td>\n",
       "      <td>3</td>\n",
       "      <td>999</td>\n",
       "      <td>0</td>\n",
       "      <td>nonexistent</td>\n",
       "      <td>1.4</td>\n",
       "      <td>94.465</td>\n",
       "      <td>-41.8</td>\n",
       "      <td>4.959</td>\n",
       "      <td>5228.1</td>\n",
       "      <td>no</td>\n",
       "    </tr>\n",
       "    <tr>\n",
       "      <th>4</th>\n",
       "      <td>47</td>\n",
       "      <td>admin.</td>\n",
       "      <td>married</td>\n",
       "      <td>university.degree</td>\n",
       "      <td>no</td>\n",
       "      <td>yes</td>\n",
       "      <td>no</td>\n",
       "      <td>cellular</td>\n",
       "      <td>nov</td>\n",
       "      <td>mon</td>\n",
       "      <td>58</td>\n",
       "      <td>1</td>\n",
       "      <td>999</td>\n",
       "      <td>0</td>\n",
       "      <td>nonexistent</td>\n",
       "      <td>-0.1</td>\n",
       "      <td>93.200</td>\n",
       "      <td>-42.0</td>\n",
       "      <td>4.191</td>\n",
       "      <td>5195.8</td>\n",
       "      <td>no</td>\n",
       "    </tr>\n",
       "    <tr>\n",
       "      <th>...</th>\n",
       "      <td>...</td>\n",
       "      <td>...</td>\n",
       "      <td>...</td>\n",
       "      <td>...</td>\n",
       "      <td>...</td>\n",
       "      <td>...</td>\n",
       "      <td>...</td>\n",
       "      <td>...</td>\n",
       "      <td>...</td>\n",
       "      <td>...</td>\n",
       "      <td>...</td>\n",
       "      <td>...</td>\n",
       "      <td>...</td>\n",
       "      <td>...</td>\n",
       "      <td>...</td>\n",
       "      <td>...</td>\n",
       "      <td>...</td>\n",
       "      <td>...</td>\n",
       "      <td>...</td>\n",
       "      <td>...</td>\n",
       "      <td>...</td>\n",
       "    </tr>\n",
       "    <tr>\n",
       "      <th>4114</th>\n",
       "      <td>30</td>\n",
       "      <td>admin.</td>\n",
       "      <td>married</td>\n",
       "      <td>basic.6y</td>\n",
       "      <td>no</td>\n",
       "      <td>yes</td>\n",
       "      <td>yes</td>\n",
       "      <td>cellular</td>\n",
       "      <td>jul</td>\n",
       "      <td>thu</td>\n",
       "      <td>53</td>\n",
       "      <td>1</td>\n",
       "      <td>999</td>\n",
       "      <td>0</td>\n",
       "      <td>nonexistent</td>\n",
       "      <td>1.4</td>\n",
       "      <td>93.918</td>\n",
       "      <td>-42.7</td>\n",
       "      <td>4.958</td>\n",
       "      <td>5228.1</td>\n",
       "      <td>no</td>\n",
       "    </tr>\n",
       "    <tr>\n",
       "      <th>4115</th>\n",
       "      <td>39</td>\n",
       "      <td>admin.</td>\n",
       "      <td>married</td>\n",
       "      <td>high.school</td>\n",
       "      <td>no</td>\n",
       "      <td>yes</td>\n",
       "      <td>no</td>\n",
       "      <td>telephone</td>\n",
       "      <td>jul</td>\n",
       "      <td>fri</td>\n",
       "      <td>219</td>\n",
       "      <td>1</td>\n",
       "      <td>999</td>\n",
       "      <td>0</td>\n",
       "      <td>nonexistent</td>\n",
       "      <td>1.4</td>\n",
       "      <td>93.918</td>\n",
       "      <td>-42.7</td>\n",
       "      <td>4.959</td>\n",
       "      <td>5228.1</td>\n",
       "      <td>no</td>\n",
       "    </tr>\n",
       "    <tr>\n",
       "      <th>4116</th>\n",
       "      <td>27</td>\n",
       "      <td>student</td>\n",
       "      <td>single</td>\n",
       "      <td>high.school</td>\n",
       "      <td>no</td>\n",
       "      <td>no</td>\n",
       "      <td>no</td>\n",
       "      <td>cellular</td>\n",
       "      <td>may</td>\n",
       "      <td>mon</td>\n",
       "      <td>64</td>\n",
       "      <td>2</td>\n",
       "      <td>999</td>\n",
       "      <td>1</td>\n",
       "      <td>failure</td>\n",
       "      <td>-1.8</td>\n",
       "      <td>92.893</td>\n",
       "      <td>-46.2</td>\n",
       "      <td>1.354</td>\n",
       "      <td>5099.1</td>\n",
       "      <td>no</td>\n",
       "    </tr>\n",
       "    <tr>\n",
       "      <th>4117</th>\n",
       "      <td>58</td>\n",
       "      <td>admin.</td>\n",
       "      <td>married</td>\n",
       "      <td>high.school</td>\n",
       "      <td>no</td>\n",
       "      <td>no</td>\n",
       "      <td>no</td>\n",
       "      <td>cellular</td>\n",
       "      <td>aug</td>\n",
       "      <td>fri</td>\n",
       "      <td>528</td>\n",
       "      <td>1</td>\n",
       "      <td>999</td>\n",
       "      <td>0</td>\n",
       "      <td>nonexistent</td>\n",
       "      <td>1.4</td>\n",
       "      <td>93.444</td>\n",
       "      <td>-36.1</td>\n",
       "      <td>4.966</td>\n",
       "      <td>5228.1</td>\n",
       "      <td>no</td>\n",
       "    </tr>\n",
       "    <tr>\n",
       "      <th>4118</th>\n",
       "      <td>34</td>\n",
       "      <td>management</td>\n",
       "      <td>single</td>\n",
       "      <td>high.school</td>\n",
       "      <td>no</td>\n",
       "      <td>yes</td>\n",
       "      <td>no</td>\n",
       "      <td>cellular</td>\n",
       "      <td>nov</td>\n",
       "      <td>wed</td>\n",
       "      <td>175</td>\n",
       "      <td>1</td>\n",
       "      <td>999</td>\n",
       "      <td>0</td>\n",
       "      <td>nonexistent</td>\n",
       "      <td>-0.1</td>\n",
       "      <td>93.200</td>\n",
       "      <td>-42.0</td>\n",
       "      <td>4.120</td>\n",
       "      <td>5195.8</td>\n",
       "      <td>no</td>\n",
       "    </tr>\n",
       "  </tbody>\n",
       "</table>\n",
       "<p>4119 rows × 21 columns</p>\n",
       "</div>"
      ],
      "text/plain": [
       "      age          job  marital          education default  housing     loan  \\\n",
       "0      30  blue-collar  married           basic.9y      no      yes       no   \n",
       "1      39     services   single        high.school      no       no       no   \n",
       "2      25     services  married        high.school      no      yes       no   \n",
       "3      38     services  married           basic.9y      no  unknown  unknown   \n",
       "4      47       admin.  married  university.degree      no      yes       no   \n",
       "...   ...          ...      ...                ...     ...      ...      ...   \n",
       "4114   30       admin.  married           basic.6y      no      yes      yes   \n",
       "4115   39       admin.  married        high.school      no      yes       no   \n",
       "4116   27      student   single        high.school      no       no       no   \n",
       "4117   58       admin.  married        high.school      no       no       no   \n",
       "4118   34   management   single        high.school      no      yes       no   \n",
       "\n",
       "        contact month day_of_week  duration  campaign  pdays  previous  \\\n",
       "0      cellular   may         fri       487         2    999         0   \n",
       "1     telephone   may         fri       346         4    999         0   \n",
       "2     telephone   jun         wed       227         1    999         0   \n",
       "3     telephone   jun         fri        17         3    999         0   \n",
       "4      cellular   nov         mon        58         1    999         0   \n",
       "...         ...   ...         ...       ...       ...    ...       ...   \n",
       "4114   cellular   jul         thu        53         1    999         0   \n",
       "4115  telephone   jul         fri       219         1    999         0   \n",
       "4116   cellular   may         mon        64         2    999         1   \n",
       "4117   cellular   aug         fri       528         1    999         0   \n",
       "4118   cellular   nov         wed       175         1    999         0   \n",
       "\n",
       "         poutcome  emp.var.rate  cons.price.idx  cons.conf.idx  euribor3m  \\\n",
       "0     nonexistent          -1.8          92.893          -46.2      1.313   \n",
       "1     nonexistent           1.1          93.994          -36.4      4.855   \n",
       "2     nonexistent           1.4          94.465          -41.8      4.962   \n",
       "3     nonexistent           1.4          94.465          -41.8      4.959   \n",
       "4     nonexistent          -0.1          93.200          -42.0      4.191   \n",
       "...           ...           ...             ...            ...        ...   \n",
       "4114  nonexistent           1.4          93.918          -42.7      4.958   \n",
       "4115  nonexistent           1.4          93.918          -42.7      4.959   \n",
       "4116      failure          -1.8          92.893          -46.2      1.354   \n",
       "4117  nonexistent           1.4          93.444          -36.1      4.966   \n",
       "4118  nonexistent          -0.1          93.200          -42.0      4.120   \n",
       "\n",
       "      nr.employed   y  \n",
       "0          5099.1  no  \n",
       "1          5191.0  no  \n",
       "2          5228.1  no  \n",
       "3          5228.1  no  \n",
       "4          5195.8  no  \n",
       "...           ...  ..  \n",
       "4114       5228.1  no  \n",
       "4115       5228.1  no  \n",
       "4116       5099.1  no  \n",
       "4117       5228.1  no  \n",
       "4118       5195.8  no  \n",
       "\n",
       "[4119 rows x 21 columns]"
      ]
     },
     "execution_count": 6,
     "metadata": {},
     "output_type": "execute_result"
    }
   ],
   "source": [
    "data"
   ]
  },
  {
   "cell_type": "code",
   "execution_count": 7,
   "id": "ae5a18d7",
   "metadata": {},
   "outputs": [
    {
     "name": "stdout",
     "output_type": "stream",
     "text": [
      "age               0\n",
      "job               0\n",
      "marital           0\n",
      "education         0\n",
      "default           0\n",
      "housing           0\n",
      "loan              0\n",
      "contact           0\n",
      "month             0\n",
      "day_of_week       0\n",
      "duration          0\n",
      "campaign          0\n",
      "pdays             0\n",
      "previous          0\n",
      "poutcome          0\n",
      "emp.var.rate      0\n",
      "cons.price.idx    0\n",
      "cons.conf.idx     0\n",
      "euribor3m         0\n",
      "nr.employed       0\n",
      "y                 0\n",
      "dtype: int64\n"
     ]
    }
   ],
   "source": [
    "##Check for missing values\n",
    "\n",
    "print(data.isnull().sum())"
   ]
  },
  {
   "cell_type": "code",
   "execution_count": null,
   "id": "2393c69e",
   "metadata": {},
   "outputs": [],
   "source": [
    "#Explore data - but before we do so, lets encode"
   ]
  },
  {
   "cell_type": "code",
   "execution_count": null,
   "id": "201063ad",
   "metadata": {},
   "outputs": [],
   "source": [
    "##Convert target from yes and no to 0 and 1"
   ]
  },
  {
   "cell_type": "code",
   "execution_count": 8,
   "id": "a42234c1",
   "metadata": {},
   "outputs": [],
   "source": [
    "data1 = pd.get_dummies(data['y'])"
   ]
  },
  {
   "cell_type": "code",
   "execution_count": 11,
   "id": "ad7224b1",
   "metadata": {},
   "outputs": [],
   "source": [
    "data2 = pd.concat((data1, data), axis=1)"
   ]
  },
  {
   "cell_type": "code",
   "execution_count": 12,
   "id": "593f8928",
   "metadata": {},
   "outputs": [],
   "source": [
    "data2 = data2.drop(['no'], axis=1)"
   ]
  },
  {
   "cell_type": "code",
   "execution_count": 14,
   "id": "94200c84",
   "metadata": {},
   "outputs": [],
   "source": [
    "data2 = data2.drop(['y'], axis=1)"
   ]
  },
  {
   "cell_type": "code",
   "execution_count": 15,
   "id": "0d52f9a9",
   "metadata": {},
   "outputs": [],
   "source": [
    "data3 = data2.rename(columns={'yes':'y'})"
   ]
  },
  {
   "cell_type": "code",
   "execution_count": 17,
   "id": "104fea6c",
   "metadata": {},
   "outputs": [
    {
     "data": {
      "text/plain": [
       "y                   uint8\n",
       "age                 int64\n",
       "job                object\n",
       "marital            object\n",
       "education          object\n",
       "default            object\n",
       "housing            object\n",
       "loan               object\n",
       "contact            object\n",
       "month              object\n",
       "day_of_week        object\n",
       "duration            int64\n",
       "campaign            int64\n",
       "pdays               int64\n",
       "previous            int64\n",
       "poutcome           object\n",
       "emp.var.rate      float64\n",
       "cons.price.idx    float64\n",
       "cons.conf.idx     float64\n",
       "euribor3m         float64\n",
       "nr.employed       float64\n",
       "dtype: object"
      ]
     },
     "execution_count": 17,
     "metadata": {},
     "output_type": "execute_result"
    }
   ],
   "source": [
    "data3.dtypes"
   ]
  },
  {
   "cell_type": "code",
   "execution_count": 18,
   "id": "0afe9b2b",
   "metadata": {},
   "outputs": [],
   "source": [
    "#Encode catergorical variables"
   ]
  },
  {
   "cell_type": "code",
   "execution_count": 19,
   "id": "1dc1a8fb",
   "metadata": {},
   "outputs": [],
   "source": [
    "from sklearn.preprocessing import LabelEncoder"
   ]
  },
  {
   "cell_type": "code",
   "execution_count": 20,
   "id": "b9aeb8b9",
   "metadata": {},
   "outputs": [],
   "source": [
    "label_encoder = LabelEncoder()"
   ]
  },
  {
   "cell_type": "code",
   "execution_count": 23,
   "id": "e90efb43",
   "metadata": {},
   "outputs": [],
   "source": [
    "#Encoding\n",
    "\n",
    "data3['job'] = label_encoder.fit_transform(data3['job'])\n",
    "data3['marital'] = label_encoder.fit_transform(data3['marital'])\n",
    "data3['education'] = label_encoder.fit_transform(data3['education'])\n",
    "data3['default'] = label_encoder.fit_transform(data3['default'])\n",
    "data3['housing'] = label_encoder.fit_transform(data3['housing'])\n",
    "data3['loan'] = label_encoder.fit_transform(data3['loan'])\n",
    "data3['contact'] = label_encoder.fit_transform(data3['contact'])\n",
    "data3['month'] = label_encoder.fit_transform(data3['month'])\n",
    "data3['day_of_week'] = label_encoder.fit_transform(data3['day_of_week'])\n",
    "data3['poutcome'] = label_encoder.fit_transform(data3['poutcome'])"
   ]
  },
  {
   "cell_type": "code",
   "execution_count": 25,
   "id": "5538d966",
   "metadata": {},
   "outputs": [
    {
     "data": {
      "text/plain": [
       "y                   uint8\n",
       "age                 int64\n",
       "job                 int64\n",
       "marital             int32\n",
       "education           int32\n",
       "default             int32\n",
       "housing             int32\n",
       "loan                int32\n",
       "contact             int32\n",
       "month               int32\n",
       "day_of_week         int32\n",
       "duration            int64\n",
       "campaign            int64\n",
       "pdays               int64\n",
       "previous            int64\n",
       "poutcome            int32\n",
       "emp.var.rate      float64\n",
       "cons.price.idx    float64\n",
       "cons.conf.idx     float64\n",
       "euribor3m         float64\n",
       "nr.employed       float64\n",
       "dtype: object"
      ]
     },
     "execution_count": 25,
     "metadata": {},
     "output_type": "execute_result"
    }
   ],
   "source": [
    "data3.dtypes"
   ]
  },
  {
   "cell_type": "code",
   "execution_count": null,
   "id": "dec7e6e9",
   "metadata": {},
   "outputs": [],
   "source": [
    "##Feature Optimization - but before we do this we need to train test split"
   ]
  },
  {
   "cell_type": "code",
   "execution_count": 38,
   "id": "2e7cb15b",
   "metadata": {},
   "outputs": [],
   "source": [
    "#Train test split\n",
    "from sklearn.model_selection import train_test_split"
   ]
  },
  {
   "cell_type": "code",
   "execution_count": 39,
   "id": "13c249fd",
   "metadata": {},
   "outputs": [],
   "source": [
    "X = data3.drop(['y'], axis=1)\n",
    "Y = data3.y"
   ]
  },
  {
   "cell_type": "code",
   "execution_count": null,
   "id": "42c27c3a",
   "metadata": {},
   "outputs": [],
   "source": []
  },
  {
   "cell_type": "code",
   "execution_count": 41,
   "id": "27570023",
   "metadata": {},
   "outputs": [],
   "source": [
    "X_train, X_test, y_train, y_test = train_test_split(X, Y, test_size = 0.1, random_state = 0)"
   ]
  },
  {
   "cell_type": "code",
   "execution_count": 48,
   "id": "0c0e75c2",
   "metadata": {},
   "outputs": [],
   "source": [
    "from sklearn import tree"
   ]
  },
  {
   "cell_type": "code",
   "execution_count": 49,
   "id": "07b5eb42",
   "metadata": {},
   "outputs": [],
   "source": [
    "model = tree.DecisionTreeClassifier(class_weight = {0:0.2, 1:0.8})"
   ]
  },
  {
   "cell_type": "code",
   "execution_count": 50,
   "id": "42a8e2eb",
   "metadata": {},
   "outputs": [],
   "source": [
    "from sklearn_genetic import GAFeatureSelectionCV"
   ]
  },
  {
   "cell_type": "code",
   "execution_count": 51,
   "id": "cafb0ba0",
   "metadata": {},
   "outputs": [],
   "source": [
    "evolved_estimator = GAFeatureSelectionCV(\n",
    "estimator = model,\n",
    "scoring = 'f1',\n",
    "generations = 50)"
   ]
  },
  {
   "cell_type": "code",
   "execution_count": 52,
   "id": "81813d8f",
   "metadata": {},
   "outputs": [
    {
     "name": "stdout",
     "output_type": "stream",
     "text": [
      "gen\tnevals\tfitness \tfitness_std\tfitness_max\tfitness_min\n",
      "0  \t10    \t0.406267\t0.0866867  \t0.501887   \t0.267554   \n",
      "1  \t18    \t0.459125\t0.0526004  \t0.501887   \t0.30563    \n",
      "2  \t18    \t0.490006\t0.0124004  \t0.522805   \t0.478362   \n",
      "3  \t15    \t0.513619\t0.0109733  \t0.526134   \t0.489293   \n",
      "4  \t19    \t0.51972 \t0.00765519 \t0.527829   \t0.50595    \n",
      "5  \t16    \t0.52461 \t0.00947685 \t0.536902   \t0.510778   \n",
      "6  \t17    \t0.530932\t0.00780737 \t0.537648   \t0.514576   \n",
      "7  \t20    \t0.533505\t0.00310056 \t0.536902   \t0.526524   \n",
      "8  \t19    \t0.533272\t0.0035764  \t0.536902   \t0.526524   \n",
      "9  \t19    \t0.536572\t0.00228891 \t0.539818   \t0.532963   \n",
      "10 \t16    \t0.535107\t0.00452278 \t0.539818   \t0.523414   \n",
      "11 \t18    \t0.534875\t0.00565922 \t0.539818   \t0.523414   \n",
      "12 \t16    \t0.537388\t0.00295578 \t0.539818   \t0.529748   \n",
      "13 \t19    \t0.535977\t0.00613896 \t0.540314   \t0.521158   \n",
      "14 \t19    \t0.53802 \t0.00507304 \t0.54389    \t0.524324   \n",
      "15 \t18    \t0.536933\t0.00598158 \t0.54389    \t0.526308   \n",
      "16 \t18    \t0.539328\t0.00397351 \t0.54389    \t0.530407   \n",
      "17 \t19    \t0.537238\t0.00507591 \t0.54389    \t0.526043   \n",
      "18 \t18    \t0.535341\t0.0044928  \t0.540314   \t0.52694    \n",
      "19 \t17    \t0.533974\t0.00518065 \t0.540314   \t0.523635   \n",
      "20 \t16    \t0.535883\t0.00459046 \t0.540314   \t0.528413   \n",
      "21 \t18    \t0.535206\t0.00537142 \t0.540802   \t0.52274    \n",
      "22 \t17    \t0.536722\t0.00446427 \t0.540802   \t0.526671   \n",
      "23 \t20    \t0.534219\t0.0102099  \t0.546709   \t0.507301   \n",
      "24 \t18    \t0.534389\t0.00667675 \t0.546709   \t0.525245   \n",
      "25 \t16    \t0.536407\t0.00552579 \t0.546709   \t0.529535   \n",
      "26 \t19    \t0.536012\t0.0064141  \t0.546709   \t0.529535   \n",
      "27 \t18    \t0.536769\t0.00476199 \t0.546709   \t0.531383   \n",
      "28 \t19    \t0.541058\t0.00402477 \t0.546709   \t0.532281   \n",
      "29 \t16    \t0.542179\t0.00516396 \t0.546709   \t0.532281   \n",
      "30 \t20    \t0.538813\t0.00693013 \t0.546709   \t0.531535   \n",
      "31 \t18    \t0.536799\t0.0083597  \t0.546709   \t0.526339   \n",
      "32 \t18    \t0.543593\t0.00682396 \t0.548952   \t0.529868   \n",
      "33 \t16    \t0.545357\t0.00405394 \t0.546709   \t0.533195   \n",
      "34 \t16    \t0.543694\t0.0060463  \t0.546709   \t0.530593   \n",
      "35 \t17    \t0.541581\t0.0059128  \t0.546709   \t0.529413   \n",
      "36 \t20    \t0.54017 \t0.00621657 \t0.546709   \t0.529413   \n",
      "37 \t19    \t0.540394\t0.00541016 \t0.546709   \t0.528641   \n",
      "38 \t17    \t0.540117\t0.00412548 \t0.546709   \t0.532931   \n",
      "39 \t17    \t0.540105\t0.00475836 \t0.546709   \t0.530119   \n",
      "40 \t18    \t0.536926\t0.00596106 \t0.542934   \t0.527829   \n",
      "41 \t17    \t0.54022 \t0.00496653 \t0.542934   \t0.527474   \n",
      "42 \t19    \t0.539669\t0.00646731 \t0.542934   \t0.524806   \n",
      "43 \t19    \t0.538053\t0.00530326 \t0.542934   \t0.528936   \n",
      "44 \t19    \t0.534461\t0.00607728 \t0.542934   \t0.524855   \n",
      "45 \t17    \t0.541285\t0.00387655 \t0.542972   \t0.529841   \n",
      "46 \t18    \t0.540953\t0.00487303 \t0.542972   \t0.526482   \n",
      "47 \t20    \t0.539947\t0.00419289 \t0.542972   \t0.530083   \n",
      "48 \t19    \t0.538502\t0.00491979 \t0.542972   \t0.530083   \n",
      "49 \t20    \t0.539068\t0.0044287  \t0.542972   \t0.528903   \n",
      "50 \t18    \t0.535327\t0.00504974 \t0.542972   \t0.526265   \n"
     ]
    },
    {
     "data": {
      "text/plain": [
       "GAFeatureSelectionCV(estimator=DecisionTreeClassifier(class_weight={0: 0.2,\n",
       "                                                                    1: 0.8}),\n",
       "                     generations=50, return_train_score=True, scoring='f1')"
      ]
     },
     "execution_count": 52,
     "metadata": {},
     "output_type": "execute_result"
    }
   ],
   "source": [
    "evolved_estimator.fit(X_train, y_train)"
   ]
  },
  {
   "cell_type": "code",
   "execution_count": 53,
   "id": "163309a4",
   "metadata": {},
   "outputs": [],
   "source": [
    "features = evolved_estimator.best_features_"
   ]
  },
  {
   "cell_type": "code",
   "execution_count": 55,
   "id": "8f046a38",
   "metadata": {},
   "outputs": [
    {
     "data": {
      "text/html": [
       "<div>\n",
       "<style scoped>\n",
       "    .dataframe tbody tr th:only-of-type {\n",
       "        vertical-align: middle;\n",
       "    }\n",
       "\n",
       "    .dataframe tbody tr th {\n",
       "        vertical-align: top;\n",
       "    }\n",
       "\n",
       "    .dataframe thead th {\n",
       "        text-align: right;\n",
       "    }\n",
       "</style>\n",
       "<table border=\"1\" class=\"dataframe\">\n",
       "  <thead>\n",
       "    <tr style=\"text-align: right;\">\n",
       "      <th></th>\n",
       "      <th>age</th>\n",
       "      <th>job</th>\n",
       "      <th>marital</th>\n",
       "      <th>education</th>\n",
       "      <th>default</th>\n",
       "      <th>housing</th>\n",
       "      <th>loan</th>\n",
       "      <th>contact</th>\n",
       "      <th>month</th>\n",
       "      <th>day_of_week</th>\n",
       "      <th>duration</th>\n",
       "      <th>campaign</th>\n",
       "      <th>pdays</th>\n",
       "      <th>previous</th>\n",
       "      <th>poutcome</th>\n",
       "      <th>emp.var.rate</th>\n",
       "      <th>cons.price.idx</th>\n",
       "      <th>cons.conf.idx</th>\n",
       "      <th>euribor3m</th>\n",
       "      <th>nr.employed</th>\n",
       "    </tr>\n",
       "  </thead>\n",
       "  <tbody>\n",
       "    <tr>\n",
       "      <th>3261</th>\n",
       "      <td>41</td>\n",
       "      <td>4</td>\n",
       "      <td>1</td>\n",
       "      <td>3</td>\n",
       "      <td>0</td>\n",
       "      <td>0</td>\n",
       "      <td>2</td>\n",
       "      <td>1</td>\n",
       "      <td>6</td>\n",
       "      <td>3</td>\n",
       "      <td>129</td>\n",
       "      <td>2</td>\n",
       "      <td>999</td>\n",
       "      <td>0</td>\n",
       "      <td>1</td>\n",
       "      <td>1.1</td>\n",
       "      <td>93.994</td>\n",
       "      <td>-36.4</td>\n",
       "      <td>4.856</td>\n",
       "      <td>5191.0</td>\n",
       "    </tr>\n",
       "    <tr>\n",
       "      <th>2542</th>\n",
       "      <td>41</td>\n",
       "      <td>0</td>\n",
       "      <td>1</td>\n",
       "      <td>1</td>\n",
       "      <td>0</td>\n",
       "      <td>0</td>\n",
       "      <td>0</td>\n",
       "      <td>0</td>\n",
       "      <td>0</td>\n",
       "      <td>0</td>\n",
       "      <td>1203</td>\n",
       "      <td>2</td>\n",
       "      <td>999</td>\n",
       "      <td>1</td>\n",
       "      <td>0</td>\n",
       "      <td>-1.8</td>\n",
       "      <td>93.075</td>\n",
       "      <td>-47.1</td>\n",
       "      <td>1.479</td>\n",
       "      <td>5099.1</td>\n",
       "    </tr>\n",
       "    <tr>\n",
       "      <th>4014</th>\n",
       "      <td>36</td>\n",
       "      <td>6</td>\n",
       "      <td>2</td>\n",
       "      <td>6</td>\n",
       "      <td>0</td>\n",
       "      <td>2</td>\n",
       "      <td>0</td>\n",
       "      <td>0</td>\n",
       "      <td>7</td>\n",
       "      <td>1</td>\n",
       "      <td>200</td>\n",
       "      <td>2</td>\n",
       "      <td>4</td>\n",
       "      <td>1</td>\n",
       "      <td>2</td>\n",
       "      <td>-0.1</td>\n",
       "      <td>93.200</td>\n",
       "      <td>-42.0</td>\n",
       "      <td>4.191</td>\n",
       "      <td>5195.8</td>\n",
       "    </tr>\n",
       "    <tr>\n",
       "      <th>2030</th>\n",
       "      <td>24</td>\n",
       "      <td>8</td>\n",
       "      <td>2</td>\n",
       "      <td>3</td>\n",
       "      <td>0</td>\n",
       "      <td>0</td>\n",
       "      <td>0</td>\n",
       "      <td>0</td>\n",
       "      <td>6</td>\n",
       "      <td>1</td>\n",
       "      <td>557</td>\n",
       "      <td>1</td>\n",
       "      <td>999</td>\n",
       "      <td>0</td>\n",
       "      <td>1</td>\n",
       "      <td>-1.8</td>\n",
       "      <td>92.893</td>\n",
       "      <td>-46.2</td>\n",
       "      <td>1.244</td>\n",
       "      <td>5099.1</td>\n",
       "    </tr>\n",
       "    <tr>\n",
       "      <th>1431</th>\n",
       "      <td>37</td>\n",
       "      <td>0</td>\n",
       "      <td>1</td>\n",
       "      <td>3</td>\n",
       "      <td>0</td>\n",
       "      <td>1</td>\n",
       "      <td>1</td>\n",
       "      <td>0</td>\n",
       "      <td>3</td>\n",
       "      <td>2</td>\n",
       "      <td>56</td>\n",
       "      <td>3</td>\n",
       "      <td>999</td>\n",
       "      <td>0</td>\n",
       "      <td>1</td>\n",
       "      <td>1.4</td>\n",
       "      <td>93.918</td>\n",
       "      <td>-42.7</td>\n",
       "      <td>4.968</td>\n",
       "      <td>5228.1</td>\n",
       "    </tr>\n",
       "    <tr>\n",
       "      <th>...</th>\n",
       "      <td>...</td>\n",
       "      <td>...</td>\n",
       "      <td>...</td>\n",
       "      <td>...</td>\n",
       "      <td>...</td>\n",
       "      <td>...</td>\n",
       "      <td>...</td>\n",
       "      <td>...</td>\n",
       "      <td>...</td>\n",
       "      <td>...</td>\n",
       "      <td>...</td>\n",
       "      <td>...</td>\n",
       "      <td>...</td>\n",
       "      <td>...</td>\n",
       "      <td>...</td>\n",
       "      <td>...</td>\n",
       "      <td>...</td>\n",
       "      <td>...</td>\n",
       "      <td>...</td>\n",
       "      <td>...</td>\n",
       "    </tr>\n",
       "    <tr>\n",
       "      <th>1033</th>\n",
       "      <td>50</td>\n",
       "      <td>4</td>\n",
       "      <td>1</td>\n",
       "      <td>3</td>\n",
       "      <td>1</td>\n",
       "      <td>0</td>\n",
       "      <td>0</td>\n",
       "      <td>1</td>\n",
       "      <td>4</td>\n",
       "      <td>1</td>\n",
       "      <td>65</td>\n",
       "      <td>17</td>\n",
       "      <td>999</td>\n",
       "      <td>0</td>\n",
       "      <td>1</td>\n",
       "      <td>1.4</td>\n",
       "      <td>94.465</td>\n",
       "      <td>-41.8</td>\n",
       "      <td>4.961</td>\n",
       "      <td>5228.1</td>\n",
       "    </tr>\n",
       "    <tr>\n",
       "      <th>3264</th>\n",
       "      <td>45</td>\n",
       "      <td>1</td>\n",
       "      <td>2</td>\n",
       "      <td>0</td>\n",
       "      <td>1</td>\n",
       "      <td>2</td>\n",
       "      <td>2</td>\n",
       "      <td>0</td>\n",
       "      <td>3</td>\n",
       "      <td>3</td>\n",
       "      <td>21</td>\n",
       "      <td>3</td>\n",
       "      <td>999</td>\n",
       "      <td>0</td>\n",
       "      <td>1</td>\n",
       "      <td>1.4</td>\n",
       "      <td>93.918</td>\n",
       "      <td>-42.7</td>\n",
       "      <td>4.961</td>\n",
       "      <td>5228.1</td>\n",
       "    </tr>\n",
       "    <tr>\n",
       "      <th>1653</th>\n",
       "      <td>27</td>\n",
       "      <td>0</td>\n",
       "      <td>2</td>\n",
       "      <td>6</td>\n",
       "      <td>0</td>\n",
       "      <td>2</td>\n",
       "      <td>0</td>\n",
       "      <td>0</td>\n",
       "      <td>1</td>\n",
       "      <td>4</td>\n",
       "      <td>429</td>\n",
       "      <td>2</td>\n",
       "      <td>999</td>\n",
       "      <td>0</td>\n",
       "      <td>1</td>\n",
       "      <td>-2.9</td>\n",
       "      <td>92.201</td>\n",
       "      <td>-31.4</td>\n",
       "      <td>0.879</td>\n",
       "      <td>5076.2</td>\n",
       "    </tr>\n",
       "    <tr>\n",
       "      <th>2607</th>\n",
       "      <td>56</td>\n",
       "      <td>1</td>\n",
       "      <td>0</td>\n",
       "      <td>2</td>\n",
       "      <td>0</td>\n",
       "      <td>2</td>\n",
       "      <td>2</td>\n",
       "      <td>0</td>\n",
       "      <td>3</td>\n",
       "      <td>1</td>\n",
       "      <td>123</td>\n",
       "      <td>3</td>\n",
       "      <td>999</td>\n",
       "      <td>0</td>\n",
       "      <td>1</td>\n",
       "      <td>1.4</td>\n",
       "      <td>93.918</td>\n",
       "      <td>-42.7</td>\n",
       "      <td>4.962</td>\n",
       "      <td>5228.1</td>\n",
       "    </tr>\n",
       "    <tr>\n",
       "      <th>2732</th>\n",
       "      <td>32</td>\n",
       "      <td>9</td>\n",
       "      <td>2</td>\n",
       "      <td>6</td>\n",
       "      <td>0</td>\n",
       "      <td>2</td>\n",
       "      <td>0</td>\n",
       "      <td>0</td>\n",
       "      <td>1</td>\n",
       "      <td>3</td>\n",
       "      <td>645</td>\n",
       "      <td>4</td>\n",
       "      <td>999</td>\n",
       "      <td>0</td>\n",
       "      <td>1</td>\n",
       "      <td>1.4</td>\n",
       "      <td>93.444</td>\n",
       "      <td>-36.1</td>\n",
       "      <td>4.966</td>\n",
       "      <td>5228.1</td>\n",
       "    </tr>\n",
       "  </tbody>\n",
       "</table>\n",
       "<p>3707 rows × 20 columns</p>\n",
       "</div>"
      ],
      "text/plain": [
       "      age  job  marital  education  default  housing  loan  contact  month  \\\n",
       "3261   41    4        1          3        0        0     2        1      6   \n",
       "2542   41    0        1          1        0        0     0        0      0   \n",
       "4014   36    6        2          6        0        2     0        0      7   \n",
       "2030   24    8        2          3        0        0     0        0      6   \n",
       "1431   37    0        1          3        0        1     1        0      3   \n",
       "...   ...  ...      ...        ...      ...      ...   ...      ...    ...   \n",
       "1033   50    4        1          3        1        0     0        1      4   \n",
       "3264   45    1        2          0        1        2     2        0      3   \n",
       "1653   27    0        2          6        0        2     0        0      1   \n",
       "2607   56    1        0          2        0        2     2        0      3   \n",
       "2732   32    9        2          6        0        2     0        0      1   \n",
       "\n",
       "      day_of_week  duration  campaign  pdays  previous  poutcome  \\\n",
       "3261            3       129         2    999         0         1   \n",
       "2542            0      1203         2    999         1         0   \n",
       "4014            1       200         2      4         1         2   \n",
       "2030            1       557         1    999         0         1   \n",
       "1431            2        56         3    999         0         1   \n",
       "...           ...       ...       ...    ...       ...       ...   \n",
       "1033            1        65        17    999         0         1   \n",
       "3264            3        21         3    999         0         1   \n",
       "1653            4       429         2    999         0         1   \n",
       "2607            1       123         3    999         0         1   \n",
       "2732            3       645         4    999         0         1   \n",
       "\n",
       "      emp.var.rate  cons.price.idx  cons.conf.idx  euribor3m  nr.employed  \n",
       "3261           1.1          93.994          -36.4      4.856       5191.0  \n",
       "2542          -1.8          93.075          -47.1      1.479       5099.1  \n",
       "4014          -0.1          93.200          -42.0      4.191       5195.8  \n",
       "2030          -1.8          92.893          -46.2      1.244       5099.1  \n",
       "1431           1.4          93.918          -42.7      4.968       5228.1  \n",
       "...            ...             ...            ...        ...          ...  \n",
       "1033           1.4          94.465          -41.8      4.961       5228.1  \n",
       "3264           1.4          93.918          -42.7      4.961       5228.1  \n",
       "1653          -2.9          92.201          -31.4      0.879       5076.2  \n",
       "2607           1.4          93.918          -42.7      4.962       5228.1  \n",
       "2732           1.4          93.444          -36.1      4.966       5228.1  \n",
       "\n",
       "[3707 rows x 20 columns]"
      ]
     },
     "execution_count": 55,
     "metadata": {},
     "output_type": "execute_result"
    }
   ],
   "source": [
    "X_train"
   ]
  },
  {
   "cell_type": "code",
   "execution_count": 56,
   "id": "6798041e",
   "metadata": {},
   "outputs": [
    {
     "data": {
      "text/plain": [
       "array([ True, False,  True,  True,  True, False,  True, False, False,\n",
       "        True,  True, False,  True, False,  True, False,  True,  True,\n",
       "        True,  True])"
      ]
     },
     "execution_count": 56,
     "metadata": {},
     "output_type": "execute_result"
    }
   ],
   "source": [
    "features"
   ]
  },
  {
   "cell_type": "code",
   "execution_count": 82,
   "id": "0d02fc8a",
   "metadata": {},
   "outputs": [],
   "source": [
    "newdata = data3[['age', 'marital', 'education', 'default','loan','day_of_week', 'duration', 'poutcome', 'cons.conf.idx', 'cons.price.idx', 'nr.employed','y']]"
   ]
  },
  {
   "cell_type": "code",
   "execution_count": null,
   "id": "76740285",
   "metadata": {},
   "outputs": [],
   "source": [
    "#EXPLORING DATA"
   ]
  },
  {
   "cell_type": "code",
   "execution_count": 64,
   "id": "18196bd8",
   "metadata": {},
   "outputs": [],
   "source": [
    "import matplotlib.pyplot as plt\n",
    "import seaborn as sns "
   ]
  },
  {
   "cell_type": "code",
   "execution_count": 66,
   "id": "25b21ee6",
   "metadata": {},
   "outputs": [
    {
     "data": {
      "image/png": "[encoded data removed]",
      "text/plain": [
       "<Figure size 720x216 with 1 Axes>"
      ]
     },
     "metadata": {},
     "output_type": "display_data"
    }
   ],
   "source": [
    "#CHECKING CLASS IMBALANCE\n",
    "fig = plt.figure(figsize = (10,3))\n",
    "fig.add_subplot(1,2,1)\n",
    "a = newdata['y'].value_counts(normalize=True).plot.pie()"
   ]
  },
  {
   "cell_type": "code",
   "execution_count": 75,
   "id": "bb8d019e",
   "metadata": {},
   "outputs": [],
   "source": [
    "#CHECKING MULTICOLLINEARITY\n",
    "\n",
    "corr = newdata.corr()"
   ]
  },
  {
   "cell_type": "code",
   "execution_count": 76,
   "id": "eebe0913",
   "metadata": {},
   "outputs": [
    {
     "data": {
      "text/plain": [
       "[Text(0.5, 1.0, 'Correlation')]"
      ]
     },
     "execution_count": 76,
     "metadata": {},
     "output_type": "execute_result"
    },
    {
     "data": {
      "image/png": "[encoded data removed]",
      "text/plain": [
       "<Figure size 2160x1080 with 2 Axes>"
      ]
     },
     "metadata": {
      "needs_background": "light"
     },
     "output_type": "display_data"
    }
   ],
   "source": [
    "ax = plt.subplots(figsize=(30,15))\n",
    "sns.heatmap(corr, linewidth=1).set(title = 'Correlation')"
   ]
  },
  {
   "cell_type": "code",
   "execution_count": null,
   "id": "33e131c0",
   "metadata": {},
   "outputs": [],
   "source": [
    "##RELATIONSHIP BETWEEEN INDEPENDENT VARIABLES AND TARGET VARIABLES"
   ]
  },
  {
   "cell_type": "code",
   "execution_count": 77,
   "id": "51b6cb07",
   "metadata": {},
   "outputs": [
    {
     "data": {
      "text/html": [
       "<div>\n",
       "<style scoped>\n",
       "    .dataframe tbody tr th:only-of-type {\n",
       "        vertical-align: middle;\n",
       "    }\n",
       "\n",
       "    .dataframe tbody tr th {\n",
       "        vertical-align: top;\n",
       "    }\n",
       "\n",
       "    .dataframe thead th {\n",
       "        text-align: right;\n",
       "    }\n",
       "</style>\n",
       "<table border=\"1\" class=\"dataframe\">\n",
       "  <thead>\n",
       "    <tr style=\"text-align: right;\">\n",
       "      <th></th>\n",
       "      <th>age</th>\n",
       "      <th>marital</th>\n",
       "      <th>education</th>\n",
       "      <th>default</th>\n",
       "      <th>loan</th>\n",
       "      <th>day_of_week</th>\n",
       "      <th>duration</th>\n",
       "      <th>pdays</th>\n",
       "      <th>poutcome</th>\n",
       "      <th>cons.conf.idx</th>\n",
       "      <th>cons.price.idx</th>\n",
       "      <th>nr.employed</th>\n",
       "      <th>y</th>\n",
       "    </tr>\n",
       "  </thead>\n",
       "  <tbody>\n",
       "    <tr>\n",
       "      <th>age</th>\n",
       "      <td>1.000000</td>\n",
       "      <td>-0.393795</td>\n",
       "      <td>-0.125520</td>\n",
       "      <td>0.160562</td>\n",
       "      <td>-0.008605</td>\n",
       "      <td>-0.029297</td>\n",
       "      <td>0.041299</td>\n",
       "      <td>-0.043425</td>\n",
       "      <td>0.012975</td>\n",
       "      <td>0.098135</td>\n",
       "      <td>-0.000482</td>\n",
       "      <td>-0.041936</td>\n",
       "      <td>0.060374</td>\n",
       "    </tr>\n",
       "    <tr>\n",
       "      <th>marital</th>\n",
       "      <td>-0.393795</td>\n",
       "      <td>1.000000</td>\n",
       "      <td>0.104367</td>\n",
       "      <td>-0.082149</td>\n",
       "      <td>-0.005926</td>\n",
       "      <td>0.007184</td>\n",
       "      <td>-0.005602</td>\n",
       "      <td>-0.040722</td>\n",
       "      <td>0.001310</td>\n",
       "      <td>-0.020724</td>\n",
       "      <td>-0.046708</td>\n",
       "      <td>-0.075167</td>\n",
       "      <td>0.043833</td>\n",
       "    </tr>\n",
       "    <tr>\n",
       "      <th>education</th>\n",
       "      <td>-0.125520</td>\n",
       "      <td>0.104367</td>\n",
       "      <td>1.000000</td>\n",
       "      <td>-0.200550</td>\n",
       "      <td>-0.021281</td>\n",
       "      <td>-0.042302</td>\n",
       "      <td>0.000016</td>\n",
       "      <td>-0.060828</td>\n",
       "      <td>0.029832</td>\n",
       "      <td>0.112925</td>\n",
       "      <td>-0.086454</td>\n",
       "      <td>-0.062012</td>\n",
       "      <td>0.067316</td>\n",
       "    </tr>\n",
       "    <tr>\n",
       "      <th>default</th>\n",
       "      <td>0.160562</td>\n",
       "      <td>-0.082149</td>\n",
       "      <td>-0.200550</td>\n",
       "      <td>1.000000</td>\n",
       "      <td>0.007872</td>\n",
       "      <td>-0.014882</td>\n",
       "      <td>-0.020449</td>\n",
       "      <td>0.089457</td>\n",
       "      <td>-0.000039</td>\n",
       "      <td>0.021327</td>\n",
       "      <td>0.161372</td>\n",
       "      <td>0.167660</td>\n",
       "      <td>-0.076627</td>\n",
       "    </tr>\n",
       "    <tr>\n",
       "      <th>loan</th>\n",
       "      <td>-0.008605</td>\n",
       "      <td>-0.005926</td>\n",
       "      <td>-0.021281</td>\n",
       "      <td>0.007872</td>\n",
       "      <td>1.000000</td>\n",
       "      <td>0.002608</td>\n",
       "      <td>-0.019348</td>\n",
       "      <td>0.006321</td>\n",
       "      <td>0.006759</td>\n",
       "      <td>0.004077</td>\n",
       "      <td>-0.014750</td>\n",
       "      <td>0.016286</td>\n",
       "      <td>-0.012709</td>\n",
       "    </tr>\n",
       "    <tr>\n",
       "      <th>day_of_week</th>\n",
       "      <td>-0.029297</td>\n",
       "      <td>0.007184</td>\n",
       "      <td>-0.042302</td>\n",
       "      <td>-0.014882</td>\n",
       "      <td>0.002608</td>\n",
       "      <td>1.000000</td>\n",
       "      <td>0.006085</td>\n",
       "      <td>0.013141</td>\n",
       "      <td>-0.001393</td>\n",
       "      <td>0.038252</td>\n",
       "      <td>-0.008207</td>\n",
       "      <td>0.036573</td>\n",
       "      <td>-0.006370</td>\n",
       "    </tr>\n",
       "    <tr>\n",
       "      <th>duration</th>\n",
       "      <td>0.041299</td>\n",
       "      <td>-0.005602</td>\n",
       "      <td>0.000016</td>\n",
       "      <td>-0.020449</td>\n",
       "      <td>-0.019348</td>\n",
       "      <td>0.006085</td>\n",
       "      <td>1.000000</td>\n",
       "      <td>-0.046998</td>\n",
       "      <td>0.025115</td>\n",
       "      <td>-0.034745</td>\n",
       "      <td>0.016672</td>\n",
       "      <td>-0.044218</td>\n",
       "      <td>0.418565</td>\n",
       "    </tr>\n",
       "    <tr>\n",
       "      <th>pdays</th>\n",
       "      <td>-0.043425</td>\n",
       "      <td>-0.040722</td>\n",
       "      <td>-0.060828</td>\n",
       "      <td>0.089457</td>\n",
       "      <td>0.006321</td>\n",
       "      <td>0.013141</td>\n",
       "      <td>-0.046998</td>\n",
       "      <td>1.000000</td>\n",
       "      <td>-0.459420</td>\n",
       "      <td>-0.092090</td>\n",
       "      <td>0.058472</td>\n",
       "      <td>0.381983</td>\n",
       "      <td>-0.332012</td>\n",
       "    </tr>\n",
       "    <tr>\n",
       "      <th>poutcome</th>\n",
       "      <td>0.012975</td>\n",
       "      <td>0.001310</td>\n",
       "      <td>0.029832</td>\n",
       "      <td>-0.000039</td>\n",
       "      <td>0.006759</td>\n",
       "      <td>-0.001393</td>\n",
       "      <td>0.025115</td>\n",
       "      <td>-0.459420</td>\n",
       "      <td>1.000000</td>\n",
       "      <td>0.180112</td>\n",
       "      <td>0.214508</td>\n",
       "      <td>0.133546</td>\n",
       "      <td>0.123395</td>\n",
       "    </tr>\n",
       "    <tr>\n",
       "      <th>cons.conf.idx</th>\n",
       "      <td>0.098135</td>\n",
       "      <td>-0.020724</td>\n",
       "      <td>0.112925</td>\n",
       "      <td>0.021327</td>\n",
       "      <td>0.004077</td>\n",
       "      <td>0.038252</td>\n",
       "      <td>-0.034745</td>\n",
       "      <td>-0.092090</td>\n",
       "      <td>0.180112</td>\n",
       "      <td>1.000000</td>\n",
       "      <td>0.045835</td>\n",
       "      <td>0.107054</td>\n",
       "      <td>0.054393</td>\n",
       "    </tr>\n",
       "    <tr>\n",
       "      <th>cons.price.idx</th>\n",
       "      <td>-0.000482</td>\n",
       "      <td>-0.046708</td>\n",
       "      <td>-0.086454</td>\n",
       "      <td>0.161372</td>\n",
       "      <td>-0.014750</td>\n",
       "      <td>-0.008207</td>\n",
       "      <td>0.016672</td>\n",
       "      <td>0.058472</td>\n",
       "      <td>0.214508</td>\n",
       "      <td>0.045835</td>\n",
       "      <td>1.000000</td>\n",
       "      <td>0.472560</td>\n",
       "      <td>-0.098326</td>\n",
       "    </tr>\n",
       "    <tr>\n",
       "      <th>nr.employed</th>\n",
       "      <td>-0.041936</td>\n",
       "      <td>-0.075167</td>\n",
       "      <td>-0.062012</td>\n",
       "      <td>0.167660</td>\n",
       "      <td>0.016286</td>\n",
       "      <td>0.036573</td>\n",
       "      <td>-0.044218</td>\n",
       "      <td>0.381983</td>\n",
       "      <td>0.133546</td>\n",
       "      <td>0.107054</td>\n",
       "      <td>0.472560</td>\n",
       "      <td>1.000000</td>\n",
       "      <td>-0.349241</td>\n",
       "    </tr>\n",
       "    <tr>\n",
       "      <th>y</th>\n",
       "      <td>0.060374</td>\n",
       "      <td>0.043833</td>\n",
       "      <td>0.067316</td>\n",
       "      <td>-0.076627</td>\n",
       "      <td>-0.012709</td>\n",
       "      <td>-0.006370</td>\n",
       "      <td>0.418565</td>\n",
       "      <td>-0.332012</td>\n",
       "      <td>0.123395</td>\n",
       "      <td>0.054393</td>\n",
       "      <td>-0.098326</td>\n",
       "      <td>-0.349241</td>\n",
       "      <td>1.000000</td>\n",
       "    </tr>\n",
       "  </tbody>\n",
       "</table>\n",
       "</div>"
      ],
      "text/plain": [
       "                     age   marital  education   default      loan  \\\n",
       "age             1.000000 -0.393795  -0.125520  0.160562 -0.008605   \n",
       "marital        -0.393795  1.000000   0.104367 -0.082149 -0.005926   \n",
       "education      -0.125520  0.104367   1.000000 -0.200550 -0.021281   \n",
       "default         0.160562 -0.082149  -0.200550  1.000000  0.007872   \n",
       "loan           -0.008605 -0.005926  -0.021281  0.007872  1.000000   \n",
       "day_of_week    -0.029297  0.007184  -0.042302 -0.014882  0.002608   \n",
       "duration        0.041299 -0.005602   0.000016 -0.020449 -0.019348   \n",
       "pdays          -0.043425 -0.040722  -0.060828  0.089457  0.006321   \n",
       "poutcome        0.012975  0.001310   0.029832 -0.000039  0.006759   \n",
       "cons.conf.idx   0.098135 -0.020724   0.112925  0.021327  0.004077   \n",
       "cons.price.idx -0.000482 -0.046708  -0.086454  0.161372 -0.014750   \n",
       "nr.employed    -0.041936 -0.075167  -0.062012  0.167660  0.016286   \n",
       "y               0.060374  0.043833   0.067316 -0.076627 -0.012709   \n",
       "\n",
       "                day_of_week  duration     pdays  poutcome  cons.conf.idx  \\\n",
       "age               -0.029297  0.041299 -0.043425  0.012975       0.098135   \n",
       "marital            0.007184 -0.005602 -0.040722  0.001310      -0.020724   \n",
       "education         -0.042302  0.000016 -0.060828  0.029832       0.112925   \n",
       "default           -0.014882 -0.020449  0.089457 -0.000039       0.021327   \n",
       "loan               0.002608 -0.019348  0.006321  0.006759       0.004077   \n",
       "day_of_week        1.000000  0.006085  0.013141 -0.001393       0.038252   \n",
       "duration           0.006085  1.000000 -0.046998  0.025115      -0.034745   \n",
       "pdays              0.013141 -0.046998  1.000000 -0.459420      -0.092090   \n",
       "poutcome          -0.001393  0.025115 -0.459420  1.000000       0.180112   \n",
       "cons.conf.idx      0.038252 -0.034745 -0.092090  0.180112       1.000000   \n",
       "cons.price.idx    -0.008207  0.016672  0.058472  0.214508       0.045835   \n",
       "nr.employed        0.036573 -0.044218  0.381983  0.133546       0.107054   \n",
       "y                 -0.006370  0.418565 -0.332012  0.123395       0.054393   \n",
       "\n",
       "                cons.price.idx  nr.employed         y  \n",
       "age                  -0.000482    -0.041936  0.060374  \n",
       "marital              -0.046708    -0.075167  0.043833  \n",
       "education            -0.086454    -0.062012  0.067316  \n",
       "default               0.161372     0.167660 -0.076627  \n",
       "loan                 -0.014750     0.016286 -0.012709  \n",
       "day_of_week          -0.008207     0.036573 -0.006370  \n",
       "duration              0.016672    -0.044218  0.418565  \n",
       "pdays                 0.058472     0.381983 -0.332012  \n",
       "poutcome              0.214508     0.133546  0.123395  \n",
       "cons.conf.idx         0.045835     0.107054  0.054393  \n",
       "cons.price.idx        1.000000     0.472560 -0.098326  \n",
       "nr.employed           0.472560     1.000000 -0.349241  \n",
       "y                    -0.098326    -0.349241  1.000000  "
      ]
     },
     "execution_count": 77,
     "metadata": {},
     "output_type": "execute_result"
    }
   ],
   "source": [
    "corr"
   ]
  },
  {
   "cell_type": "code",
   "execution_count": 84,
   "id": "7bf9583f",
   "metadata": {},
   "outputs": [
    {
     "data": {
      "image/png": "[encoded data removed]",
      "text/plain": [
       "<Figure size 720x360 with 3 Axes>"
      ]
     },
     "metadata": {
      "needs_background": "light"
     },
     "output_type": "display_data"
    }
   ],
   "source": [
    "fig = plt.figure(figsize=(10,5))\n",
    "fig.add_subplot(1,3,1)\n",
    "ar = sns.boxplot(x=newdata['y'], y=newdata['duration'])\n",
    "fig.add_subplot(1,3,2)\n",
    "ar = sns.boxplot(x=newdata['y'], y=newdata['nr.employed'])\n",
    "fig.add_subplot(1,3,3)\n",
    "ar = sns.boxplot(x=newdata['y'], y=newdata['age'])\n"
   ]
  },
  {
   "cell_type": "code",
   "execution_count": 85,
   "id": "3278c537",
   "metadata": {},
   "outputs": [
    {
     "data": {
      "text/plain": [
       "array([[<AxesSubplot:title={'center':'age'}>,\n",
       "        <AxesSubplot:title={'center':'marital'}>,\n",
       "        <AxesSubplot:title={'center':'education'}>,\n",
       "        <AxesSubplot:title={'center':'default'}>,\n",
       "        <AxesSubplot:title={'center':'loan'}>,\n",
       "        <AxesSubplot:title={'center':'day_of_week'}>,\n",
       "        <AxesSubplot:title={'center':'duration'}>],\n",
       "       [<AxesSubplot:title={'center':'poutcome'}>,\n",
       "        <AxesSubplot:title={'center':'cons.conf.idx'}>,\n",
       "        <AxesSubplot:title={'center':'cons.price.idx'}>,\n",
       "        <AxesSubplot:title={'center':'nr.employed'}>,\n",
       "        <AxesSubplot:title={'center':'y'}>, <AxesSubplot:>,\n",
       "        <AxesSubplot:>],\n",
       "       [<AxesSubplot:>, <AxesSubplot:>, <AxesSubplot:>, <AxesSubplot:>,\n",
       "        <AxesSubplot:>, <AxesSubplot:>, <AxesSubplot:>],\n",
       "       [<AxesSubplot:>, <AxesSubplot:>, <AxesSubplot:>, <AxesSubplot:>,\n",
       "        <AxesSubplot:>, <AxesSubplot:>, <AxesSubplot:>],\n",
       "       [<AxesSubplot:>, <AxesSubplot:>, <AxesSubplot:>, <AxesSubplot:>,\n",
       "        <AxesSubplot:>, <AxesSubplot:>, <AxesSubplot:>]], dtype=object)"
      ]
     },
     "execution_count": 85,
     "metadata": {},
     "output_type": "execute_result"
    },
    {
     "data": {
      "image/png": "[encoded data removed]",
      "text/plain": [
       "<Figure size 1296x936 with 35 Axes>"
      ]
     },
     "metadata": {
      "needs_background": "light"
     },
     "output_type": "display_data"
    }
   ],
   "source": [
    "##INVESTIGATE OUR DATA DISTRIBUTION\n",
    "\n",
    "#Note that logistic regression does not assume the data to be normal/gaussian\n",
    "#This however may be useful to check in your future work\n",
    "#There are many statistical tests that we can use to check for normality but one quick and easy way to do this is by\n",
    "#visual inspection by plotting a histogram\n",
    "\n",
    "newdata.hist(layout = (5,7), figsize = (18, 13))"
   ]
  },
  {
   "cell_type": "code",
   "execution_count": null,
   "id": "ff2da30e",
   "metadata": {},
   "outputs": [],
   "source": [
    "#SCALING\n",
    "\n",
    "#Logistic regression uses Gradient Descent as one of the approaches for obtaining the best results,\n",
    "#and feature scaling helps to speed up the gradient descent convergence process\n",
    "\n",
    "#When we have features that vary greatly in magnitude, the algorithm assumes that\n",
    "#that features with a large magnitude are more important than ones with a small magnitude\n",
    "#as a results when we train the model, this is not optimal.\n",
    "\n",
    "#Scaling puts the values in our in a certain range, and can also normalise our data depending on the method we use."
   ]
  },
  {
   "cell_type": "code",
   "execution_count": 86,
   "id": "fae57903",
   "metadata": {},
   "outputs": [],
   "source": [
    "from sklearn.preprocessing import StandardScaler"
   ]
  },
  {
   "cell_type": "code",
   "execution_count": 87,
   "id": "61eeed07",
   "metadata": {},
   "outputs": [],
   "source": [
    "scale = StandardScaler()"
   ]
  },
  {
   "cell_type": "code",
   "execution_count": 88,
   "id": "1f831c8e",
   "metadata": {},
   "outputs": [],
   "source": [
    "X = newdata.drop(['y'], axis=1)\n",
    "Y = newdata.y"
   ]
  },
  {
   "cell_type": "code",
   "execution_count": 90,
   "id": "c7da5723",
   "metadata": {},
   "outputs": [],
   "source": [
    "X = scale.fit_transform(X)"
   ]
  },
  {
   "cell_type": "code",
   "execution_count": null,
   "id": "de6b7be9",
   "metadata": {},
   "outputs": [],
   "source": [
    "#MODEL BUILDING - LOGISTIC REGRESSION"
   ]
  },
  {
   "cell_type": "code",
   "execution_count": 93,
   "id": "96bcdf62",
   "metadata": {},
   "outputs": [],
   "source": [
    "X_train, X_test, y_train, y_test = train_test_split(X, Y, test_size = 0.1, random_state = 0)"
   ]
  },
  {
   "cell_type": "code",
   "execution_count": 94,
   "id": "db941239",
   "metadata": {},
   "outputs": [],
   "source": [
    "from sklearn.linear_model import LogisticRegression"
   ]
  },
  {
   "cell_type": "code",
   "execution_count": 95,
   "id": "250525f5",
   "metadata": {},
   "outputs": [],
   "source": [
    "model2 = LogisticRegression(class_weight={0:0.2,1:0.8})"
   ]
  },
  {
   "cell_type": "code",
   "execution_count": 96,
   "id": "4c7f8753",
   "metadata": {},
   "outputs": [
    {
     "data": {
      "text/plain": [
       "LogisticRegression(class_weight={0: 0.2, 1: 0.8})"
      ]
     },
     "execution_count": 96,
     "metadata": {},
     "output_type": "execute_result"
    }
   ],
   "source": [
    "model2.fit(X_train, y_train)"
   ]
  },
  {
   "cell_type": "code",
   "execution_count": 97,
   "id": "375243c7",
   "metadata": {},
   "outputs": [],
   "source": [
    "prediction = model2.predict(X_test)"
   ]
  },
  {
   "cell_type": "code",
   "execution_count": 99,
   "id": "c3a260de",
   "metadata": {},
   "outputs": [
    {
     "data": {
      "text/plain": [
       "array([0, 1, 0, 0, 0, 0, 0, 0, 0, 0, 0, 0, 0, 1, 0, 0, 0, 0, 0, 0, 0, 0,\n",
       "       1, 0, 0, 0, 0, 0, 0, 0, 0, 0, 0, 0, 0, 0, 0, 0, 1, 1, 0, 0, 0, 0,\n",
       "       0, 0, 0, 0, 0, 0, 0, 0, 0, 0, 0, 0, 0, 0, 0, 0, 0, 0, 0, 0, 1, 0,\n",
       "       0, 0, 0, 0, 0, 0, 0, 0, 0, 0, 0, 0, 0, 0, 0, 0, 1, 0, 1, 0, 0, 0,\n",
       "       0, 1, 0, 0, 0, 0, 0, 0, 0, 1, 0, 0, 0, 0, 0, 0, 0, 0, 0, 0, 0, 0,\n",
       "       0, 0, 0, 0, 0, 0, 0, 0, 1, 0, 0, 0, 0, 0, 1, 1, 0, 0, 0, 0, 0, 0,\n",
       "       1, 1, 0, 0, 0, 1, 1, 0, 0, 0, 0, 0, 0, 1, 1, 0, 0, 0, 0, 0, 0, 0,\n",
       "       0, 0, 1, 0, 0, 0, 0, 1, 0, 0, 0, 0, 0, 0, 0, 0, 0, 0, 0, 0, 0, 0,\n",
       "       0, 0, 1, 0, 0, 0, 1, 0, 0, 0, 0, 0, 0, 0, 0, 0, 1, 1, 0, 0, 0, 1,\n",
       "       1, 0, 0, 0, 0, 0, 0, 0, 0, 0, 1, 0, 0, 1, 0, 0, 0, 0, 0, 1, 0, 0,\n",
       "       0, 0, 0, 0, 1, 0, 0, 0, 0, 0, 0, 0, 0, 0, 0, 0, 0, 0, 0, 0, 0, 0,\n",
       "       0, 1, 0, 1, 0, 0, 0, 1, 0, 0, 0, 0, 0, 1, 0, 0, 0, 0, 1, 0, 1, 0,\n",
       "       0, 0, 0, 0, 0, 0, 0, 0, 0, 0, 0, 0, 0, 0, 0, 0, 0, 0, 0, 0, 0, 0,\n",
       "       0, 1, 0, 0, 0, 0, 0, 0, 0, 1, 0, 0, 0, 0, 0, 0, 0, 0, 0, 0, 0, 0,\n",
       "       0, 0, 0, 0, 1, 0, 0, 0, 1, 0, 1, 0, 0, 0, 0, 0, 0, 0, 0, 0, 1, 1,\n",
       "       0, 0, 0, 1, 0, 0, 0, 0, 1, 0, 0, 1, 0, 0, 0, 0, 0, 0, 0, 0, 0, 0,\n",
       "       0, 0, 0, 0, 0, 0, 0, 0, 1, 0, 1, 0, 0, 0, 0, 0, 0, 0, 0, 0, 1, 0,\n",
       "       0, 0, 0, 0, 1, 0, 0, 0, 0, 0, 1, 0, 0, 0, 1, 0, 0, 1, 1, 0, 0, 0,\n",
       "       0, 0, 0, 0, 1, 0, 0, 0, 0, 0, 0, 0, 0, 0, 0, 0], dtype=uint8)"
      ]
     },
     "execution_count": 99,
     "metadata": {},
     "output_type": "execute_result"
    }
   ],
   "source": [
    "prediction"
   ]
  },
  {
   "cell_type": "code",
   "execution_count": 100,
   "id": "474d19f9",
   "metadata": {},
   "outputs": [],
   "source": [
    "##MODEL EVALUATION"
   ]
  },
  {
   "cell_type": "code",
   "execution_count": 101,
   "id": "75df9b97",
   "metadata": {},
   "outputs": [],
   "source": [
    "from sklearn.metrics import confusion_matrix"
   ]
  },
  {
   "cell_type": "code",
   "execution_count": 102,
   "id": "65b8febc",
   "metadata": {},
   "outputs": [
    {
     "data": {
      "text/plain": [
       "array([[341,  34],\n",
       "       [ 15,  22]], dtype=int64)"
      ]
     },
     "execution_count": 102,
     "metadata": {},
     "output_type": "execute_result"
    }
   ],
   "source": [
    "#CONFUSION MATRIX\n",
    "\n",
    "confusion_matrix(y_test, prediction)"
   ]
  },
  {
   "cell_type": "code",
   "execution_count": 103,
   "id": "92c922bb",
   "metadata": {},
   "outputs": [],
   "source": [
    "#PRECISION\n",
    "\n",
    "from sklearn.metrics import precision_score"
   ]
  },
  {
   "cell_type": "code",
   "execution_count": 104,
   "id": "30462b7b",
   "metadata": {},
   "outputs": [
    {
     "data": {
      "text/plain": [
       "0.39285714285714285"
      ]
     },
     "execution_count": 104,
     "metadata": {},
     "output_type": "execute_result"
    }
   ],
   "source": [
    "precision_score(y_test, prediction)"
   ]
  },
  {
   "cell_type": "code",
   "execution_count": 105,
   "id": "76ad9686",
   "metadata": {},
   "outputs": [],
   "source": [
    "#RECALL\n",
    "\n",
    "from sklearn.metrics import recall_score"
   ]
  },
  {
   "cell_type": "code",
   "execution_count": 106,
   "id": "32133ee7",
   "metadata": {},
   "outputs": [
    {
     "data": {
      "text/plain": [
       "0.5945945945945946"
      ]
     },
     "execution_count": 106,
     "metadata": {},
     "output_type": "execute_result"
    }
   ],
   "source": [
    "recall_score(y_test, prediction)"
   ]
  },
  {
   "cell_type": "code",
   "execution_count": 107,
   "id": "c5de1557",
   "metadata": {},
   "outputs": [],
   "source": [
    "#F1 measure\n",
    "\n",
    "from sklearn.metrics import f1_score"
   ]
  },
  {
   "cell_type": "code",
   "execution_count": 108,
   "id": "8f1f4636",
   "metadata": {},
   "outputs": [
    {
     "data": {
      "text/plain": [
       "0.47311827956989244"
      ]
     },
     "execution_count": 108,
     "metadata": {},
     "output_type": "execute_result"
    }
   ],
   "source": [
    "f1_score(y_test, prediction)"
   ]
  },
  {
   "cell_type": "code",
   "execution_count": null,
   "id": "dc8d3b02",
   "metadata": {},
   "outputs": [],
   "source": []
  }
 ],
 "metadata": {
  "kernelspec": {
   "display_name": "Python 3 (ipykernel)",
   "language": "python",
   "name": "python3"
  },
  "language_info": {
   "codemirror_mode": {
    "name": "ipython",
    "version": 3
   },
   "file_extension": ".py",
   "mimetype": "text/x-python",
   "name": "python",
   "nbconvert_exporter": "python",
   "pygments_lexer": "ipython3",
   "version": "3.9.0"
  }
 },
 "nbformat": 4,
 "nbformat_minor": 5
}
