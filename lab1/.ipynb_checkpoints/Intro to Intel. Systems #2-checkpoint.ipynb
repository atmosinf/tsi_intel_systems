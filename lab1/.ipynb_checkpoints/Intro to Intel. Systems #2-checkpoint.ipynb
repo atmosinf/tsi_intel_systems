{
 "cells": [
  {
   "cell_type": "code",
   "execution_count": 1,
   "id": "91596f7f",
   "metadata": {},
   "outputs": [],
   "source": [
    "#import pandas to handle our data\n",
    "import pandas as pd"
   ]
  },
  {
   "cell_type": "code",
   "execution_count": 3,
   "id": "394a10b4",
   "metadata": {},
   "outputs": [],
   "source": [
    "#import data and view all columns\n",
    "data = pd.read_csv(r'C:/Users/HP/Downloads/bank-additional.csv', delimiter = ';')\n",
    "pd.set_option(\"display.max_columns\", None)"
   ]
  },
  {
   "cell_type": "code",
   "execution_count": 4,
   "id": "25491e8a",
   "metadata": {},
   "outputs": [
    {
     "data": {
      "text/html": [
       "<div>\n",
       "<style scoped>\n",
       "    .dataframe tbody tr th:only-of-type {\n",
       "        vertical-align: middle;\n",
       "    }\n",
       "\n",
       "    .dataframe tbody tr th {\n",
       "        vertical-align: top;\n",
       "    }\n",
       "\n",
       "    .dataframe thead th {\n",
       "        text-align: right;\n",
       "    }\n",
       "</style>\n",
       "<table border=\"1\" class=\"dataframe\">\n",
       "  <thead>\n",
       "    <tr style=\"text-align: right;\">\n",
       "      <th></th>\n",
       "      <th>age</th>\n",
       "      <th>job</th>\n",
       "      <th>marital</th>\n",
       "      <th>education</th>\n",
       "      <th>default</th>\n",
       "      <th>housing</th>\n",
       "      <th>loan</th>\n",
       "      <th>contact</th>\n",
       "      <th>month</th>\n",
       "      <th>day_of_week</th>\n",
       "      <th>duration</th>\n",
       "      <th>campaign</th>\n",
       "      <th>pdays</th>\n",
       "      <th>previous</th>\n",
       "      <th>poutcome</th>\n",
       "      <th>emp.var.rate</th>\n",
       "      <th>cons.price.idx</th>\n",
       "      <th>cons.conf.idx</th>\n",
       "      <th>euribor3m</th>\n",
       "      <th>nr.employed</th>\n",
       "      <th>y</th>\n",
       "    </tr>\n",
       "  </thead>\n",
       "  <tbody>\n",
       "    <tr>\n",
       "      <th>0</th>\n",
       "      <td>30</td>\n",
       "      <td>blue-collar</td>\n",
       "      <td>married</td>\n",
       "      <td>basic.9y</td>\n",
       "      <td>no</td>\n",
       "      <td>yes</td>\n",
       "      <td>no</td>\n",
       "      <td>cellular</td>\n",
       "      <td>may</td>\n",
       "      <td>fri</td>\n",
       "      <td>487</td>\n",
       "      <td>2</td>\n",
       "      <td>999</td>\n",
       "      <td>0</td>\n",
       "      <td>nonexistent</td>\n",
       "      <td>-1.8</td>\n",
       "      <td>92.893</td>\n",
       "      <td>-46.2</td>\n",
       "      <td>1.313</td>\n",
       "      <td>5099.1</td>\n",
       "      <td>no</td>\n",
       "    </tr>\n",
       "    <tr>\n",
       "      <th>1</th>\n",
       "      <td>39</td>\n",
       "      <td>services</td>\n",
       "      <td>single</td>\n",
       "      <td>high.school</td>\n",
       "      <td>no</td>\n",
       "      <td>no</td>\n",
       "      <td>no</td>\n",
       "      <td>telephone</td>\n",
       "      <td>may</td>\n",
       "      <td>fri</td>\n",
       "      <td>346</td>\n",
       "      <td>4</td>\n",
       "      <td>999</td>\n",
       "      <td>0</td>\n",
       "      <td>nonexistent</td>\n",
       "      <td>1.1</td>\n",
       "      <td>93.994</td>\n",
       "      <td>-36.4</td>\n",
       "      <td>4.855</td>\n",
       "      <td>5191.0</td>\n",
       "      <td>no</td>\n",
       "    </tr>\n",
       "    <tr>\n",
       "      <th>2</th>\n",
       "      <td>25</td>\n",
       "      <td>services</td>\n",
       "      <td>married</td>\n",
       "      <td>high.school</td>\n",
       "      <td>no</td>\n",
       "      <td>yes</td>\n",
       "      <td>no</td>\n",
       "      <td>telephone</td>\n",
       "      <td>jun</td>\n",
       "      <td>wed</td>\n",
       "      <td>227</td>\n",
       "      <td>1</td>\n",
       "      <td>999</td>\n",
       "      <td>0</td>\n",
       "      <td>nonexistent</td>\n",
       "      <td>1.4</td>\n",
       "      <td>94.465</td>\n",
       "      <td>-41.8</td>\n",
       "      <td>4.962</td>\n",
       "      <td>5228.1</td>\n",
       "      <td>no</td>\n",
       "    </tr>\n",
       "    <tr>\n",
       "      <th>3</th>\n",
       "      <td>38</td>\n",
       "      <td>services</td>\n",
       "      <td>married</td>\n",
       "      <td>basic.9y</td>\n",
       "      <td>no</td>\n",
       "      <td>unknown</td>\n",
       "      <td>unknown</td>\n",
       "      <td>telephone</td>\n",
       "      <td>jun</td>\n",
       "      <td>fri</td>\n",
       "      <td>17</td>\n",
       "      <td>3</td>\n",
       "      <td>999</td>\n",
       "      <td>0</td>\n",
       "      <td>nonexistent</td>\n",
       "      <td>1.4</td>\n",
       "      <td>94.465</td>\n",
       "      <td>-41.8</td>\n",
       "      <td>4.959</td>\n",
       "      <td>5228.1</td>\n",
       "      <td>no</td>\n",
       "    </tr>\n",
       "    <tr>\n",
       "      <th>4</th>\n",
       "      <td>47</td>\n",
       "      <td>admin.</td>\n",
       "      <td>married</td>\n",
       "      <td>university.degree</td>\n",
       "      <td>no</td>\n",
       "      <td>yes</td>\n",
       "      <td>no</td>\n",
       "      <td>cellular</td>\n",
       "      <td>nov</td>\n",
       "      <td>mon</td>\n",
       "      <td>58</td>\n",
       "      <td>1</td>\n",
       "      <td>999</td>\n",
       "      <td>0</td>\n",
       "      <td>nonexistent</td>\n",
       "      <td>-0.1</td>\n",
       "      <td>93.200</td>\n",
       "      <td>-42.0</td>\n",
       "      <td>4.191</td>\n",
       "      <td>5195.8</td>\n",
       "      <td>no</td>\n",
       "    </tr>\n",
       "    <tr>\n",
       "      <th>...</th>\n",
       "      <td>...</td>\n",
       "      <td>...</td>\n",
       "      <td>...</td>\n",
       "      <td>...</td>\n",
       "      <td>...</td>\n",
       "      <td>...</td>\n",
       "      <td>...</td>\n",
       "      <td>...</td>\n",
       "      <td>...</td>\n",
       "      <td>...</td>\n",
       "      <td>...</td>\n",
       "      <td>...</td>\n",
       "      <td>...</td>\n",
       "      <td>...</td>\n",
       "      <td>...</td>\n",
       "      <td>...</td>\n",
       "      <td>...</td>\n",
       "      <td>...</td>\n",
       "      <td>...</td>\n",
       "      <td>...</td>\n",
       "      <td>...</td>\n",
       "    </tr>\n",
       "    <tr>\n",
       "      <th>4114</th>\n",
       "      <td>30</td>\n",
       "      <td>admin.</td>\n",
       "      <td>married</td>\n",
       "      <td>basic.6y</td>\n",
       "      <td>no</td>\n",
       "      <td>yes</td>\n",
       "      <td>yes</td>\n",
       "      <td>cellular</td>\n",
       "      <td>jul</td>\n",
       "      <td>thu</td>\n",
       "      <td>53</td>\n",
       "      <td>1</td>\n",
       "      <td>999</td>\n",
       "      <td>0</td>\n",
       "      <td>nonexistent</td>\n",
       "      <td>1.4</td>\n",
       "      <td>93.918</td>\n",
       "      <td>-42.7</td>\n",
       "      <td>4.958</td>\n",
       "      <td>5228.1</td>\n",
       "      <td>no</td>\n",
       "    </tr>\n",
       "    <tr>\n",
       "      <th>4115</th>\n",
       "      <td>39</td>\n",
       "      <td>admin.</td>\n",
       "      <td>married</td>\n",
       "      <td>high.school</td>\n",
       "      <td>no</td>\n",
       "      <td>yes</td>\n",
       "      <td>no</td>\n",
       "      <td>telephone</td>\n",
       "      <td>jul</td>\n",
       "      <td>fri</td>\n",
       "      <td>219</td>\n",
       "      <td>1</td>\n",
       "      <td>999</td>\n",
       "      <td>0</td>\n",
       "      <td>nonexistent</td>\n",
       "      <td>1.4</td>\n",
       "      <td>93.918</td>\n",
       "      <td>-42.7</td>\n",
       "      <td>4.959</td>\n",
       "      <td>5228.1</td>\n",
       "      <td>no</td>\n",
       "    </tr>\n",
       "    <tr>\n",
       "      <th>4116</th>\n",
       "      <td>27</td>\n",
       "      <td>student</td>\n",
       "      <td>single</td>\n",
       "      <td>high.school</td>\n",
       "      <td>no</td>\n",
       "      <td>no</td>\n",
       "      <td>no</td>\n",
       "      <td>cellular</td>\n",
       "      <td>may</td>\n",
       "      <td>mon</td>\n",
       "      <td>64</td>\n",
       "      <td>2</td>\n",
       "      <td>999</td>\n",
       "      <td>1</td>\n",
       "      <td>failure</td>\n",
       "      <td>-1.8</td>\n",
       "      <td>92.893</td>\n",
       "      <td>-46.2</td>\n",
       "      <td>1.354</td>\n",
       "      <td>5099.1</td>\n",
       "      <td>no</td>\n",
       "    </tr>\n",
       "    <tr>\n",
       "      <th>4117</th>\n",
       "      <td>58</td>\n",
       "      <td>admin.</td>\n",
       "      <td>married</td>\n",
       "      <td>high.school</td>\n",
       "      <td>no</td>\n",
       "      <td>no</td>\n",
       "      <td>no</td>\n",
       "      <td>cellular</td>\n",
       "      <td>aug</td>\n",
       "      <td>fri</td>\n",
       "      <td>528</td>\n",
       "      <td>1</td>\n",
       "      <td>999</td>\n",
       "      <td>0</td>\n",
       "      <td>nonexistent</td>\n",
       "      <td>1.4</td>\n",
       "      <td>93.444</td>\n",
       "      <td>-36.1</td>\n",
       "      <td>4.966</td>\n",
       "      <td>5228.1</td>\n",
       "      <td>no</td>\n",
       "    </tr>\n",
       "    <tr>\n",
       "      <th>4118</th>\n",
       "      <td>34</td>\n",
       "      <td>management</td>\n",
       "      <td>single</td>\n",
       "      <td>high.school</td>\n",
       "      <td>no</td>\n",
       "      <td>yes</td>\n",
       "      <td>no</td>\n",
       "      <td>cellular</td>\n",
       "      <td>nov</td>\n",
       "      <td>wed</td>\n",
       "      <td>175</td>\n",
       "      <td>1</td>\n",
       "      <td>999</td>\n",
       "      <td>0</td>\n",
       "      <td>nonexistent</td>\n",
       "      <td>-0.1</td>\n",
       "      <td>93.200</td>\n",
       "      <td>-42.0</td>\n",
       "      <td>4.120</td>\n",
       "      <td>5195.8</td>\n",
       "      <td>no</td>\n",
       "    </tr>\n",
       "  </tbody>\n",
       "</table>\n",
       "<p>4119 rows × 21 columns</p>\n",
       "</div>"
      ],
      "text/plain": [
       "      age          job  marital          education default  housing     loan  \\\n",
       "0      30  blue-collar  married           basic.9y      no      yes       no   \n",
       "1      39     services   single        high.school      no       no       no   \n",
       "2      25     services  married        high.school      no      yes       no   \n",
       "3      38     services  married           basic.9y      no  unknown  unknown   \n",
       "4      47       admin.  married  university.degree      no      yes       no   \n",
       "...   ...          ...      ...                ...     ...      ...      ...   \n",
       "4114   30       admin.  married           basic.6y      no      yes      yes   \n",
       "4115   39       admin.  married        high.school      no      yes       no   \n",
       "4116   27      student   single        high.school      no       no       no   \n",
       "4117   58       admin.  married        high.school      no       no       no   \n",
       "4118   34   management   single        high.school      no      yes       no   \n",
       "\n",
       "        contact month day_of_week  duration  campaign  pdays  previous  \\\n",
       "0      cellular   may         fri       487         2    999         0   \n",
       "1     telephone   may         fri       346         4    999         0   \n",
       "2     telephone   jun         wed       227         1    999         0   \n",
       "3     telephone   jun         fri        17         3    999         0   \n",
       "4      cellular   nov         mon        58         1    999         0   \n",
       "...         ...   ...         ...       ...       ...    ...       ...   \n",
       "4114   cellular   jul         thu        53         1    999         0   \n",
       "4115  telephone   jul         fri       219         1    999         0   \n",
       "4116   cellular   may         mon        64         2    999         1   \n",
       "4117   cellular   aug         fri       528         1    999         0   \n",
       "4118   cellular   nov         wed       175         1    999         0   \n",
       "\n",
       "         poutcome  emp.var.rate  cons.price.idx  cons.conf.idx  euribor3m  \\\n",
       "0     nonexistent          -1.8          92.893          -46.2      1.313   \n",
       "1     nonexistent           1.1          93.994          -36.4      4.855   \n",
       "2     nonexistent           1.4          94.465          -41.8      4.962   \n",
       "3     nonexistent           1.4          94.465          -41.8      4.959   \n",
       "4     nonexistent          -0.1          93.200          -42.0      4.191   \n",
       "...           ...           ...             ...            ...        ...   \n",
       "4114  nonexistent           1.4          93.918          -42.7      4.958   \n",
       "4115  nonexistent           1.4          93.918          -42.7      4.959   \n",
       "4116      failure          -1.8          92.893          -46.2      1.354   \n",
       "4117  nonexistent           1.4          93.444          -36.1      4.966   \n",
       "4118  nonexistent          -0.1          93.200          -42.0      4.120   \n",
       "\n",
       "      nr.employed   y  \n",
       "0          5099.1  no  \n",
       "1          5191.0  no  \n",
       "2          5228.1  no  \n",
       "3          5228.1  no  \n",
       "4          5195.8  no  \n",
       "...           ...  ..  \n",
       "4114       5228.1  no  \n",
       "4115       5228.1  no  \n",
       "4116       5099.1  no  \n",
       "4117       5228.1  no  \n",
       "4118       5195.8  no  \n",
       "\n",
       "[4119 rows x 21 columns]"
      ]
     },
     "execution_count": 4,
     "metadata": {},
     "output_type": "execute_result"
    }
   ],
   "source": [
    "data"
   ]
  },
  {
   "cell_type": "code",
   "execution_count": 7,
   "id": "b0cb3bc5",
   "metadata": {},
   "outputs": [
    {
     "name": "stdout",
     "output_type": "stream",
     "text": [
      "age               0\n",
      "job               0\n",
      "marital           0\n",
      "education         0\n",
      "default           0\n",
      "housing           0\n",
      "loan              0\n",
      "contact           0\n",
      "month             0\n",
      "day_of_week       0\n",
      "duration          0\n",
      "campaign          0\n",
      "pdays             0\n",
      "previous          0\n",
      "poutcome          0\n",
      "emp.var.rate      0\n",
      "cons.price.idx    0\n",
      "cons.conf.idx     0\n",
      "euribor3m         0\n",
      "nr.employed       0\n",
      "y                 0\n",
      "dtype: int64\n"
     ]
    }
   ],
   "source": [
    "#Check for missing values\n",
    "print(data.isnull().sum())"
   ]
  },
  {
   "cell_type": "code",
   "execution_count": 8,
   "id": "02753a9e",
   "metadata": {},
   "outputs": [],
   "source": [
    "#### Convert our target from yes and no to 0 and 1\n",
    "data1 = pd.get_dummies(data['y'])"
   ]
  },
  {
   "cell_type": "code",
   "execution_count": 10,
   "id": "cd393633",
   "metadata": {},
   "outputs": [],
   "source": [
    "data2 = pd.concat((data1, data), axis=1)"
   ]
  },
  {
   "cell_type": "code",
   "execution_count": 12,
   "id": "0e4bbc75",
   "metadata": {},
   "outputs": [],
   "source": [
    "data2 = data2.drop(['no'], axis=1)"
   ]
  },
  {
   "cell_type": "code",
   "execution_count": 16,
   "id": "a606859d",
   "metadata": {},
   "outputs": [],
   "source": [
    "data2 = data2.drop(['y'], axis=1)"
   ]
  },
  {
   "cell_type": "code",
   "execution_count": 19,
   "id": "b1af93d9",
   "metadata": {},
   "outputs": [],
   "source": [
    "data3 = data2.rename(columns={\"yes\":\"y\"})"
   ]
  },
  {
   "cell_type": "code",
   "execution_count": 21,
   "id": "b184807b",
   "metadata": {},
   "outputs": [],
   "source": [
    "###Import label encoder\n",
    "from sklearn.preprocessing import LabelEncoder"
   ]
  },
  {
   "cell_type": "code",
   "execution_count": 22,
   "id": "30630ce0",
   "metadata": {},
   "outputs": [],
   "source": [
    "label_encoder = LabelEncoder()"
   ]
  },
  {
   "cell_type": "code",
   "execution_count": 23,
   "id": "4f50980d",
   "metadata": {},
   "outputs": [
    {
     "data": {
      "text/plain": [
       "y                   uint8\n",
       "age                 int64\n",
       "job                object\n",
       "marital            object\n",
       "education          object\n",
       "default            object\n",
       "housing            object\n",
       "loan               object\n",
       "contact            object\n",
       "month              object\n",
       "day_of_week        object\n",
       "duration            int64\n",
       "campaign            int64\n",
       "pdays               int64\n",
       "previous            int64\n",
       "poutcome           object\n",
       "emp.var.rate      float64\n",
       "cons.price.idx    float64\n",
       "cons.conf.idx     float64\n",
       "euribor3m         float64\n",
       "nr.employed       float64\n",
       "dtype: object"
      ]
     },
     "execution_count": 23,
     "metadata": {},
     "output_type": "execute_result"
    }
   ],
   "source": [
    "##Check data types to see what needs encoding\n",
    "data3.dtypes"
   ]
  },
  {
   "cell_type": "code",
   "execution_count": 29,
   "id": "e991315b",
   "metadata": {},
   "outputs": [],
   "source": [
    "\n",
    "#Encode the categorical variables\n",
    "data3['job'] = label_encoder.fit_transform(data3['job'])\n",
    "data3['marital'] = label_encoder.fit_transform(data3['marital'])\n",
    "data3['education'] = label_encoder.fit_transform(data3['education'])\n",
    "data3['default'] = label_encoder.fit_transform(data3['default'])\n",
    "data3['housing'] = label_encoder.fit_transform(data3['housing'])\n",
    "data3['loan'] = label_encoder.fit_transform(data3['loan'])\n",
    "data3['contact'] = label_encoder.fit_transform(data3['contact'])\n",
    "data3['month'] = label_encoder.fit_transform(data3['month'])\n",
    "data3['day_of_week'] = label_encoder.fit_transform(data3['day_of_week'])\n",
    "data3['poutcome'] = label_encoder.fit_transform(data3['poutcome'])\n",
    "\n"
   ]
  },
  {
   "cell_type": "code",
   "execution_count": 34,
   "id": "df86626f",
   "metadata": {},
   "outputs": [],
   "source": [
    "#Select only categorical variables\n",
    "data4 = data3[['y','job','marital','education','default','housing','loan','contact','month','day_of_week','poutcome']]"
   ]
  },
  {
   "cell_type": "code",
   "execution_count": 37,
   "id": "5449560d",
   "metadata": {},
   "outputs": [],
   "source": [
    "#Split target and independent variables \n",
    "X = data4.drop(['y'], axis=1)\n",
    "Y = data4['y']"
   ]
  },
  {
   "cell_type": "code",
   "execution_count": 38,
   "id": "e5ae1e8c",
   "metadata": {},
   "outputs": [],
   "source": [
    "#import chi^2\n",
    "from sklearn.feature_selection import chi2"
   ]
  },
  {
   "cell_type": "code",
   "execution_count": 39,
   "id": "6f11fbb0",
   "metadata": {},
   "outputs": [],
   "source": [
    "#Perform chi^2 on the categorical variables (filter method)\n",
    "chi_scores = chi2(X,Y)"
   ]
  },
  {
   "cell_type": "code",
   "execution_count": 40,
   "id": "a7f4982f",
   "metadata": {},
   "outputs": [
    {
     "data": {
      "text/plain": [
       "(array([1.00002637e+01, 2.47147732e+00, 2.28092503e+01, 1.95190032e+01,\n",
       "        3.37326897e-03, 1.05018391e+00, 5.00669927e+01, 1.29857083e-01,\n",
       "        1.60440575e-01, 9.42922453e+00]),\n",
       " array([1.56517810e-03, 1.15928917e-01, 1.78902545e-06, 9.96038637e-06,\n",
       "        9.53685025e-01, 3.05464733e-01, 1.48585473e-12, 7.18580266e-01,\n",
       "        6.88751214e-01, 2.13554574e-03]))"
      ]
     },
     "execution_count": 40,
     "metadata": {},
     "output_type": "execute_result"
    }
   ],
   "source": [
    "#Chi scores and p-values\n",
    "chi_scores"
   ]
  },
  {
   "cell_type": "code",
   "execution_count": 41,
   "id": "9c710bfa",
   "metadata": {},
   "outputs": [],
   "source": [
    "#select p_values\n",
    "p_values = pd.Series(chi_scores[1], index = X.columns)\n",
    "p_values.sort_values(ascending=False, inplace=True)"
   ]
  },
  {
   "cell_type": "code",
   "execution_count": 42,
   "id": "3b02be88",
   "metadata": {},
   "outputs": [
    {
     "data": {
      "text/plain": [
       "<AxesSubplot:>"
      ]
     },
     "execution_count": 42,
     "metadata": {},
     "output_type": "execute_result"
    },
    {
     "data": {
      "image/png": "[encoded data removed]",
      "text/plain": [
       "<Figure size 432x288 with 1 Axes>"
      ]
     },
     "metadata": {
      "needs_background": "light"
     },
     "output_type": "display_data"
    }
   ],
   "source": [
    "#Plot \n",
    "p_values.plot.bar()"
   ]
  },
  {
   "cell_type": "code",
   "execution_count": null,
   "id": "d0a95bce",
   "metadata": {},
   "outputs": [],
   "source": [
    "#Drop those with high p value"
   ]
  },
  {
   "cell_type": "code",
   "execution_count": null,
   "id": "92635408",
   "metadata": {},
   "outputs": [],
   "source": [
    "##PERFORM CORRELATION analysis on numerical data \n",
    "data3.corr()"
   ]
  },
  {
   "cell_type": "code",
   "execution_count": 53,
   "id": "ea99b065",
   "metadata": {},
   "outputs": [],
   "source": [
    "##Drop those with lowest correlation\n",
    "data3 = data3.drop(['age','campaign','cons.price.idx','cons.conf.idx'], axis=1)"
   ]
  },
  {
   "cell_type": "code",
   "execution_count": 56,
   "id": "58c0f980",
   "metadata": {},
   "outputs": [
    {
     "data": {
      "text/html": [
       "<div>\n",
       "<style scoped>\n",
       "    .dataframe tbody tr th:only-of-type {\n",
       "        vertical-align: middle;\n",
       "    }\n",
       "\n",
       "    .dataframe tbody tr th {\n",
       "        vertical-align: top;\n",
       "    }\n",
       "\n",
       "    .dataframe thead th {\n",
       "        text-align: right;\n",
       "    }\n",
       "</style>\n",
       "<table border=\"1\" class=\"dataframe\">\n",
       "  <thead>\n",
       "    <tr style=\"text-align: right;\">\n",
       "      <th></th>\n",
       "      <th>y</th>\n",
       "      <th>job</th>\n",
       "      <th>marital</th>\n",
       "      <th>education</th>\n",
       "      <th>default</th>\n",
       "      <th>loan</th>\n",
       "      <th>contact</th>\n",
       "      <th>duration</th>\n",
       "      <th>pdays</th>\n",
       "      <th>previous</th>\n",
       "      <th>poutcome</th>\n",
       "      <th>emp.var.rate</th>\n",
       "      <th>euribor3m</th>\n",
       "      <th>nr.employed</th>\n",
       "    </tr>\n",
       "  </thead>\n",
       "  <tbody>\n",
       "    <tr>\n",
       "      <th>0</th>\n",
       "      <td>0</td>\n",
       "      <td>1</td>\n",
       "      <td>1</td>\n",
       "      <td>2</td>\n",
       "      <td>0</td>\n",
       "      <td>0</td>\n",
       "      <td>0</td>\n",
       "      <td>487</td>\n",
       "      <td>999</td>\n",
       "      <td>0</td>\n",
       "      <td>1</td>\n",
       "      <td>-1.8</td>\n",
       "      <td>1.313</td>\n",
       "      <td>5099.1</td>\n",
       "    </tr>\n",
       "    <tr>\n",
       "      <th>1</th>\n",
       "      <td>0</td>\n",
       "      <td>7</td>\n",
       "      <td>2</td>\n",
       "      <td>3</td>\n",
       "      <td>0</td>\n",
       "      <td>0</td>\n",
       "      <td>1</td>\n",
       "      <td>346</td>\n",
       "      <td>999</td>\n",
       "      <td>0</td>\n",
       "      <td>1</td>\n",
       "      <td>1.1</td>\n",
       "      <td>4.855</td>\n",
       "      <td>5191.0</td>\n",
       "    </tr>\n",
       "    <tr>\n",
       "      <th>2</th>\n",
       "      <td>0</td>\n",
       "      <td>7</td>\n",
       "      <td>1</td>\n",
       "      <td>3</td>\n",
       "      <td>0</td>\n",
       "      <td>0</td>\n",
       "      <td>1</td>\n",
       "      <td>227</td>\n",
       "      <td>999</td>\n",
       "      <td>0</td>\n",
       "      <td>1</td>\n",
       "      <td>1.4</td>\n",
       "      <td>4.962</td>\n",
       "      <td>5228.1</td>\n",
       "    </tr>\n",
       "    <tr>\n",
       "      <th>3</th>\n",
       "      <td>0</td>\n",
       "      <td>7</td>\n",
       "      <td>1</td>\n",
       "      <td>2</td>\n",
       "      <td>0</td>\n",
       "      <td>1</td>\n",
       "      <td>1</td>\n",
       "      <td>17</td>\n",
       "      <td>999</td>\n",
       "      <td>0</td>\n",
       "      <td>1</td>\n",
       "      <td>1.4</td>\n",
       "      <td>4.959</td>\n",
       "      <td>5228.1</td>\n",
       "    </tr>\n",
       "    <tr>\n",
       "      <th>4</th>\n",
       "      <td>0</td>\n",
       "      <td>0</td>\n",
       "      <td>1</td>\n",
       "      <td>6</td>\n",
       "      <td>0</td>\n",
       "      <td>0</td>\n",
       "      <td>0</td>\n",
       "      <td>58</td>\n",
       "      <td>999</td>\n",
       "      <td>0</td>\n",
       "      <td>1</td>\n",
       "      <td>-0.1</td>\n",
       "      <td>4.191</td>\n",
       "      <td>5195.8</td>\n",
       "    </tr>\n",
       "    <tr>\n",
       "      <th>...</th>\n",
       "      <td>...</td>\n",
       "      <td>...</td>\n",
       "      <td>...</td>\n",
       "      <td>...</td>\n",
       "      <td>...</td>\n",
       "      <td>...</td>\n",
       "      <td>...</td>\n",
       "      <td>...</td>\n",
       "      <td>...</td>\n",
       "      <td>...</td>\n",
       "      <td>...</td>\n",
       "      <td>...</td>\n",
       "      <td>...</td>\n",
       "      <td>...</td>\n",
       "    </tr>\n",
       "    <tr>\n",
       "      <th>4114</th>\n",
       "      <td>0</td>\n",
       "      <td>0</td>\n",
       "      <td>1</td>\n",
       "      <td>1</td>\n",
       "      <td>0</td>\n",
       "      <td>2</td>\n",
       "      <td>0</td>\n",
       "      <td>53</td>\n",
       "      <td>999</td>\n",
       "      <td>0</td>\n",
       "      <td>1</td>\n",
       "      <td>1.4</td>\n",
       "      <td>4.958</td>\n",
       "      <td>5228.1</td>\n",
       "    </tr>\n",
       "    <tr>\n",
       "      <th>4115</th>\n",
       "      <td>0</td>\n",
       "      <td>0</td>\n",
       "      <td>1</td>\n",
       "      <td>3</td>\n",
       "      <td>0</td>\n",
       "      <td>0</td>\n",
       "      <td>1</td>\n",
       "      <td>219</td>\n",
       "      <td>999</td>\n",
       "      <td>0</td>\n",
       "      <td>1</td>\n",
       "      <td>1.4</td>\n",
       "      <td>4.959</td>\n",
       "      <td>5228.1</td>\n",
       "    </tr>\n",
       "    <tr>\n",
       "      <th>4116</th>\n",
       "      <td>0</td>\n",
       "      <td>8</td>\n",
       "      <td>2</td>\n",
       "      <td>3</td>\n",
       "      <td>0</td>\n",
       "      <td>0</td>\n",
       "      <td>0</td>\n",
       "      <td>64</td>\n",
       "      <td>999</td>\n",
       "      <td>1</td>\n",
       "      <td>0</td>\n",
       "      <td>-1.8</td>\n",
       "      <td>1.354</td>\n",
       "      <td>5099.1</td>\n",
       "    </tr>\n",
       "    <tr>\n",
       "      <th>4117</th>\n",
       "      <td>0</td>\n",
       "      <td>0</td>\n",
       "      <td>1</td>\n",
       "      <td>3</td>\n",
       "      <td>0</td>\n",
       "      <td>0</td>\n",
       "      <td>0</td>\n",
       "      <td>528</td>\n",
       "      <td>999</td>\n",
       "      <td>0</td>\n",
       "      <td>1</td>\n",
       "      <td>1.4</td>\n",
       "      <td>4.966</td>\n",
       "      <td>5228.1</td>\n",
       "    </tr>\n",
       "    <tr>\n",
       "      <th>4118</th>\n",
       "      <td>0</td>\n",
       "      <td>4</td>\n",
       "      <td>2</td>\n",
       "      <td>3</td>\n",
       "      <td>0</td>\n",
       "      <td>0</td>\n",
       "      <td>0</td>\n",
       "      <td>175</td>\n",
       "      <td>999</td>\n",
       "      <td>0</td>\n",
       "      <td>1</td>\n",
       "      <td>-0.1</td>\n",
       "      <td>4.120</td>\n",
       "      <td>5195.8</td>\n",
       "    </tr>\n",
       "  </tbody>\n",
       "</table>\n",
       "<p>4119 rows × 14 columns</p>\n",
       "</div>"
      ],
      "text/plain": [
       "      y  job  marital  education  default  loan  contact  duration  pdays  \\\n",
       "0     0    1        1          2        0     0        0       487    999   \n",
       "1     0    7        2          3        0     0        1       346    999   \n",
       "2     0    7        1          3        0     0        1       227    999   \n",
       "3     0    7        1          2        0     1        1        17    999   \n",
       "4     0    0        1          6        0     0        0        58    999   \n",
       "...  ..  ...      ...        ...      ...   ...      ...       ...    ...   \n",
       "4114  0    0        1          1        0     2        0        53    999   \n",
       "4115  0    0        1          3        0     0        1       219    999   \n",
       "4116  0    8        2          3        0     0        0        64    999   \n",
       "4117  0    0        1          3        0     0        0       528    999   \n",
       "4118  0    4        2          3        0     0        0       175    999   \n",
       "\n",
       "      previous  poutcome  emp.var.rate  euribor3m  nr.employed  \n",
       "0            0         1          -1.8      1.313       5099.1  \n",
       "1            0         1           1.1      4.855       5191.0  \n",
       "2            0         1           1.4      4.962       5228.1  \n",
       "3            0         1           1.4      4.959       5228.1  \n",
       "4            0         1          -0.1      4.191       5195.8  \n",
       "...        ...       ...           ...        ...          ...  \n",
       "4114         0         1           1.4      4.958       5228.1  \n",
       "4115         0         1           1.4      4.959       5228.1  \n",
       "4116         1         0          -1.8      1.354       5099.1  \n",
       "4117         0         1           1.4      4.966       5228.1  \n",
       "4118         0         1          -0.1      4.120       5195.8  \n",
       "\n",
       "[4119 rows x 14 columns]"
      ]
     },
     "execution_count": 56,
     "metadata": {},
     "output_type": "execute_result"
    }
   ],
   "source": [
    "data3"
   ]
  },
  {
   "cell_type": "code",
   "execution_count": 57,
   "id": "a13cb1ed",
   "metadata": {},
   "outputs": [],
   "source": [
    "\n",
    "from sklearn.model_selection import train_test_split"
   ]
  },
  {
   "cell_type": "code",
   "execution_count": null,
   "id": "9c99792c",
   "metadata": {},
   "outputs": [],
   "source": []
  },
  {
   "cell_type": "code",
   "execution_count": 59,
   "id": "d938a75f",
   "metadata": {},
   "outputs": [],
   "source": [
    "#SPLIT data into X and Y\n",
    "X = data3.drop(['y'], axis=1)\n",
    "Y = data3['y']"
   ]
  },
  {
   "cell_type": "code",
   "execution_count": 60,
   "id": "cf4a2650",
   "metadata": {},
   "outputs": [],
   "source": [
    "##SPLIT DATA INTO TRAINING AND TESTING\n",
    "X_train, X_test, y_train, y_test = train_test_split(X,Y, test_size = 0.1, random_state=0)"
   ]
  },
  {
   "cell_type": "code",
   "execution_count": 65,
   "id": "0158edc7",
   "metadata": {},
   "outputs": [],
   "source": [
    "from sklearn import tree"
   ]
  },
  {
   "cell_type": "code",
   "execution_count": 83,
   "id": "beb7beaa",
   "metadata": {},
   "outputs": [],
   "source": [
    "##BUILD MODEL\n",
    "\n",
    "model = tree.DecisionTreeClassifier(splitter = 'best', max_depth = 34, max_leaf_nodes = 11, min_samples_split=14)"
   ]
  },
  {
   "cell_type": "code",
   "execution_count": 84,
   "id": "ba437b1e",
   "metadata": {},
   "outputs": [
    {
     "data": {
      "text/plain": [
       "DecisionTreeClassifier(max_depth=34, max_leaf_nodes=11, min_samples_split=14)"
      ]
     },
     "execution_count": 84,
     "metadata": {},
     "output_type": "execute_result"
    }
   ],
   "source": [
    "##TRAIN MODEL\n",
    "#model.fit(X_train, y_train)"
   ]
  },
  {
   "cell_type": "code",
   "execution_count": 85,
   "id": "07b6021e",
   "metadata": {},
   "outputs": [],
   "source": [
    "#PREDICT USING MODEL\n",
    "prediction = model.predict(X_test)"
   ]
  },
  {
   "cell_type": "code",
   "execution_count": 86,
   "id": "1027ea30",
   "metadata": {},
   "outputs": [
    {
     "data": {
      "text/plain": [
       "array([0, 0, 0, 0, 0, 0, 0, 0, 0, 0, 0, 0, 0, 0, 0, 0, 0, 0, 0, 0, 0, 0,\n",
       "       1, 0, 0, 0, 0, 0, 0, 0, 0, 0, 0, 0, 0, 0, 0, 0, 1, 1, 0, 0, 0, 0,\n",
       "       0, 0, 0, 0, 0, 0, 0, 0, 0, 0, 0, 0, 0, 0, 0, 0, 0, 0, 0, 0, 1, 0,\n",
       "       0, 0, 1, 0, 0, 0, 0, 0, 0, 0, 0, 0, 0, 0, 0, 0, 0, 0, 0, 0, 0, 0,\n",
       "       0, 0, 0, 0, 0, 0, 0, 0, 0, 1, 0, 0, 0, 0, 0, 0, 0, 0, 0, 0, 0, 0,\n",
       "       0, 0, 0, 0, 0, 0, 0, 0, 0, 0, 0, 0, 0, 0, 1, 1, 0, 0, 0, 0, 0, 0,\n",
       "       0, 0, 0, 0, 0, 1, 0, 0, 0, 0, 0, 0, 0, 1, 1, 0, 0, 0, 0, 0, 0, 0,\n",
       "       0, 0, 0, 0, 0, 0, 0, 0, 0, 0, 0, 0, 0, 0, 0, 0, 0, 0, 0, 0, 0, 0,\n",
       "       0, 0, 1, 0, 0, 0, 0, 0, 0, 0, 0, 0, 0, 0, 0, 0, 0, 0, 0, 0, 0, 0,\n",
       "       0, 0, 0, 0, 0, 0, 0, 0, 0, 0, 1, 0, 0, 0, 0, 0, 0, 0, 0, 1, 0, 0,\n",
       "       0, 0, 0, 0, 1, 0, 0, 0, 0, 0, 0, 0, 0, 0, 0, 0, 0, 0, 0, 0, 0, 0,\n",
       "       0, 1, 0, 0, 0, 0, 0, 0, 0, 0, 0, 0, 0, 0, 0, 0, 0, 0, 1, 0, 0, 0,\n",
       "       0, 0, 0, 1, 0, 0, 0, 0, 0, 0, 0, 0, 0, 0, 0, 0, 0, 1, 0, 0, 0, 0,\n",
       "       1, 0, 0, 0, 0, 0, 0, 0, 0, 1, 1, 0, 0, 0, 0, 0, 0, 0, 0, 0, 0, 0,\n",
       "       0, 0, 0, 0, 1, 0, 0, 0, 0, 0, 1, 0, 0, 0, 0, 0, 0, 0, 0, 0, 1, 1,\n",
       "       0, 0, 0, 0, 0, 0, 0, 0, 0, 0, 0, 1, 0, 0, 0, 0, 0, 0, 0, 0, 0, 0,\n",
       "       0, 0, 0, 0, 0, 0, 0, 0, 0, 0, 1, 0, 0, 0, 0, 0, 0, 0, 0, 0, 1, 0,\n",
       "       0, 0, 0, 0, 1, 0, 0, 0, 0, 0, 1, 0, 0, 0, 1, 0, 0, 1, 0, 0, 0, 0,\n",
       "       0, 0, 0, 0, 1, 0, 0, 0, 0, 0, 0, 0, 0, 0, 0, 0], dtype=uint8)"
      ]
     },
     "execution_count": 86,
     "metadata": {},
     "output_type": "execute_result"
    }
   ],
   "source": [
    "prediction"
   ]
  },
  {
   "cell_type": "code",
   "execution_count": 87,
   "id": "794ccaba",
   "metadata": {},
   "outputs": [
    {
     "data": {
      "text/plain": [
       "0.8907766990291263"
      ]
     },
     "execution_count": 87,
     "metadata": {},
     "output_type": "execute_result"
    }
   ],
   "source": [
    "#SCORE\n",
    "model.score(X_test, y_test)"
   ]
  },
  {
   "cell_type": "code",
   "execution_count": 88,
   "id": "195b2e78",
   "metadata": {},
   "outputs": [],
   "source": [
    "from sklearn.metrics import confusion_matrix"
   ]
  },
  {
   "cell_type": "code",
   "execution_count": 89,
   "id": "0fd27ee9",
   "metadata": {},
   "outputs": [
    {
     "data": {
      "text/plain": [
       "array([[354,  21],\n",
       "       [ 24,  13]], dtype=int64)"
      ]
     },
     "execution_count": 89,
     "metadata": {},
     "output_type": "execute_result"
    }
   ],
   "source": [
    "#CONFUSION MATRIX\n",
    "confusion_matrix(y_test, prediction)"
   ]
  },
  {
   "cell_type": "code",
   "execution_count": 77,
   "id": "9961e6c9",
   "metadata": {},
   "outputs": [],
   "source": [
    "#GENETIC ALGORITHM\n",
    "\n",
    "from sklearn_genetic import GASearchCV\n",
    "from sklearn_genetic.space import Categorical, Integer, Continuous"
   ]
  },
  {
   "cell_type": "code",
   "execution_count": 78,
   "id": "9d1724cb",
   "metadata": {},
   "outputs": [],
   "source": [
    "#DEFINE OUR HYPERPARMETERS TO TUNE\n",
    "\n",
    "param_grid = {'splitter': Categorical(['best','random']),\n",
    "             'max_depth': Integer(2,50),\n",
    "             'max_leaf_nodes': Integer(2,75),\n",
    "             'min_samples_split': Integer(1,15)}"
   ]
  },
  {
   "cell_type": "code",
   "execution_count": 80,
   "id": "4ec78eee",
   "metadata": {},
   "outputs": [],
   "source": [
    "#BUILD GENETIC ALGIRITHM HYPERPARAMETER TUNING MODEL\n",
    "\n",
    "evolved_estimator = GASearchCV(estimator=model,\n",
    "                             scoring='accuracy',\n",
    "                             param_grid=param_grid,\n",
    "                             n_jobs=-1,\n",
    "                             verbose=True)"
   ]
  },
  {
   "cell_type": "code",
   "execution_count": 81,
   "id": "ef1e8a1d",
   "metadata": {},
   "outputs": [
    {
     "name": "stdout",
     "output_type": "stream",
     "text": [
      "gen\tnevals\tfitness\tfitness_std\tfitness_max\tfitness_min\n",
      "0  \t10    \tnan    \tnan        \tnan        \tnan        \n",
      "1  \t19    \tnan    \tnan        \tnan        \tnan        \n",
      "2  \t18    \tnan    \tnan        \tnan        \tnan        \n",
      "3  \t19    \tnan    \tnan        \tnan        \tnan        \n",
      "4  \t16    \tnan    \tnan        \tnan        \tnan        \n",
      "5  \t20    \tnan    \tnan        \tnan        \tnan        \n",
      "6  \t20    \t0.907933\t0.000242325\t0.908014   \t0.907206   \n",
      "7  \t19    \t0.908014\t0          \t0.908014   \t0.908014   \n",
      "8  \t19    \t0.908014\t0          \t0.908014   \t0.908014   \n",
      "9  \t17    \t0.908014\t0          \t0.908014   \t0.908014   \n",
      "10 \t19    \t0.908014\t0          \t0.908014   \t0.908014   \n",
      "11 \t15    \t0.908014\t0          \t0.908014   \t0.908014   \n",
      "12 \t18    \t0.908014\t0          \t0.908014   \t0.908014   \n",
      "13 \t16    \t0.908014\t0          \t0.908014   \t0.908014   \n",
      "14 \t18    \t0.908014\t0          \t0.908014   \t0.908014   \n",
      "15 \t19    \t0.908014\t0          \t0.908014   \t0.908014   \n",
      "16 \t19    \t0.908014\t0          \t0.908014   \t0.908014   \n",
      "17 \t19    \t0.908067\t0.000161812\t0.908553   \t0.908014   \n",
      "18 \t17    \t0.908067\t0.000161812\t0.908553   \t0.908014   \n",
      "19 \t17    \t0.908067\t0.000161812\t0.908553   \t0.908014   \n",
      "20 \t18    \t0.909039\t0.00192298 \t0.912872   \t0.908014   \n",
      "21 \t20    \t0.910497\t0.00238011 \t0.912872   \t0.908014   \n",
      "22 \t16    \t0.91244 \t0.00129568 \t0.912872   \t0.908553   \n",
      "23 \t16    \t0.912872\t1.11022e-16\t0.912872   \t0.912872   \n",
      "24 \t15    \t0.912872\t1.11022e-16\t0.912872   \t0.912872   \n",
      "25 \t17    \t0.912872\t1.11022e-16\t0.912872   \t0.912872   \n",
      "26 \t19    \t0.912872\t1.11022e-16\t0.912872   \t0.912872   \n",
      "27 \t19    \t0.912872\t1.11022e-16\t0.912872   \t0.912872   \n",
      "28 \t19    \t0.912872\t1.11022e-16\t0.912872   \t0.912872   \n",
      "29 \t19    \t0.912926\t0.000161878\t0.913411   \t0.912872   \n",
      "30 \t17    \t0.913142\t0.000269796\t0.913411   \t0.912872   \n",
      "31 \t20    \t0.913357\t0.000161878\t0.913411   \t0.912872   \n",
      "32 \t16    \t0.913411\t0          \t0.913411   \t0.913411   \n",
      "33 \t19    \t0.913411\t0          \t0.913411   \t0.913411   \n",
      "34 \t19    \t0.912926\t0.00145756 \t0.913411   \t0.908553   \n",
      "35 \t19    \t0.913411\t0          \t0.913411   \t0.913411   \n",
      "36 \t19    \t0.913411\t0          \t0.913411   \t0.913411   \n",
      "37 \t16    \t0.913411\t0          \t0.913411   \t0.913411   \n",
      "38 \t19    \t0.913411\t0          \t0.913411   \t0.913411   \n",
      "39 \t16    \t0.913411\t0          \t0.913411   \t0.913411   \n",
      "40 \t18    \t0.913411\t0          \t0.913411   \t0.913411   \n"
     ]
    },
    {
     "name": "stderr",
     "output_type": "stream",
     "text": [
      "C:\\Users\\HP\\anaconda3\\lib\\site-packages\\numpy\\lib\\nanfunctions.py:1664: RuntimeWarning: Degrees of freedom <= 0 for slice.\n",
      "  var = nanvar(a, axis=axis, dtype=dtype, out=out, ddof=ddof,\n",
      "C:\\Users\\HP\\anaconda3\\lib\\site-packages\\sklearn_genetic\\utils\\cv_scores.py:43: RuntimeWarning: Mean of empty slice\n",
      "  np.nanmean(cv_scores)\n"
     ]
    },
    {
     "data": {
      "text/plain": [
       "GASearchCV(estimator=DecisionTreeClassifier(max_depth=34, max_leaf_nodes=11,\n",
       "                                            min_samples_split=14),\n",
       "           n_jobs=-1,\n",
       "           param_grid={'max_depth': <sklearn_genetic.space.space.Integer object at 0x000002332CED41C0>,\n",
       "                       'max_leaf_nodes': <sklearn_genetic.space.space.Integer object at 0x000002332CED4460>,\n",
       "                       'min_samples_split': <sklearn_genetic.space.space.Integer object at 0x000002332CED4280>,\n",
       "                       'splitter': <sklearn_genetic.space.space.Categorical object at 0x000002332CED4160>},\n",
       "           return_train_score=True, scoring='accuracy')"
      ]
     },
     "execution_count": 81,
     "metadata": {},
     "output_type": "execute_result"
    }
   ],
   "source": [
    "#TRAIN\n",
    "evolved_estimator.fit(X_train, y_train)"
   ]
  },
  {
   "cell_type": "code",
   "execution_count": 82,
   "id": "2cd87623",
   "metadata": {},
   "outputs": [
    {
     "data": {
      "text/plain": [
       "{'splitter': 'best',\n",
       " 'max_depth': 34,\n",
       " 'max_leaf_nodes': 11,\n",
       " 'min_samples_split': 14}"
      ]
     },
     "execution_count": 82,
     "metadata": {},
     "output_type": "execute_result"
    }
   ],
   "source": [
    "#RETURN PARATEMETERS\n",
    "evolved_estimator.best_params_"
   ]
  },
  {
   "cell_type": "code",
   "execution_count": null,
   "id": "d04a34d2",
   "metadata": {},
   "outputs": [],
   "source": []
  }
 ],
 "metadata": {
  "kernelspec": {
   "display_name": "Python 3 (ipykernel)",
   "language": "python",
   "name": "python3"
  },
  "language_info": {
   "codemirror_mode": {
    "name": "ipython",
    "version": 3
   },
   "file_extension": ".py",
   "mimetype": "text/x-python",
   "name": "python",
   "nbconvert_exporter": "python",
   "pygments_lexer": "ipython3",
   "version": "3.9.0"
  }
 },
 "nbformat": 4,
 "nbformat_minor": 5
}
