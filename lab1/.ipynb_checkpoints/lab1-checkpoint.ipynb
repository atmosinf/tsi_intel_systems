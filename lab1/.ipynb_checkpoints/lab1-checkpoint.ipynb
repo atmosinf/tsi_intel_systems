{
 "cells": [
  {
   "cell_type": "markdown",
   "id": "3986c8eb",
   "metadata": {},
   "source": [
    "## Practical work N1. Classification problem.  "
   ]
  },
  {
   "cell_type": "markdown",
   "id": "e6e0aa18",
   "metadata": {},
   "source": [
    "## Table of Contents\n",
    "### [Part 1. Data vectorization and preparation for the problem of classification](#1)\n",
    "* [1.1.Chose dataset. You can either choose your own data set or one of the proposed ones.](#1.1)\n",
    "* [1.2. Load data set and transform it into the form of “numpy array”](#1.2)\n",
    "* [1.3.Display information about the dimension of the array (the number of observations and the number of variables).](#1.3)\n",
    "* [1.4.Delete the rows with empties in data](#1.4)\n",
    "* [1.5.Convert categorical variables from string format to binary (preparation for classification task). Apply one-hot encoding.](#1.5)\n",
    "* [1.6.Display the first 5 observations.](#1.6)\n",
    "* [1.7.Divide the dataset into two subsamples in the proportion of 0.75 and 0.25. 75% of the observations should be in the first subsample, and the remaining 25% in the second.](#1.7)\n",
    "\n",
    "\n",
    "### Additional\n",
    "* 1 Basic preprocessing\n",
    "    * [Checking/Handling missing values](#1.4)\n",
    "    * [Checking/handling outliers](#a1.2)\n",
    "\n",
    "* 2 Exploring data\n",
    "    * [Investigate class imbalance](#a2.1)\n",
    "    * Investigate relationships between variables\n",
    "    * [Investigate correlation](#a2.3)\n",
    "    * [Normality tests](#a1.2)\n",
    "\n",
    "* 3 Data Engineering\n",
    "    * Encoding\n",
    "    * Feature Optimization\n",
    "    * Scaling \n",
    "    * Train/Test split\n",
    "\n",
    "* 4 Modelling\n",
    "    * Building/training model\n",
    "    * Running model\n",
    "\n",
    "* 5 Evaluation\n",
    "    * metrics\n",
    "\n",
    "* 6 Hyperparameter Optimization"
   ]
  },
  {
   "cell_type": "markdown",
   "id": "e8fd6bef",
   "metadata": {},
   "source": [
    "<a class=\"anchor\" id=\"1\"></a>\n",
    "### Part 1. Data vectorization and preparation for the problem of classification  "
   ]
  },
  {
   "cell_type": "code",
   "execution_count": 16,
   "id": "cb0bfe84",
   "metadata": {},
   "outputs": [],
   "source": [
    "import pandas as pd\n",
    "import numpy as np\n",
    "import matplotlib.pyplot as plt\n",
    "import seaborn as sns"
   ]
  },
  {
   "cell_type": "markdown",
   "id": "1f745a6b",
   "metadata": {},
   "source": [
    "<a class=\"anchor\" id=\"1.1\"></a> \n",
    "#### 1.1.Chose dataset. You can either choose your own data set or one of the proposed ones.  "
   ]
  },
  {
   "cell_type": "markdown",
   "id": "c2f61567",
   "metadata": {},
   "source": [
    "The dataset assigned to me was the [Census Income Data Set](https://archive.ics.uci.edu/ml/datasets/Census+Income) from the UCI Machine Learning Repository. With this dataset, the goal is to Predict whether income exceeds $50K/yr based on census data. "
   ]
  },
  {
   "cell_type": "markdown",
   "id": "ff4eabf8",
   "metadata": {},
   "source": [
    " <a class=\"anchor\" id=\"1.2\"></a>\n",
    "#### 1.2. Load data set and transform it into the form of “numpy array” "
   ]
  },
  {
   "cell_type": "code",
   "execution_count": 213,
   "id": "024cfef8",
   "metadata": {},
   "outputs": [],
   "source": [
    "dataset = pd.read_csv('data/adult.data')"
   ]
  },
  {
   "cell_type": "markdown",
   "id": "b5936215",
   "metadata": {},
   "source": [
    "Column names taken from here: [Census Income Data Set](https://archive.ics.uci.edu/ml/datasets/Census+Income)"
   ]
  },
  {
   "cell_type": "code",
   "execution_count": 214,
   "id": "64a55095",
   "metadata": {},
   "outputs": [],
   "source": [
    "dataset.columns = ['age', 'workclass', 'fnlwgt', 'education', 'education-num', 'marital-status', 'occupation', 'relationship', 'race', 'sex', 'capital-gain', 'capital-loss', 'hours-per-week', 'native-country', '>50K']"
   ]
  },
  {
   "cell_type": "code",
   "execution_count": 215,
   "id": "d6f6b89c",
   "metadata": {},
   "outputs": [
    {
     "data": {
      "text/html": [
       "<div>\n",
       "<style scoped>\n",
       "    .dataframe tbody tr th:only-of-type {\n",
       "        vertical-align: middle;\n",
       "    }\n",
       "\n",
       "    .dataframe tbody tr th {\n",
       "        vertical-align: top;\n",
       "    }\n",
       "\n",
       "    .dataframe thead th {\n",
       "        text-align: right;\n",
       "    }\n",
       "</style>\n",
       "<table border=\"1\" class=\"dataframe\">\n",
       "  <thead>\n",
       "    <tr style=\"text-align: right;\">\n",
       "      <th></th>\n",
       "      <th>age</th>\n",
       "      <th>workclass</th>\n",
       "      <th>fnlwgt</th>\n",
       "      <th>education</th>\n",
       "      <th>education-num</th>\n",
       "      <th>marital-status</th>\n",
       "      <th>occupation</th>\n",
       "      <th>relationship</th>\n",
       "      <th>race</th>\n",
       "      <th>sex</th>\n",
       "      <th>capital-gain</th>\n",
       "      <th>capital-loss</th>\n",
       "      <th>hours-per-week</th>\n",
       "      <th>native-country</th>\n",
       "      <th>&gt;50K</th>\n",
       "    </tr>\n",
       "  </thead>\n",
       "  <tbody>\n",
       "    <tr>\n",
       "      <th>0</th>\n",
       "      <td>50</td>\n",
       "      <td>Self-emp-not-inc</td>\n",
       "      <td>83311</td>\n",
       "      <td>Bachelors</td>\n",
       "      <td>13</td>\n",
       "      <td>Married-civ-spouse</td>\n",
       "      <td>Exec-managerial</td>\n",
       "      <td>Husband</td>\n",
       "      <td>White</td>\n",
       "      <td>Male</td>\n",
       "      <td>0</td>\n",
       "      <td>0</td>\n",
       "      <td>13</td>\n",
       "      <td>United-States</td>\n",
       "      <td>&lt;=50K</td>\n",
       "    </tr>\n",
       "    <tr>\n",
       "      <th>1</th>\n",
       "      <td>38</td>\n",
       "      <td>Private</td>\n",
       "      <td>215646</td>\n",
       "      <td>HS-grad</td>\n",
       "      <td>9</td>\n",
       "      <td>Divorced</td>\n",
       "      <td>Handlers-cleaners</td>\n",
       "      <td>Not-in-family</td>\n",
       "      <td>White</td>\n",
       "      <td>Male</td>\n",
       "      <td>0</td>\n",
       "      <td>0</td>\n",
       "      <td>40</td>\n",
       "      <td>United-States</td>\n",
       "      <td>&lt;=50K</td>\n",
       "    </tr>\n",
       "    <tr>\n",
       "      <th>2</th>\n",
       "      <td>53</td>\n",
       "      <td>Private</td>\n",
       "      <td>234721</td>\n",
       "      <td>11th</td>\n",
       "      <td>7</td>\n",
       "      <td>Married-civ-spouse</td>\n",
       "      <td>Handlers-cleaners</td>\n",
       "      <td>Husband</td>\n",
       "      <td>Black</td>\n",
       "      <td>Male</td>\n",
       "      <td>0</td>\n",
       "      <td>0</td>\n",
       "      <td>40</td>\n",
       "      <td>United-States</td>\n",
       "      <td>&lt;=50K</td>\n",
       "    </tr>\n",
       "    <tr>\n",
       "      <th>3</th>\n",
       "      <td>28</td>\n",
       "      <td>Private</td>\n",
       "      <td>338409</td>\n",
       "      <td>Bachelors</td>\n",
       "      <td>13</td>\n",
       "      <td>Married-civ-spouse</td>\n",
       "      <td>Prof-specialty</td>\n",
       "      <td>Wife</td>\n",
       "      <td>Black</td>\n",
       "      <td>Female</td>\n",
       "      <td>0</td>\n",
       "      <td>0</td>\n",
       "      <td>40</td>\n",
       "      <td>Cuba</td>\n",
       "      <td>&lt;=50K</td>\n",
       "    </tr>\n",
       "    <tr>\n",
       "      <th>4</th>\n",
       "      <td>37</td>\n",
       "      <td>Private</td>\n",
       "      <td>284582</td>\n",
       "      <td>Masters</td>\n",
       "      <td>14</td>\n",
       "      <td>Married-civ-spouse</td>\n",
       "      <td>Exec-managerial</td>\n",
       "      <td>Wife</td>\n",
       "      <td>White</td>\n",
       "      <td>Female</td>\n",
       "      <td>0</td>\n",
       "      <td>0</td>\n",
       "      <td>40</td>\n",
       "      <td>United-States</td>\n",
       "      <td>&lt;=50K</td>\n",
       "    </tr>\n",
       "  </tbody>\n",
       "</table>\n",
       "</div>"
      ],
      "text/plain": [
       "   age          workclass  fnlwgt   education  education-num  \\\n",
       "0   50   Self-emp-not-inc   83311   Bachelors             13   \n",
       "1   38            Private  215646     HS-grad              9   \n",
       "2   53            Private  234721        11th              7   \n",
       "3   28            Private  338409   Bachelors             13   \n",
       "4   37            Private  284582     Masters             14   \n",
       "\n",
       "        marital-status          occupation    relationship    race      sex  \\\n",
       "0   Married-civ-spouse     Exec-managerial         Husband   White     Male   \n",
       "1             Divorced   Handlers-cleaners   Not-in-family   White     Male   \n",
       "2   Married-civ-spouse   Handlers-cleaners         Husband   Black     Male   \n",
       "3   Married-civ-spouse      Prof-specialty            Wife   Black   Female   \n",
       "4   Married-civ-spouse     Exec-managerial            Wife   White   Female   \n",
       "\n",
       "   capital-gain  capital-loss  hours-per-week  native-country    >50K  \n",
       "0             0             0              13   United-States   <=50K  \n",
       "1             0             0              40   United-States   <=50K  \n",
       "2             0             0              40   United-States   <=50K  \n",
       "3             0             0              40            Cuba   <=50K  \n",
       "4             0             0              40   United-States   <=50K  "
      ]
     },
     "execution_count": 215,
     "metadata": {},
     "output_type": "execute_result"
    }
   ],
   "source": [
    "dataset.head()"
   ]
  },
  {
   "cell_type": "code",
   "execution_count": 216,
   "id": "37f8f4a7",
   "metadata": {},
   "outputs": [],
   "source": [
    "dataset_np = dataset.to_numpy()"
   ]
  },
  {
   "cell_type": "code",
   "execution_count": 217,
   "id": "33cabefc",
   "metadata": {},
   "outputs": [
    {
     "data": {
      "text/plain": [
       "array([[50, ' Self-emp-not-inc', 83311, ..., 13, ' United-States',\n",
       "        ' <=50K'],\n",
       "       [38, ' Private', 215646, ..., 40, ' United-States', ' <=50K'],\n",
       "       [53, ' Private', 234721, ..., 40, ' United-States', ' <=50K'],\n",
       "       ...,\n",
       "       [58, ' Private', 151910, ..., 40, ' United-States', ' <=50K'],\n",
       "       [22, ' Private', 201490, ..., 20, ' United-States', ' <=50K'],\n",
       "       [52, ' Self-emp-inc', 287927, ..., 40, ' United-States', ' >50K']],\n",
       "      dtype=object)"
      ]
     },
     "execution_count": 217,
     "metadata": {},
     "output_type": "execute_result"
    }
   ],
   "source": [
    "dataset_np"
   ]
  },
  {
   "cell_type": "markdown",
   "id": "7217c8b0",
   "metadata": {},
   "source": [
    "We can see that the dataset was transformed into a numpy array. However, the array contains non-numerical values that cannot be used while training the ML model. We will transform these categorical variables using one-hot encoding in a latter step"
   ]
  },
  {
   "cell_type": "markdown",
   "id": "672f32ed",
   "metadata": {},
   "source": [
    "<a class=\"anchor\" id=\"1.3\"></a>\n",
    "#### 1.3.Display information about the dimension of the array (the number of observations and the number of variables).  "
   ]
  },
  {
   "cell_type": "code",
   "execution_count": 218,
   "id": "bb79033f",
   "metadata": {},
   "outputs": [
    {
     "name": "stdout",
     "output_type": "stream",
     "text": [
      "Number of observations =  32560\n"
     ]
    }
   ],
   "source": [
    "print('Number of observations = ', len(dataset))"
   ]
  },
  {
   "cell_type": "code",
   "execution_count": 219,
   "id": "b727b483",
   "metadata": {},
   "outputs": [
    {
     "name": "stdout",
     "output_type": "stream",
     "text": [
      "Number of variables =  14\n"
     ]
    }
   ],
   "source": [
    "print('Number of variables = ', dataset.shape[1] - 1) # the final variable is the label, and thus is not considered as a feature variable"
   ]
  },
  {
   "cell_type": "markdown",
   "id": "5596e1a5",
   "metadata": {},
   "source": [
    " <a class=\"anchor\" id=\"1.4\"></a>\n",
    "#### 1.4.Delete the rows with empties in data (+Checking/Handling missing values)"
   ]
  },
  {
   "cell_type": "code",
   "execution_count": 220,
   "id": "3475e5b6",
   "metadata": {},
   "outputs": [],
   "source": [
    "dataset_dropna = dataset.dropna()"
   ]
  },
  {
   "cell_type": "code",
   "execution_count": 221,
   "id": "f5d2446e",
   "metadata": {},
   "outputs": [
    {
     "data": {
      "text/plain": [
       "32560"
      ]
     },
     "execution_count": 221,
     "metadata": {},
     "output_type": "execute_result"
    }
   ],
   "source": [
    "len(dataset_dropna)"
   ]
  },
  {
   "cell_type": "markdown",
   "id": "8a40fbd8",
   "metadata": {},
   "source": [
    "No rows were dropped, which means there were no rows with a null or empty value. We can confirm this by running the code below"
   ]
  },
  {
   "cell_type": "code",
   "execution_count": 222,
   "id": "fded34f9",
   "metadata": {},
   "outputs": [
    {
     "data": {
      "text/plain": [
       "age               0\n",
       "workclass         0\n",
       "fnlwgt            0\n",
       "education         0\n",
       "education-num     0\n",
       "marital-status    0\n",
       "occupation        0\n",
       "relationship      0\n",
       "race              0\n",
       "sex               0\n",
       "capital-gain      0\n",
       "capital-loss      0\n",
       "hours-per-week    0\n",
       "native-country    0\n",
       ">50K              0\n",
       "dtype: int64"
      ]
     },
     "execution_count": 222,
     "metadata": {},
     "output_type": "execute_result"
    }
   ],
   "source": [
    "dataset.isnull().sum() # calculates the number or nulls per column. a result of 0 means that there are no nulls"
   ]
  },
  {
   "cell_type": "code",
   "execution_count": 223,
   "id": "c3c19bb8",
   "metadata": {},
   "outputs": [
    {
     "data": {
      "text/plain": [
       "age               0\n",
       "workclass         0\n",
       "fnlwgt            0\n",
       "education         0\n",
       "education-num     0\n",
       "marital-status    0\n",
       "occupation        0\n",
       "relationship      0\n",
       "race              0\n",
       "sex               0\n",
       "capital-gain      0\n",
       "capital-loss      0\n",
       "hours-per-week    0\n",
       "native-country    0\n",
       ">50K              0\n",
       "dtype: int64"
      ]
     },
     "execution_count": 223,
     "metadata": {},
     "output_type": "execute_result"
    }
   ],
   "source": [
    "dataset.isna().sum()"
   ]
  },
  {
   "cell_type": "markdown",
   "id": "99721ad1",
   "metadata": {},
   "source": [
    "However, there *are* some 'null' values in the dataframe. Pandas does not identify them as null because they appear as ' ?' in the dataset. Examples are shown below"
   ]
  },
  {
   "cell_type": "code",
   "execution_count": 224,
   "id": "93880fdd",
   "metadata": {},
   "outputs": [
    {
     "data": {
      "text/html": [
       "<div>\n",
       "<style scoped>\n",
       "    .dataframe tbody tr th:only-of-type {\n",
       "        vertical-align: middle;\n",
       "    }\n",
       "\n",
       "    .dataframe tbody tr th {\n",
       "        vertical-align: top;\n",
       "    }\n",
       "\n",
       "    .dataframe thead th {\n",
       "        text-align: right;\n",
       "    }\n",
       "</style>\n",
       "<table border=\"1\" class=\"dataframe\">\n",
       "  <thead>\n",
       "    <tr style=\"text-align: right;\">\n",
       "      <th></th>\n",
       "      <th>age</th>\n",
       "      <th>workclass</th>\n",
       "      <th>fnlwgt</th>\n",
       "      <th>education</th>\n",
       "      <th>education-num</th>\n",
       "      <th>marital-status</th>\n",
       "      <th>occupation</th>\n",
       "      <th>relationship</th>\n",
       "      <th>race</th>\n",
       "      <th>sex</th>\n",
       "      <th>capital-gain</th>\n",
       "      <th>capital-loss</th>\n",
       "      <th>hours-per-week</th>\n",
       "      <th>native-country</th>\n",
       "      <th>&gt;50K</th>\n",
       "    </tr>\n",
       "  </thead>\n",
       "  <tbody>\n",
       "    <tr>\n",
       "      <th>26</th>\n",
       "      <td>54</td>\n",
       "      <td>?</td>\n",
       "      <td>180211</td>\n",
       "      <td>Some-college</td>\n",
       "      <td>10</td>\n",
       "      <td>Married-civ-spouse</td>\n",
       "      <td>?</td>\n",
       "      <td>Husband</td>\n",
       "      <td>Asian-Pac-Islander</td>\n",
       "      <td>Male</td>\n",
       "      <td>0</td>\n",
       "      <td>0</td>\n",
       "      <td>60</td>\n",
       "      <td>South</td>\n",
       "      <td>&gt;50K</td>\n",
       "    </tr>\n",
       "    <tr>\n",
       "      <th>60</th>\n",
       "      <td>32</td>\n",
       "      <td>?</td>\n",
       "      <td>293936</td>\n",
       "      <td>7th-8th</td>\n",
       "      <td>4</td>\n",
       "      <td>Married-spouse-absent</td>\n",
       "      <td>?</td>\n",
       "      <td>Not-in-family</td>\n",
       "      <td>White</td>\n",
       "      <td>Male</td>\n",
       "      <td>0</td>\n",
       "      <td>0</td>\n",
       "      <td>40</td>\n",
       "      <td>?</td>\n",
       "      <td>&lt;=50K</td>\n",
       "    </tr>\n",
       "    <tr>\n",
       "      <th>68</th>\n",
       "      <td>25</td>\n",
       "      <td>?</td>\n",
       "      <td>200681</td>\n",
       "      <td>Some-college</td>\n",
       "      <td>10</td>\n",
       "      <td>Never-married</td>\n",
       "      <td>?</td>\n",
       "      <td>Own-child</td>\n",
       "      <td>White</td>\n",
       "      <td>Male</td>\n",
       "      <td>0</td>\n",
       "      <td>0</td>\n",
       "      <td>40</td>\n",
       "      <td>United-States</td>\n",
       "      <td>&lt;=50K</td>\n",
       "    </tr>\n",
       "    <tr>\n",
       "      <th>76</th>\n",
       "      <td>67</td>\n",
       "      <td>?</td>\n",
       "      <td>212759</td>\n",
       "      <td>10th</td>\n",
       "      <td>6</td>\n",
       "      <td>Married-civ-spouse</td>\n",
       "      <td>?</td>\n",
       "      <td>Husband</td>\n",
       "      <td>White</td>\n",
       "      <td>Male</td>\n",
       "      <td>0</td>\n",
       "      <td>0</td>\n",
       "      <td>2</td>\n",
       "      <td>United-States</td>\n",
       "      <td>&lt;=50K</td>\n",
       "    </tr>\n",
       "    <tr>\n",
       "      <th>105</th>\n",
       "      <td>17</td>\n",
       "      <td>?</td>\n",
       "      <td>304873</td>\n",
       "      <td>10th</td>\n",
       "      <td>6</td>\n",
       "      <td>Never-married</td>\n",
       "      <td>?</td>\n",
       "      <td>Own-child</td>\n",
       "      <td>White</td>\n",
       "      <td>Female</td>\n",
       "      <td>34095</td>\n",
       "      <td>0</td>\n",
       "      <td>32</td>\n",
       "      <td>United-States</td>\n",
       "      <td>&lt;=50K</td>\n",
       "    </tr>\n",
       "    <tr>\n",
       "      <th>...</th>\n",
       "      <td>...</td>\n",
       "      <td>...</td>\n",
       "      <td>...</td>\n",
       "      <td>...</td>\n",
       "      <td>...</td>\n",
       "      <td>...</td>\n",
       "      <td>...</td>\n",
       "      <td>...</td>\n",
       "      <td>...</td>\n",
       "      <td>...</td>\n",
       "      <td>...</td>\n",
       "      <td>...</td>\n",
       "      <td>...</td>\n",
       "      <td>...</td>\n",
       "      <td>...</td>\n",
       "    </tr>\n",
       "    <tr>\n",
       "      <th>32529</th>\n",
       "      <td>35</td>\n",
       "      <td>?</td>\n",
       "      <td>320084</td>\n",
       "      <td>Bachelors</td>\n",
       "      <td>13</td>\n",
       "      <td>Married-civ-spouse</td>\n",
       "      <td>?</td>\n",
       "      <td>Wife</td>\n",
       "      <td>White</td>\n",
       "      <td>Female</td>\n",
       "      <td>0</td>\n",
       "      <td>0</td>\n",
       "      <td>55</td>\n",
       "      <td>United-States</td>\n",
       "      <td>&gt;50K</td>\n",
       "    </tr>\n",
       "    <tr>\n",
       "      <th>32530</th>\n",
       "      <td>30</td>\n",
       "      <td>?</td>\n",
       "      <td>33811</td>\n",
       "      <td>Bachelors</td>\n",
       "      <td>13</td>\n",
       "      <td>Never-married</td>\n",
       "      <td>?</td>\n",
       "      <td>Not-in-family</td>\n",
       "      <td>Asian-Pac-Islander</td>\n",
       "      <td>Female</td>\n",
       "      <td>0</td>\n",
       "      <td>0</td>\n",
       "      <td>99</td>\n",
       "      <td>United-States</td>\n",
       "      <td>&lt;=50K</td>\n",
       "    </tr>\n",
       "    <tr>\n",
       "      <th>32538</th>\n",
       "      <td>71</td>\n",
       "      <td>?</td>\n",
       "      <td>287372</td>\n",
       "      <td>Doctorate</td>\n",
       "      <td>16</td>\n",
       "      <td>Married-civ-spouse</td>\n",
       "      <td>?</td>\n",
       "      <td>Husband</td>\n",
       "      <td>White</td>\n",
       "      <td>Male</td>\n",
       "      <td>0</td>\n",
       "      <td>0</td>\n",
       "      <td>10</td>\n",
       "      <td>United-States</td>\n",
       "      <td>&gt;50K</td>\n",
       "    </tr>\n",
       "    <tr>\n",
       "      <th>32540</th>\n",
       "      <td>41</td>\n",
       "      <td>?</td>\n",
       "      <td>202822</td>\n",
       "      <td>HS-grad</td>\n",
       "      <td>9</td>\n",
       "      <td>Separated</td>\n",
       "      <td>?</td>\n",
       "      <td>Not-in-family</td>\n",
       "      <td>Black</td>\n",
       "      <td>Female</td>\n",
       "      <td>0</td>\n",
       "      <td>0</td>\n",
       "      <td>32</td>\n",
       "      <td>United-States</td>\n",
       "      <td>&lt;=50K</td>\n",
       "    </tr>\n",
       "    <tr>\n",
       "      <th>32541</th>\n",
       "      <td>72</td>\n",
       "      <td>?</td>\n",
       "      <td>129912</td>\n",
       "      <td>HS-grad</td>\n",
       "      <td>9</td>\n",
       "      <td>Married-civ-spouse</td>\n",
       "      <td>?</td>\n",
       "      <td>Husband</td>\n",
       "      <td>White</td>\n",
       "      <td>Male</td>\n",
       "      <td>0</td>\n",
       "      <td>0</td>\n",
       "      <td>25</td>\n",
       "      <td>United-States</td>\n",
       "      <td>&lt;=50K</td>\n",
       "    </tr>\n",
       "  </tbody>\n",
       "</table>\n",
       "<p>1836 rows × 15 columns</p>\n",
       "</div>"
      ],
      "text/plain": [
       "       age workclass  fnlwgt      education  education-num  \\\n",
       "26      54         ?  180211   Some-college             10   \n",
       "60      32         ?  293936        7th-8th              4   \n",
       "68      25         ?  200681   Some-college             10   \n",
       "76      67         ?  212759           10th              6   \n",
       "105     17         ?  304873           10th              6   \n",
       "...    ...       ...     ...            ...            ...   \n",
       "32529   35         ?  320084      Bachelors             13   \n",
       "32530   30         ?   33811      Bachelors             13   \n",
       "32538   71         ?  287372      Doctorate             16   \n",
       "32540   41         ?  202822        HS-grad              9   \n",
       "32541   72         ?  129912        HS-grad              9   \n",
       "\n",
       "               marital-status occupation    relationship                 race  \\\n",
       "26         Married-civ-spouse          ?         Husband   Asian-Pac-Islander   \n",
       "60      Married-spouse-absent          ?   Not-in-family                White   \n",
       "68              Never-married          ?       Own-child                White   \n",
       "76         Married-civ-spouse          ?         Husband                White   \n",
       "105             Never-married          ?       Own-child                White   \n",
       "...                       ...        ...             ...                  ...   \n",
       "32529      Married-civ-spouse          ?            Wife                White   \n",
       "32530           Never-married          ?   Not-in-family   Asian-Pac-Islander   \n",
       "32538      Married-civ-spouse          ?         Husband                White   \n",
       "32540               Separated          ?   Not-in-family                Black   \n",
       "32541      Married-civ-spouse          ?         Husband                White   \n",
       "\n",
       "           sex  capital-gain  capital-loss  hours-per-week  native-country  \\\n",
       "26        Male             0             0              60           South   \n",
       "60        Male             0             0              40               ?   \n",
       "68        Male             0             0              40   United-States   \n",
       "76        Male             0             0               2   United-States   \n",
       "105     Female         34095             0              32   United-States   \n",
       "...        ...           ...           ...             ...             ...   \n",
       "32529   Female             0             0              55   United-States   \n",
       "32530   Female             0             0              99   United-States   \n",
       "32538     Male             0             0              10   United-States   \n",
       "32540   Female             0             0              32   United-States   \n",
       "32541     Male             0             0              25   United-States   \n",
       "\n",
       "         >50K  \n",
       "26       >50K  \n",
       "60      <=50K  \n",
       "68      <=50K  \n",
       "76      <=50K  \n",
       "105     <=50K  \n",
       "...       ...  \n",
       "32529    >50K  \n",
       "32530   <=50K  \n",
       "32538    >50K  \n",
       "32540   <=50K  \n",
       "32541   <=50K  \n",
       "\n",
       "[1836 rows x 15 columns]"
      ]
     },
     "execution_count": 224,
     "metadata": {},
     "output_type": "execute_result"
    }
   ],
   "source": [
    "dataset[dataset.workclass == ' ?']"
   ]
  },
  {
   "cell_type": "markdown",
   "id": "ce889f74",
   "metadata": {},
   "source": [
    "Let's find which columns contain this ' ?' value. We have to remove the rows that contain this value"
   ]
  },
  {
   "cell_type": "code",
   "execution_count": 225,
   "id": "880fd783",
   "metadata": {},
   "outputs": [
    {
     "name": "stdout",
     "output_type": "stream",
     "text": [
      "workclass\n",
      "occupation\n",
      "native-country\n"
     ]
    }
   ],
   "source": [
    "for column in dataset.columns:\n",
    "    if len(dataset[dataset[column] == ' ?']) > 0:\n",
    "        print(column)"
   ]
  },
  {
   "cell_type": "code",
   "execution_count": 226,
   "id": "11b748f9",
   "metadata": {},
   "outputs": [],
   "source": [
    "dataset_dropna = dataset[(dataset['workclass'] != ' ?') & (dataset['occupation'] != ' ?') & (dataset['native-country'] != ' ?')]"
   ]
  },
  {
   "cell_type": "code",
   "execution_count": 227,
   "id": "6f05eca0",
   "metadata": {},
   "outputs": [
    {
     "data": {
      "text/plain": [
       "30161"
      ]
     },
     "execution_count": 227,
     "metadata": {},
     "output_type": "execute_result"
    }
   ],
   "source": [
    "len(dataset_dropna)"
   ]
  },
  {
   "cell_type": "code",
   "execution_count": 228,
   "id": "d4f1a1dd",
   "metadata": {},
   "outputs": [
    {
     "name": "stdout",
     "output_type": "stream",
     "text": [
      "2399 rows were dropped because of null values\n"
     ]
    }
   ],
   "source": [
    "print(f'{len(dataset) - len(dataset_dropna)} rows were dropped because of null values')"
   ]
  },
  {
   "cell_type": "markdown",
   "id": "dd340760",
   "metadata": {},
   "source": [
    "Let's reassign dataset to dataset_dropna"
   ]
  },
  {
   "cell_type": "code",
   "execution_count": 229,
   "id": "22c798d1",
   "metadata": {},
   "outputs": [],
   "source": [
    "dataset = dataset_dropna"
   ]
  },
  {
   "cell_type": "markdown",
   "id": "1b28aace",
   "metadata": {},
   "source": [
    "<a class=\"anchor\" id=\"a1.2\"></a>\n",
    "#### Checking/handling outliers (+ Normality tests)"
   ]
  },
  {
   "cell_type": "markdown",
   "id": "047a8c0b",
   "metadata": {},
   "source": [
    "Let's create box and violin plots of the numerical variables to quickly check for outliers visually"
   ]
  },
  {
   "cell_type": "code",
   "execution_count": 230,
   "id": "2d2f099e",
   "metadata": {},
   "outputs": [
    {
     "data": {
      "text/plain": [
       "<AxesSubplot:xlabel='hours-per-week'>"
      ]
     },
     "execution_count": 230,
     "metadata": {},
     "output_type": "execute_result"
    },
    {
     "data": {
      "image/png": "[encoded data removed]",
      "text/plain": [
       "<Figure size 1080x504 with 4 Axes>"
      ]
     },
     "metadata": {
      "needs_background": "light"
     },
     "output_type": "display_data"
    }
   ],
   "source": [
    "# Note: we could have used a density plot instead, but it's not possible to make subplots with seaborn's displot because it works at the figure level\n",
    "plt.figure(figsize=(15,7))\n",
    "plt.subplot(221)\n",
    "sns.violinplot(x=dataset['age'], color='#ebb926')\n",
    "plt.subplot(222)\n",
    "sns.violinplot(x=dataset['fnlwgt'], color='#ebb926')\n",
    "plt.subplot(223)\n",
    "sns.violinplot(x=dataset['education-num'], color='#ebb926')\n",
    "plt.subplot(224)\n",
    "sns.violinplot(x=dataset['hours-per-week'], color='#ebb926')"
   ]
  },
  {
   "cell_type": "code",
   "execution_count": 231,
   "id": "a69ccb0d",
   "metadata": {},
   "outputs": [
    {
     "data": {
      "text/plain": [
       "<AxesSubplot:xlabel='hours-per-week'>"
      ]
     },
     "execution_count": 231,
     "metadata": {},
     "output_type": "execute_result"
    },
    {
     "data": {
      "image/png": "[encoded data removed]",
      "text/plain": [
       "<Figure size 1080x504 with 4 Axes>"
      ]
     },
     "metadata": {
      "needs_background": "light"
     },
     "output_type": "display_data"
    }
   ],
   "source": [
    "plt.figure(figsize=(15,7))\n",
    "plt.subplot(221)\n",
    "sns.boxplot(x=dataset['age'])\n",
    "plt.subplot(222)\n",
    "sns.boxplot(x=dataset['fnlwgt'])\n",
    "plt.subplot(223)\n",
    "sns.boxplot(x=dataset['education-num'])\n",
    "plt.subplot(224)\n",
    "sns.boxplot(x=dataset['hours-per-week'])"
   ]
  },
  {
   "cell_type": "markdown",
   "id": "a1dd78ca",
   "metadata": {},
   "source": [
    "The fnlwgt column seems to be the most skewed. Let's see how many rows have fnlwgt that are outliers"
   ]
  },
  {
   "cell_type": "code",
   "execution_count": 234,
   "id": "df1956b2",
   "metadata": {},
   "outputs": [
    {
     "data": {
      "text/plain": [
       "1168"
      ]
     },
     "execution_count": 234,
     "metadata": {},
     "output_type": "execute_result"
    }
   ],
   "source": [
    "len(dataset[dataset['fnlwgt'] > .4 * 1e6])"
   ]
  },
  {
   "cell_type": "code",
   "execution_count": 235,
   "id": "74ec1721",
   "metadata": {},
   "outputs": [],
   "source": [
    "dataset_drop_outlier = dataset[dataset['fnlwgt'] < .4 * 1e6]"
   ]
  },
  {
   "cell_type": "code",
   "execution_count": 236,
   "id": "02f5c198",
   "metadata": {},
   "outputs": [
    {
     "data": {
      "text/plain": [
       "28993"
      ]
     },
     "execution_count": 236,
     "metadata": {},
     "output_type": "execute_result"
    }
   ],
   "source": [
    "len(dataset_drop_outlier)"
   ]
  },
  {
   "cell_type": "markdown",
   "id": "112d1b6f",
   "metadata": {},
   "source": [
    "1168 rows were deleted. Since most of the variables are categorical, and to keep things simple, we will not bother with removing the outliers from the other numerical variables. Finally, let's plot the fnlwgt column now to see how it's distributed "
   ]
  },
  {
   "cell_type": "code",
   "execution_count": 238,
   "id": "03ffbd9a",
   "metadata": {},
   "outputs": [
    {
     "data": {
      "text/plain": [
       "<AxesSubplot:xlabel='fnlwgt'>"
      ]
     },
     "execution_count": 238,
     "metadata": {},
     "output_type": "execute_result"
    },
    {
     "data": {
      "image/png": "[encoded data removed]",
      "text/plain": [
       "<Figure size 432x288 with 1 Axes>"
      ]
     },
     "metadata": {
      "needs_background": "light"
     },
     "output_type": "display_data"
    }
   ],
   "source": [
    "sns.boxplot(x=dataset_drop_outlier['fnlwgt'])"
   ]
  },
  {
   "cell_type": "markdown",
   "id": "b2e24efe",
   "metadata": {},
   "source": [
    "Reassign dataset to dataset_drop_outlier"
   ]
  },
  {
   "cell_type": "code",
   "execution_count": 249,
   "id": "0668f363",
   "metadata": {},
   "outputs": [],
   "source": [
    "dataset = dataset_drop_outlier"
   ]
  },
  {
   "cell_type": "markdown",
   "id": "a4011acc",
   "metadata": {},
   "source": [
    "Now let's check the distribution of the categorical variables "
   ]
  },
  {
   "cell_type": "code",
   "execution_count": 294,
   "id": "8111e826",
   "metadata": {},
   "outputs": [
    {
     "data": {
      "image/png": "[encoded data removed]",
      "text/plain": [
       "<Figure size 1080x1080 with 9 Axes>"
      ]
     },
     "metadata": {
      "needs_background": "light"
     },
     "output_type": "display_data"
    }
   ],
   "source": [
    "plt.figure(figsize=(15,15))\n",
    "plt.subplot(3,3,1)\n",
    "plt.xticks(rotation=90)\n",
    "sns.histplot(data=dataset, x='workclass')\n",
    "plt.subplot(3,3,2)\n",
    "plt.xticks(rotation=90)\n",
    "sns.histplot(data=dataset, x='education')\n",
    "plt.subplot(3,3,3)\n",
    "plt.xticks(rotation=90)\n",
    "sns.histplot(data=dataset, x='marital-status')\n",
    "plt.subplot(3,3,4)\n",
    "plt.xticks(rotation=90)\n",
    "sns.histplot(data=dataset, x='occupation')\n",
    "plt.subplot(3,3,5)\n",
    "plt.xticks(rotation=90)\n",
    "sns.histplot(data=dataset, x='relationship')\n",
    "plt.subplot(3,3,6)\n",
    "plt.xticks(rotation=90)\n",
    "sns.histplot(data=dataset, x='race')\n",
    "plt.subplot(3,3,7)\n",
    "plt.xticks(rotation=90)\n",
    "sns.histplot(data=dataset, x='sex')\n",
    "plt.subplot(3,3,8)\n",
    "plt.xticks(rotation=90)\n",
    "sns.histplot(data=dataset, x='native-country')\n",
    "plt.subplot(3,3,9)\n",
    "plt.xticks(rotation=90)\n",
    "sns.histplot(data=dataset, x='>50K')\n",
    "\n",
    "plt.tight_layout()"
   ]
  },
  {
   "cell_type": "markdown",
   "id": "355d43b7",
   "metadata": {},
   "source": [
    "<a class=\"anchor\" id=\"a2.1\"></a>\n",
    "####  Investigate class imbalance "
   ]
  },
  {
   "cell_type": "markdown",
   "id": "4dd9138b",
   "metadata": {},
   "source": [
    "We'll check the label column"
   ]
  },
  {
   "cell_type": "code",
   "execution_count": 260,
   "id": "a4324d6f",
   "metadata": {},
   "outputs": [
    {
     "data": {
      "text/plain": [
       "<AxesSubplot:ylabel=' >50K'>"
      ]
     },
     "execution_count": 260,
     "metadata": {},
     "output_type": "execute_result"
    },
    {
     "data": {
      "image/png": "[encoded data removed]",
      "text/plain": [
       "<Figure size 432x288 with 1 Axes>"
      ]
     },
     "metadata": {},
     "output_type": "display_data"
    }
   ],
   "source": [
    "dataset_onehot[' >50K'].value_counts().plot.pie()"
   ]
  },
  {
   "cell_type": "markdown",
   "id": "f20947e1",
   "metadata": {},
   "source": [
    "For around quarter of the examples, the salary does not exceed $50K "
   ]
  },
  {
   "cell_type": "markdown",
   "id": "8b3ca6da",
   "metadata": {},
   "source": [
    "#### Investigate relationships between variables "
   ]
  },
  {
   "cell_type": "code",
   "execution_count": 263,
   "id": "01345988",
   "metadata": {},
   "outputs": [],
   "source": [
    "from sklearn.preprocessing import LabelEncoder\n",
    "from sklearn.feature_selection import chi2"
   ]
  },
  {
   "cell_type": "code",
   "execution_count": 266,
   "id": "84cbf820",
   "metadata": {},
   "outputs": [],
   "source": [
    "labelencoder = LabelEncoder()"
   ]
  },
  {
   "cell_type": "code",
   "execution_count": 270,
   "id": "85c3f9b9",
   "metadata": {},
   "outputs": [],
   "source": [
    "# Encode the categorical variables\n",
    "dataset_encoded = pd.DataFrame()\n",
    "dataset_encoded['workclass'] = labelencoder.fit_transform(dataset['workclass'])\n",
    "dataset_encoded['education-num'] = labelencoder.fit_transform(dataset['education-num'])\n",
    "dataset_encoded['marital-status'] = labelencoder.fit_transform(dataset['marital-status'])\n",
    "dataset_encoded['occupation'] = labelencoder.fit_transform(dataset['occupation'])\n",
    "dataset_encoded['relationship'] = labelencoder.fit_transform(dataset['relationship'])\n",
    "dataset_encoded['race'] = labelencoder.fit_transform(dataset['race'])\n",
    "dataset_encoded['sex'] = labelencoder.fit_transform(dataset['sex'])\n",
    "dataset_encoded['native-country'] = labelencoder.fit_transform(dataset['native-country'])\n",
    "dataset_encoded['label'] = labelencoder.fit_transform(dataset['>50K'])"
   ]
  },
  {
   "cell_type": "code",
   "execution_count": 274,
   "id": "2e1e34c2",
   "metadata": {},
   "outputs": [],
   "source": [
    "chi_scores = chi2(dataset_encoded.drop('label', axis=1), dataset_encoded['label'])"
   ]
  },
  {
   "cell_type": "code",
   "execution_count": 275,
   "id": "c6ec0da0",
   "metadata": {},
   "outputs": [
    {
     "data": {
      "text/plain": [
       "(array([   3.42501672, 2289.627346  ,  936.5796122 ,  205.70614292,\n",
       "        3293.33921142,   28.27672269,  454.54441349,   11.29296582]),\n",
       " array([6.42155929e-002, 0.00000000e+000, 1.09654516e-205, 1.18770579e-046,\n",
       "        0.00000000e+000, 1.05152889e-007, 7.39837550e-101, 7.78012971e-004]))"
      ]
     },
     "execution_count": 275,
     "metadata": {},
     "output_type": "execute_result"
    }
   ],
   "source": [
    "chi_scores"
   ]
  },
  {
   "cell_type": "code",
   "execution_count": 277,
   "id": "b6b7d66d",
   "metadata": {},
   "outputs": [],
   "source": [
    "p_values = pd.Series(chi_scores[1], index = dataset_encoded.drop('label', axis=1).columns)\n",
    "p_values.sort_values(ascending=False, inplace=True)"
   ]
  },
  {
   "cell_type": "code",
   "execution_count": 278,
   "id": "2592c358",
   "metadata": {},
   "outputs": [
    {
     "data": {
      "text/plain": [
       "<AxesSubplot:>"
      ]
     },
     "execution_count": 278,
     "metadata": {},
     "output_type": "execute_result"
    },
    {
     "data": {
      "image/png": "[encoded data removed]",
      "text/plain": [
       "<Figure size 432x288 with 1 Axes>"
      ]
     },
     "metadata": {
      "needs_background": "light"
     },
     "output_type": "display_data"
    }
   ],
   "source": [
    "p_values.plot.bar()"
   ]
  },
  {
   "cell_type": "code",
   "execution_count": 279,
   "id": "a46fe526",
   "metadata": {},
   "outputs": [
    {
     "data": {
      "text/plain": [
       " Private             21380\n",
       " Self-emp-not-inc     2425\n",
       " Local-gov            2007\n",
       " State-gov            1228\n",
       " Self-emp-inc         1049\n",
       " Federal-gov           890\n",
       " Without-pay            14\n",
       "Name: workclass, dtype: int64"
      ]
     },
     "execution_count": 279,
     "metadata": {},
     "output_type": "execute_result"
    }
   ],
   "source": [
    "dataset['workclass'].value_counts()"
   ]
  },
  {
   "cell_type": "markdown",
   "id": "f2c1c902",
   "metadata": {},
   "source": [
    "<a class=\"anchor\" id=\"a2.3\"></a>\n",
    "#### Investigate correlation  "
   ]
  },
  {
   "cell_type": "code",
   "execution_count": 261,
   "id": "7ac35ec8",
   "metadata": {},
   "outputs": [
    {
     "data": {
      "text/plain": [
       "<AxesSubplot:>"
      ]
     },
     "execution_count": 261,
     "metadata": {},
     "output_type": "execute_result"
    },
    {
     "data": {
      "image/png": "[encoded data removed]",
      "text/plain": [
       "<Figure size 720x504 with 2 Axes>"
      ]
     },
     "metadata": {
      "needs_background": "light"
     },
     "output_type": "display_data"
    }
   ],
   "source": [
    "plt.figure(figsize=(10,7))\n",
    "sns.heatmap(dataset.corr(), cmap='viridis', annot=True)"
   ]
  },
  {
   "cell_type": "markdown",
   "id": "d0264a8a",
   "metadata": {},
   "source": [
    "We can see that there is very little correlation between the numerical feature variables. The highest value of correlation is between education-num and hours-per-week, with a value of 0.15"
   ]
  },
  {
   "cell_type": "markdown",
   "id": "c9cb7e00",
   "metadata": {},
   "source": [
    "<a class=\"anchor\" id=\"1.5\"></a>\n",
    "#### 1.5.Convert categorical variables from string format to binary (preparation for classification task). Apply one-hot encoding.  "
   ]
  },
  {
   "cell_type": "code",
   "execution_count": 250,
   "id": "018791af",
   "metadata": {},
   "outputs": [
    {
     "name": "stdout",
     "output_type": "stream",
     "text": [
      "<class 'pandas.core.frame.DataFrame'>\n",
      "Int64Index: 28993 entries, 0 to 32559\n",
      "Data columns (total 15 columns):\n",
      " #   Column          Non-Null Count  Dtype \n",
      "---  ------          --------------  ----- \n",
      " 0   age             28993 non-null  int64 \n",
      " 1   workclass       28993 non-null  object\n",
      " 2   fnlwgt          28993 non-null  int64 \n",
      " 3   education       28993 non-null  object\n",
      " 4   education-num   28993 non-null  int64 \n",
      " 5   marital-status  28993 non-null  object\n",
      " 6   occupation      28993 non-null  object\n",
      " 7   relationship    28993 non-null  object\n",
      " 8   race            28993 non-null  object\n",
      " 9   sex             28993 non-null  object\n",
      " 10  capital-gain    28993 non-null  int64 \n",
      " 11  capital-loss    28993 non-null  int64 \n",
      " 12  hours-per-week  28993 non-null  int64 \n",
      " 13  native-country  28993 non-null  object\n",
      " 14  >50K            28993 non-null  object\n",
      "dtypes: int64(6), object(9)\n",
      "memory usage: 3.5+ MB\n"
     ]
    }
   ],
   "source": [
    "dataset.info()"
   ]
  },
  {
   "cell_type": "markdown",
   "id": "0d01a4f5",
   "metadata": {},
   "source": [
    "We can see that the columns 'workclass', 'education', 'marital-status', 'occupation', 'relationship', 'race', 'sex', 'native-country' and '>50K' have categorical variables.\n",
    "We'll now one-hot encode these variables concatenate them to the dataframe, and then drop the categorical columns"
   ]
  },
  {
   "cell_type": "code",
   "execution_count": 251,
   "id": "bfbfcb2d",
   "metadata": {},
   "outputs": [],
   "source": [
    "# Create the one-hot dataframes\n",
    "workclass_onehot = pd.get_dummies(dataset['workclass'], prefix='workclass', drop_first=True)\n",
    "education_onehot = pd.get_dummies(dataset['education'], prefix='education', drop_first=True)\n",
    "marital_status_onehot = pd.get_dummies(dataset['marital-status'], prefix='marital-status', drop_first=True)\n",
    "occupation_onehot = pd.get_dummies(dataset['occupation'], prefix='occupation', drop_first=True)\n",
    "relationship_onehot = pd.get_dummies(dataset['relationship'], prefix='relationship', drop_first=True)\n",
    "race_onehot = pd.get_dummies(dataset['race'], prefix='race', drop_first=True)\n",
    "sex_onehot = pd.get_dummies(dataset['sex'], prefix='sex', drop_first=True)\n",
    "native_country_onehot = pd.get_dummies(dataset['native-country'], prefix='native-country', drop_first=True)\n",
    "label = pd.get_dummies(dataset['>50K'], drop_first=True, columns=['label'])"
   ]
  },
  {
   "cell_type": "code",
   "execution_count": 252,
   "id": "d06a5d15",
   "metadata": {},
   "outputs": [],
   "source": [
    "# Concatenate the one hot columns to create a new dataframe\n",
    "dataset_onehot = pd.concat((dataset, workclass_onehot, education_onehot, marital_status_onehot, occupation_onehot, relationship_onehot, race_onehot, sex_onehot, native_country_onehot, label), axis=1)"
   ]
  },
  {
   "cell_type": "code",
   "execution_count": 253,
   "id": "9b3cb8f8",
   "metadata": {},
   "outputs": [],
   "source": [
    "# Drop the categorical columns\n",
    "dataset_onehot = dataset_onehot.drop(['workclass', 'education', 'marital-status', 'occupation', 'relationship', 'race', 'sex', 'native-country', '>50K'], axis=1)"
   ]
  },
  {
   "cell_type": "markdown",
   "id": "187e70ec",
   "metadata": {},
   "source": [
    "<a class=\"anchor\" id=\"1.6\"></a>\n",
    "#### 1.6.Display the first 5 observations.  "
   ]
  },
  {
   "cell_type": "code",
   "execution_count": 254,
   "id": "7541bf46",
   "metadata": {},
   "outputs": [
    {
     "data": {
      "text/html": [
       "<div>\n",
       "<style scoped>\n",
       "    .dataframe tbody tr th:only-of-type {\n",
       "        vertical-align: middle;\n",
       "    }\n",
       "\n",
       "    .dataframe tbody tr th {\n",
       "        vertical-align: top;\n",
       "    }\n",
       "\n",
       "    .dataframe thead th {\n",
       "        text-align: right;\n",
       "    }\n",
       "</style>\n",
       "<table border=\"1\" class=\"dataframe\">\n",
       "  <thead>\n",
       "    <tr style=\"text-align: right;\">\n",
       "      <th></th>\n",
       "      <th>age</th>\n",
       "      <th>fnlwgt</th>\n",
       "      <th>education-num</th>\n",
       "      <th>capital-gain</th>\n",
       "      <th>capital-loss</th>\n",
       "      <th>hours-per-week</th>\n",
       "      <th>workclass_ Local-gov</th>\n",
       "      <th>workclass_ Private</th>\n",
       "      <th>workclass_ Self-emp-inc</th>\n",
       "      <th>workclass_ Self-emp-not-inc</th>\n",
       "      <th>...</th>\n",
       "      <th>native-country_ Puerto-Rico</th>\n",
       "      <th>native-country_ Scotland</th>\n",
       "      <th>native-country_ South</th>\n",
       "      <th>native-country_ Taiwan</th>\n",
       "      <th>native-country_ Thailand</th>\n",
       "      <th>native-country_ Trinadad&amp;Tobago</th>\n",
       "      <th>native-country_ United-States</th>\n",
       "      <th>native-country_ Vietnam</th>\n",
       "      <th>native-country_ Yugoslavia</th>\n",
       "      <th>&gt;50K</th>\n",
       "    </tr>\n",
       "  </thead>\n",
       "  <tbody>\n",
       "    <tr>\n",
       "      <th>0</th>\n",
       "      <td>50</td>\n",
       "      <td>83311</td>\n",
       "      <td>13</td>\n",
       "      <td>0</td>\n",
       "      <td>0</td>\n",
       "      <td>13</td>\n",
       "      <td>0</td>\n",
       "      <td>0</td>\n",
       "      <td>0</td>\n",
       "      <td>1</td>\n",
       "      <td>...</td>\n",
       "      <td>0</td>\n",
       "      <td>0</td>\n",
       "      <td>0</td>\n",
       "      <td>0</td>\n",
       "      <td>0</td>\n",
       "      <td>0</td>\n",
       "      <td>1</td>\n",
       "      <td>0</td>\n",
       "      <td>0</td>\n",
       "      <td>0</td>\n",
       "    </tr>\n",
       "    <tr>\n",
       "      <th>1</th>\n",
       "      <td>38</td>\n",
       "      <td>215646</td>\n",
       "      <td>9</td>\n",
       "      <td>0</td>\n",
       "      <td>0</td>\n",
       "      <td>40</td>\n",
       "      <td>0</td>\n",
       "      <td>1</td>\n",
       "      <td>0</td>\n",
       "      <td>0</td>\n",
       "      <td>...</td>\n",
       "      <td>0</td>\n",
       "      <td>0</td>\n",
       "      <td>0</td>\n",
       "      <td>0</td>\n",
       "      <td>0</td>\n",
       "      <td>0</td>\n",
       "      <td>1</td>\n",
       "      <td>0</td>\n",
       "      <td>0</td>\n",
       "      <td>0</td>\n",
       "    </tr>\n",
       "    <tr>\n",
       "      <th>2</th>\n",
       "      <td>53</td>\n",
       "      <td>234721</td>\n",
       "      <td>7</td>\n",
       "      <td>0</td>\n",
       "      <td>0</td>\n",
       "      <td>40</td>\n",
       "      <td>0</td>\n",
       "      <td>1</td>\n",
       "      <td>0</td>\n",
       "      <td>0</td>\n",
       "      <td>...</td>\n",
       "      <td>0</td>\n",
       "      <td>0</td>\n",
       "      <td>0</td>\n",
       "      <td>0</td>\n",
       "      <td>0</td>\n",
       "      <td>0</td>\n",
       "      <td>1</td>\n",
       "      <td>0</td>\n",
       "      <td>0</td>\n",
       "      <td>0</td>\n",
       "    </tr>\n",
       "    <tr>\n",
       "      <th>3</th>\n",
       "      <td>28</td>\n",
       "      <td>338409</td>\n",
       "      <td>13</td>\n",
       "      <td>0</td>\n",
       "      <td>0</td>\n",
       "      <td>40</td>\n",
       "      <td>0</td>\n",
       "      <td>1</td>\n",
       "      <td>0</td>\n",
       "      <td>0</td>\n",
       "      <td>...</td>\n",
       "      <td>0</td>\n",
       "      <td>0</td>\n",
       "      <td>0</td>\n",
       "      <td>0</td>\n",
       "      <td>0</td>\n",
       "      <td>0</td>\n",
       "      <td>0</td>\n",
       "      <td>0</td>\n",
       "      <td>0</td>\n",
       "      <td>0</td>\n",
       "    </tr>\n",
       "    <tr>\n",
       "      <th>4</th>\n",
       "      <td>37</td>\n",
       "      <td>284582</td>\n",
       "      <td>14</td>\n",
       "      <td>0</td>\n",
       "      <td>0</td>\n",
       "      <td>40</td>\n",
       "      <td>0</td>\n",
       "      <td>1</td>\n",
       "      <td>0</td>\n",
       "      <td>0</td>\n",
       "      <td>...</td>\n",
       "      <td>0</td>\n",
       "      <td>0</td>\n",
       "      <td>0</td>\n",
       "      <td>0</td>\n",
       "      <td>0</td>\n",
       "      <td>0</td>\n",
       "      <td>1</td>\n",
       "      <td>0</td>\n",
       "      <td>0</td>\n",
       "      <td>0</td>\n",
       "    </tr>\n",
       "  </tbody>\n",
       "</table>\n",
       "<p>5 rows × 97 columns</p>\n",
       "</div>"
      ],
      "text/plain": [
       "   age  fnlwgt  education-num  capital-gain  capital-loss  hours-per-week  \\\n",
       "0   50   83311             13             0             0              13   \n",
       "1   38  215646              9             0             0              40   \n",
       "2   53  234721              7             0             0              40   \n",
       "3   28  338409             13             0             0              40   \n",
       "4   37  284582             14             0             0              40   \n",
       "\n",
       "   workclass_ Local-gov  workclass_ Private  workclass_ Self-emp-inc  \\\n",
       "0                     0                   0                        0   \n",
       "1                     0                   1                        0   \n",
       "2                     0                   1                        0   \n",
       "3                     0                   1                        0   \n",
       "4                     0                   1                        0   \n",
       "\n",
       "   workclass_ Self-emp-not-inc  ...  native-country_ Puerto-Rico  \\\n",
       "0                            1  ...                            0   \n",
       "1                            0  ...                            0   \n",
       "2                            0  ...                            0   \n",
       "3                            0  ...                            0   \n",
       "4                            0  ...                            0   \n",
       "\n",
       "   native-country_ Scotland  native-country_ South  native-country_ Taiwan  \\\n",
       "0                         0                      0                       0   \n",
       "1                         0                      0                       0   \n",
       "2                         0                      0                       0   \n",
       "3                         0                      0                       0   \n",
       "4                         0                      0                       0   \n",
       "\n",
       "   native-country_ Thailand  native-country_ Trinadad&Tobago  \\\n",
       "0                         0                                0   \n",
       "1                         0                                0   \n",
       "2                         0                                0   \n",
       "3                         0                                0   \n",
       "4                         0                                0   \n",
       "\n",
       "   native-country_ United-States  native-country_ Vietnam  \\\n",
       "0                              1                        0   \n",
       "1                              1                        0   \n",
       "2                              1                        0   \n",
       "3                              0                        0   \n",
       "4                              1                        0   \n",
       "\n",
       "   native-country_ Yugoslavia   >50K  \n",
       "0                           0      0  \n",
       "1                           0      0  \n",
       "2                           0      0  \n",
       "3                           0      0  \n",
       "4                           0      0  \n",
       "\n",
       "[5 rows x 97 columns]"
      ]
     },
     "execution_count": 254,
     "metadata": {},
     "output_type": "execute_result"
    }
   ],
   "source": [
    "dataset_onehot.head()"
   ]
  },
  {
   "cell_type": "markdown",
   "id": "014b16f0",
   "metadata": {},
   "source": [
    "Now, the dataframe only has numerical values"
   ]
  },
  {
   "cell_type": "markdown",
   "id": "200c1d99",
   "metadata": {},
   "source": [
    "<a class=\"anchor\" id=\"1.7\"></a>\n",
    "#### 1.7.Divide the dataset into two subsamples in the proportion of 0.75 and 0.25. 75% of the observations should be in the first subsample, and the remaining 25% in the second. "
   ]
  },
  {
   "cell_type": "code",
   "execution_count": 255,
   "id": "1042b87f",
   "metadata": {},
   "outputs": [],
   "source": [
    "from sklearn.model_selection import train_test_split"
   ]
  },
  {
   "cell_type": "code",
   "execution_count": 256,
   "id": "d41943c8",
   "metadata": {},
   "outputs": [],
   "source": [
    "X = dataset_onehot.drop([' >50K'], axis=1)\n",
    "y = dataset_onehot[' >50K']"
   ]
  },
  {
   "cell_type": "code",
   "execution_count": 257,
   "id": "7a6867a6",
   "metadata": {},
   "outputs": [],
   "source": [
    "X_train, X_test, y_train, y_test = train_test_split(X, y, test_size=0.25, random_state=42)"
   ]
  },
  {
   "cell_type": "markdown",
   "id": "35e6fe7b",
   "metadata": {},
   "source": [
    "Let's check the number of rows in the train and test datasets"
   ]
  },
  {
   "cell_type": "code",
   "execution_count": 258,
   "id": "975a853f",
   "metadata": {},
   "outputs": [
    {
     "data": {
      "text/plain": [
       "((21744, 96), (21744,))"
      ]
     },
     "execution_count": 258,
     "metadata": {},
     "output_type": "execute_result"
    }
   ],
   "source": [
    "X_train.shape, y_train.shape"
   ]
  },
  {
   "cell_type": "code",
   "execution_count": 259,
   "id": "10c2b7e0",
   "metadata": {},
   "outputs": [
    {
     "data": {
      "text/plain": [
       "((7249, 96), (7249,))"
      ]
     },
     "execution_count": 259,
     "metadata": {},
     "output_type": "execute_result"
    }
   ],
   "source": [
    "X_test.shape, y_test.shape"
   ]
  },
  {
   "cell_type": "code",
   "execution_count": null,
   "id": "f0f412c0",
   "metadata": {},
   "outputs": [],
   "source": []
  }
 ],
 "metadata": {
  "kernelspec": {
   "display_name": "udacitycvenv",
   "language": "python",
   "name": "udacitycvenv"
  },
  "language_info": {
   "codemirror_mode": {
    "name": "ipython",
    "version": 3
   },
   "file_extension": ".py",
   "mimetype": "text/x-python",
   "name": "python",
   "nbconvert_exporter": "python",
   "pygments_lexer": "ipython3",
   "version": "3.9.0"
  }
 },
 "nbformat": 4,
 "nbformat_minor": 5
}
