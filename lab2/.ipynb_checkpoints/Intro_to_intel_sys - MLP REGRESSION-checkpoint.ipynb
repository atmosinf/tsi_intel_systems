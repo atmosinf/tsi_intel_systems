{
 "cells": [
  {
   "cell_type": "code",
   "execution_count": 1,
   "id": "575678b8",
   "metadata": {},
   "outputs": [],
   "source": [
    "#Import libraries for data handling\n",
    "\n",
    "import pandas as pd\n",
    "\n",
    "import numpy as np"
   ]
  },
  {
   "cell_type": "code",
   "execution_count": 3,
   "id": "252990fb",
   "metadata": {},
   "outputs": [],
   "source": [
    "#import data and set to display max columns\n",
    "\n",
    "#Dataset available from:\n",
    "#https://archive.ics.uci.edu/ml/datasets/Seoul+Bike+Sharing+Demand\n",
    "\n",
    "#This dataset must be encoded. Notice we specify encoding.\n",
    "\n",
    "data = pd.read_csv(r'C:/Users/HP/Downloads/SeoulBikeData.csv', delimiter=',', encoding = 'unicode_escape')\n",
    "\n",
    "pd.set_option('display.max_columns', None)"
   ]
  },
  {
   "cell_type": "code",
   "execution_count": 4,
   "id": "c47ef630",
   "metadata": {},
   "outputs": [
    {
     "data": {
      "text/html": [
       "<div>\n",
       "<style scoped>\n",
       "    .dataframe tbody tr th:only-of-type {\n",
       "        vertical-align: middle;\n",
       "    }\n",
       "\n",
       "    .dataframe tbody tr th {\n",
       "        vertical-align: top;\n",
       "    }\n",
       "\n",
       "    .dataframe thead th {\n",
       "        text-align: right;\n",
       "    }\n",
       "</style>\n",
       "<table border=\"1\" class=\"dataframe\">\n",
       "  <thead>\n",
       "    <tr style=\"text-align: right;\">\n",
       "      <th></th>\n",
       "      <th>Date</th>\n",
       "      <th>Rented Bike Count</th>\n",
       "      <th>Hour</th>\n",
       "      <th>Temperature(°C)</th>\n",
       "      <th>Humidity(%)</th>\n",
       "      <th>Wind speed (m/s)</th>\n",
       "      <th>Visibility (10m)</th>\n",
       "      <th>Dew point temperature(°C)</th>\n",
       "      <th>Solar Radiation (MJ/m2)</th>\n",
       "      <th>Rainfall(mm)</th>\n",
       "      <th>Snowfall (cm)</th>\n",
       "      <th>Seasons</th>\n",
       "      <th>Holiday</th>\n",
       "      <th>Functioning Day</th>\n",
       "    </tr>\n",
       "  </thead>\n",
       "  <tbody>\n",
       "    <tr>\n",
       "      <th>0</th>\n",
       "      <td>01/12/2017</td>\n",
       "      <td>254</td>\n",
       "      <td>0</td>\n",
       "      <td>-5.2</td>\n",
       "      <td>37</td>\n",
       "      <td>2.2</td>\n",
       "      <td>2000</td>\n",
       "      <td>-17.6</td>\n",
       "      <td>0.0</td>\n",
       "      <td>0.0</td>\n",
       "      <td>0.0</td>\n",
       "      <td>Winter</td>\n",
       "      <td>No Holiday</td>\n",
       "      <td>Yes</td>\n",
       "    </tr>\n",
       "    <tr>\n",
       "      <th>1</th>\n",
       "      <td>01/12/2017</td>\n",
       "      <td>204</td>\n",
       "      <td>1</td>\n",
       "      <td>-5.5</td>\n",
       "      <td>38</td>\n",
       "      <td>0.8</td>\n",
       "      <td>2000</td>\n",
       "      <td>-17.6</td>\n",
       "      <td>0.0</td>\n",
       "      <td>0.0</td>\n",
       "      <td>0.0</td>\n",
       "      <td>Winter</td>\n",
       "      <td>No Holiday</td>\n",
       "      <td>Yes</td>\n",
       "    </tr>\n",
       "    <tr>\n",
       "      <th>2</th>\n",
       "      <td>01/12/2017</td>\n",
       "      <td>173</td>\n",
       "      <td>2</td>\n",
       "      <td>-6.0</td>\n",
       "      <td>39</td>\n",
       "      <td>1.0</td>\n",
       "      <td>2000</td>\n",
       "      <td>-17.7</td>\n",
       "      <td>0.0</td>\n",
       "      <td>0.0</td>\n",
       "      <td>0.0</td>\n",
       "      <td>Winter</td>\n",
       "      <td>No Holiday</td>\n",
       "      <td>Yes</td>\n",
       "    </tr>\n",
       "    <tr>\n",
       "      <th>3</th>\n",
       "      <td>01/12/2017</td>\n",
       "      <td>107</td>\n",
       "      <td>3</td>\n",
       "      <td>-6.2</td>\n",
       "      <td>40</td>\n",
       "      <td>0.9</td>\n",
       "      <td>2000</td>\n",
       "      <td>-17.6</td>\n",
       "      <td>0.0</td>\n",
       "      <td>0.0</td>\n",
       "      <td>0.0</td>\n",
       "      <td>Winter</td>\n",
       "      <td>No Holiday</td>\n",
       "      <td>Yes</td>\n",
       "    </tr>\n",
       "    <tr>\n",
       "      <th>4</th>\n",
       "      <td>01/12/2017</td>\n",
       "      <td>78</td>\n",
       "      <td>4</td>\n",
       "      <td>-6.0</td>\n",
       "      <td>36</td>\n",
       "      <td>2.3</td>\n",
       "      <td>2000</td>\n",
       "      <td>-18.6</td>\n",
       "      <td>0.0</td>\n",
       "      <td>0.0</td>\n",
       "      <td>0.0</td>\n",
       "      <td>Winter</td>\n",
       "      <td>No Holiday</td>\n",
       "      <td>Yes</td>\n",
       "    </tr>\n",
       "    <tr>\n",
       "      <th>...</th>\n",
       "      <td>...</td>\n",
       "      <td>...</td>\n",
       "      <td>...</td>\n",
       "      <td>...</td>\n",
       "      <td>...</td>\n",
       "      <td>...</td>\n",
       "      <td>...</td>\n",
       "      <td>...</td>\n",
       "      <td>...</td>\n",
       "      <td>...</td>\n",
       "      <td>...</td>\n",
       "      <td>...</td>\n",
       "      <td>...</td>\n",
       "      <td>...</td>\n",
       "    </tr>\n",
       "    <tr>\n",
       "      <th>8755</th>\n",
       "      <td>30/11/2018</td>\n",
       "      <td>1003</td>\n",
       "      <td>19</td>\n",
       "      <td>4.2</td>\n",
       "      <td>34</td>\n",
       "      <td>2.6</td>\n",
       "      <td>1894</td>\n",
       "      <td>-10.3</td>\n",
       "      <td>0.0</td>\n",
       "      <td>0.0</td>\n",
       "      <td>0.0</td>\n",
       "      <td>Autumn</td>\n",
       "      <td>No Holiday</td>\n",
       "      <td>Yes</td>\n",
       "    </tr>\n",
       "    <tr>\n",
       "      <th>8756</th>\n",
       "      <td>30/11/2018</td>\n",
       "      <td>764</td>\n",
       "      <td>20</td>\n",
       "      <td>3.4</td>\n",
       "      <td>37</td>\n",
       "      <td>2.3</td>\n",
       "      <td>2000</td>\n",
       "      <td>-9.9</td>\n",
       "      <td>0.0</td>\n",
       "      <td>0.0</td>\n",
       "      <td>0.0</td>\n",
       "      <td>Autumn</td>\n",
       "      <td>No Holiday</td>\n",
       "      <td>Yes</td>\n",
       "    </tr>\n",
       "    <tr>\n",
       "      <th>8757</th>\n",
       "      <td>30/11/2018</td>\n",
       "      <td>694</td>\n",
       "      <td>21</td>\n",
       "      <td>2.6</td>\n",
       "      <td>39</td>\n",
       "      <td>0.3</td>\n",
       "      <td>1968</td>\n",
       "      <td>-9.9</td>\n",
       "      <td>0.0</td>\n",
       "      <td>0.0</td>\n",
       "      <td>0.0</td>\n",
       "      <td>Autumn</td>\n",
       "      <td>No Holiday</td>\n",
       "      <td>Yes</td>\n",
       "    </tr>\n",
       "    <tr>\n",
       "      <th>8758</th>\n",
       "      <td>30/11/2018</td>\n",
       "      <td>712</td>\n",
       "      <td>22</td>\n",
       "      <td>2.1</td>\n",
       "      <td>41</td>\n",
       "      <td>1.0</td>\n",
       "      <td>1859</td>\n",
       "      <td>-9.8</td>\n",
       "      <td>0.0</td>\n",
       "      <td>0.0</td>\n",
       "      <td>0.0</td>\n",
       "      <td>Autumn</td>\n",
       "      <td>No Holiday</td>\n",
       "      <td>Yes</td>\n",
       "    </tr>\n",
       "    <tr>\n",
       "      <th>8759</th>\n",
       "      <td>30/11/2018</td>\n",
       "      <td>584</td>\n",
       "      <td>23</td>\n",
       "      <td>1.9</td>\n",
       "      <td>43</td>\n",
       "      <td>1.3</td>\n",
       "      <td>1909</td>\n",
       "      <td>-9.3</td>\n",
       "      <td>0.0</td>\n",
       "      <td>0.0</td>\n",
       "      <td>0.0</td>\n",
       "      <td>Autumn</td>\n",
       "      <td>No Holiday</td>\n",
       "      <td>Yes</td>\n",
       "    </tr>\n",
       "  </tbody>\n",
       "</table>\n",
       "<p>8760 rows × 14 columns</p>\n",
       "</div>"
      ],
      "text/plain": [
       "            Date  Rented Bike Count  Hour  Temperature(°C)  Humidity(%)  \\\n",
       "0     01/12/2017                254     0             -5.2           37   \n",
       "1     01/12/2017                204     1             -5.5           38   \n",
       "2     01/12/2017                173     2             -6.0           39   \n",
       "3     01/12/2017                107     3             -6.2           40   \n",
       "4     01/12/2017                 78     4             -6.0           36   \n",
       "...          ...                ...   ...              ...          ...   \n",
       "8755  30/11/2018               1003    19              4.2           34   \n",
       "8756  30/11/2018                764    20              3.4           37   \n",
       "8757  30/11/2018                694    21              2.6           39   \n",
       "8758  30/11/2018                712    22              2.1           41   \n",
       "8759  30/11/2018                584    23              1.9           43   \n",
       "\n",
       "      Wind speed (m/s)  Visibility (10m)  Dew point temperature(°C)  \\\n",
       "0                  2.2              2000                      -17.6   \n",
       "1                  0.8              2000                      -17.6   \n",
       "2                  1.0              2000                      -17.7   \n",
       "3                  0.9              2000                      -17.6   \n",
       "4                  2.3              2000                      -18.6   \n",
       "...                ...               ...                        ...   \n",
       "8755               2.6              1894                      -10.3   \n",
       "8756               2.3              2000                       -9.9   \n",
       "8757               0.3              1968                       -9.9   \n",
       "8758               1.0              1859                       -9.8   \n",
       "8759               1.3              1909                       -9.3   \n",
       "\n",
       "      Solar Radiation (MJ/m2)  Rainfall(mm)  Snowfall (cm) Seasons  \\\n",
       "0                         0.0           0.0            0.0  Winter   \n",
       "1                         0.0           0.0            0.0  Winter   \n",
       "2                         0.0           0.0            0.0  Winter   \n",
       "3                         0.0           0.0            0.0  Winter   \n",
       "4                         0.0           0.0            0.0  Winter   \n",
       "...                       ...           ...            ...     ...   \n",
       "8755                      0.0           0.0            0.0  Autumn   \n",
       "8756                      0.0           0.0            0.0  Autumn   \n",
       "8757                      0.0           0.0            0.0  Autumn   \n",
       "8758                      0.0           0.0            0.0  Autumn   \n",
       "8759                      0.0           0.0            0.0  Autumn   \n",
       "\n",
       "         Holiday Functioning Day  \n",
       "0     No Holiday             Yes  \n",
       "1     No Holiday             Yes  \n",
       "2     No Holiday             Yes  \n",
       "3     No Holiday             Yes  \n",
       "4     No Holiday             Yes  \n",
       "...          ...             ...  \n",
       "8755  No Holiday             Yes  \n",
       "8756  No Holiday             Yes  \n",
       "8757  No Holiday             Yes  \n",
       "8758  No Holiday             Yes  \n",
       "8759  No Holiday             Yes  \n",
       "\n",
       "[8760 rows x 14 columns]"
      ]
     },
     "execution_count": 4,
     "metadata": {},
     "output_type": "execute_result"
    }
   ],
   "source": [
    "data"
   ]
  },
  {
   "cell_type": "code",
   "execution_count": 5,
   "id": "3a90f8ad",
   "metadata": {},
   "outputs": [
    {
     "name": "stdout",
     "output_type": "stream",
     "text": [
      "Date                         0\n",
      "Rented Bike Count            0\n",
      "Hour                         0\n",
      "Temperature(°C)              0\n",
      "Humidity(%)                  0\n",
      "Wind speed (m/s)             0\n",
      "Visibility (10m)             0\n",
      "Dew point temperature(°C)    0\n",
      "Solar Radiation (MJ/m2)      0\n",
      "Rainfall(mm)                 0\n",
      "Snowfall (cm)                0\n",
      "Seasons                      0\n",
      "Holiday                      0\n",
      "Functioning Day              0\n",
      "dtype: int64\n"
     ]
    }
   ],
   "source": [
    "#Check for missing values\n",
    "\n",
    "print(data.isnull().sum())"
   ]
  },
  {
   "cell_type": "code",
   "execution_count": 10,
   "id": "ef1a8fa2",
   "metadata": {},
   "outputs": [
    {
     "data": {
      "text/plain": [
       "Date                          object\n",
       "Rented Bike Count              int64\n",
       "Hour                           int64\n",
       "Temperature(°C)              float64\n",
       "Humidity(%)                    int64\n",
       "Wind speed (m/s)             float64\n",
       "Visibility (10m)               int64\n",
       "Dew point temperature(°C)    float64\n",
       "Solar Radiation (MJ/m2)      float64\n",
       "Rainfall(mm)                 float64\n",
       "Snowfall (cm)                float64\n",
       "Seasons                        int32\n",
       "Holiday                        int32\n",
       "Functioning Day                int32\n",
       "dtype: object"
      ]
     },
     "execution_count": 10,
     "metadata": {},
     "output_type": "execute_result"
    }
   ],
   "source": [
    "#Check datatypes\n",
    "\n",
    "#Notice that we have 'object' meaning its a categorical variable and needs encoding\n",
    "\n",
    "data.dtypes"
   ]
  },
  {
   "cell_type": "code",
   "execution_count": 7,
   "id": "42488544",
   "metadata": {},
   "outputs": [],
   "source": [
    "#import encoder\n",
    "\n",
    "from sklearn.preprocessing import LabelEncoder"
   ]
  },
  {
   "cell_type": "code",
   "execution_count": 8,
   "id": "583a4e9f",
   "metadata": {},
   "outputs": [],
   "source": [
    "#create instance of the encoder\n",
    "\n",
    "label_encoder=LabelEncoder()"
   ]
  },
  {
   "cell_type": "code",
   "execution_count": 9,
   "id": "a467e9f1",
   "metadata": {},
   "outputs": [],
   "source": [
    "#perform encoding\n",
    "\n",
    "data['Seasons'] = label_encoder.fit_transform(data['Seasons'])\n",
    "\n",
    "data['Holiday'] = label_encoder.fit_transform(data['Holiday'])\n",
    "\n",
    "data['Functioning Day'] = label_encoder.fit_transform(data['Functioning Day'])"
   ]
  },
  {
   "cell_type": "code",
   "execution_count": 11,
   "id": "16ff83a7",
   "metadata": {},
   "outputs": [
    {
     "data": {
      "text/html": [
       "<div>\n",
       "<style scoped>\n",
       "    .dataframe tbody tr th:only-of-type {\n",
       "        vertical-align: middle;\n",
       "    }\n",
       "\n",
       "    .dataframe tbody tr th {\n",
       "        vertical-align: top;\n",
       "    }\n",
       "\n",
       "    .dataframe thead th {\n",
       "        text-align: right;\n",
       "    }\n",
       "</style>\n",
       "<table border=\"1\" class=\"dataframe\">\n",
       "  <thead>\n",
       "    <tr style=\"text-align: right;\">\n",
       "      <th></th>\n",
       "      <th>Date</th>\n",
       "      <th>Rented Bike Count</th>\n",
       "      <th>Hour</th>\n",
       "      <th>Temperature(°C)</th>\n",
       "      <th>Humidity(%)</th>\n",
       "      <th>Wind speed (m/s)</th>\n",
       "      <th>Visibility (10m)</th>\n",
       "      <th>Dew point temperature(°C)</th>\n",
       "      <th>Solar Radiation (MJ/m2)</th>\n",
       "      <th>Rainfall(mm)</th>\n",
       "      <th>Snowfall (cm)</th>\n",
       "      <th>Seasons</th>\n",
       "      <th>Holiday</th>\n",
       "      <th>Functioning Day</th>\n",
       "    </tr>\n",
       "  </thead>\n",
       "  <tbody>\n",
       "    <tr>\n",
       "      <th>0</th>\n",
       "      <td>01/12/2017</td>\n",
       "      <td>254</td>\n",
       "      <td>0</td>\n",
       "      <td>-5.2</td>\n",
       "      <td>37</td>\n",
       "      <td>2.2</td>\n",
       "      <td>2000</td>\n",
       "      <td>-17.6</td>\n",
       "      <td>0.0</td>\n",
       "      <td>0.0</td>\n",
       "      <td>0.0</td>\n",
       "      <td>3</td>\n",
       "      <td>1</td>\n",
       "      <td>1</td>\n",
       "    </tr>\n",
       "    <tr>\n",
       "      <th>1</th>\n",
       "      <td>01/12/2017</td>\n",
       "      <td>204</td>\n",
       "      <td>1</td>\n",
       "      <td>-5.5</td>\n",
       "      <td>38</td>\n",
       "      <td>0.8</td>\n",
       "      <td>2000</td>\n",
       "      <td>-17.6</td>\n",
       "      <td>0.0</td>\n",
       "      <td>0.0</td>\n",
       "      <td>0.0</td>\n",
       "      <td>3</td>\n",
       "      <td>1</td>\n",
       "      <td>1</td>\n",
       "    </tr>\n",
       "    <tr>\n",
       "      <th>2</th>\n",
       "      <td>01/12/2017</td>\n",
       "      <td>173</td>\n",
       "      <td>2</td>\n",
       "      <td>-6.0</td>\n",
       "      <td>39</td>\n",
       "      <td>1.0</td>\n",
       "      <td>2000</td>\n",
       "      <td>-17.7</td>\n",
       "      <td>0.0</td>\n",
       "      <td>0.0</td>\n",
       "      <td>0.0</td>\n",
       "      <td>3</td>\n",
       "      <td>1</td>\n",
       "      <td>1</td>\n",
       "    </tr>\n",
       "    <tr>\n",
       "      <th>3</th>\n",
       "      <td>01/12/2017</td>\n",
       "      <td>107</td>\n",
       "      <td>3</td>\n",
       "      <td>-6.2</td>\n",
       "      <td>40</td>\n",
       "      <td>0.9</td>\n",
       "      <td>2000</td>\n",
       "      <td>-17.6</td>\n",
       "      <td>0.0</td>\n",
       "      <td>0.0</td>\n",
       "      <td>0.0</td>\n",
       "      <td>3</td>\n",
       "      <td>1</td>\n",
       "      <td>1</td>\n",
       "    </tr>\n",
       "    <tr>\n",
       "      <th>4</th>\n",
       "      <td>01/12/2017</td>\n",
       "      <td>78</td>\n",
       "      <td>4</td>\n",
       "      <td>-6.0</td>\n",
       "      <td>36</td>\n",
       "      <td>2.3</td>\n",
       "      <td>2000</td>\n",
       "      <td>-18.6</td>\n",
       "      <td>0.0</td>\n",
       "      <td>0.0</td>\n",
       "      <td>0.0</td>\n",
       "      <td>3</td>\n",
       "      <td>1</td>\n",
       "      <td>1</td>\n",
       "    </tr>\n",
       "    <tr>\n",
       "      <th>...</th>\n",
       "      <td>...</td>\n",
       "      <td>...</td>\n",
       "      <td>...</td>\n",
       "      <td>...</td>\n",
       "      <td>...</td>\n",
       "      <td>...</td>\n",
       "      <td>...</td>\n",
       "      <td>...</td>\n",
       "      <td>...</td>\n",
       "      <td>...</td>\n",
       "      <td>...</td>\n",
       "      <td>...</td>\n",
       "      <td>...</td>\n",
       "      <td>...</td>\n",
       "    </tr>\n",
       "    <tr>\n",
       "      <th>8755</th>\n",
       "      <td>30/11/2018</td>\n",
       "      <td>1003</td>\n",
       "      <td>19</td>\n",
       "      <td>4.2</td>\n",
       "      <td>34</td>\n",
       "      <td>2.6</td>\n",
       "      <td>1894</td>\n",
       "      <td>-10.3</td>\n",
       "      <td>0.0</td>\n",
       "      <td>0.0</td>\n",
       "      <td>0.0</td>\n",
       "      <td>0</td>\n",
       "      <td>1</td>\n",
       "      <td>1</td>\n",
       "    </tr>\n",
       "    <tr>\n",
       "      <th>8756</th>\n",
       "      <td>30/11/2018</td>\n",
       "      <td>764</td>\n",
       "      <td>20</td>\n",
       "      <td>3.4</td>\n",
       "      <td>37</td>\n",
       "      <td>2.3</td>\n",
       "      <td>2000</td>\n",
       "      <td>-9.9</td>\n",
       "      <td>0.0</td>\n",
       "      <td>0.0</td>\n",
       "      <td>0.0</td>\n",
       "      <td>0</td>\n",
       "      <td>1</td>\n",
       "      <td>1</td>\n",
       "    </tr>\n",
       "    <tr>\n",
       "      <th>8757</th>\n",
       "      <td>30/11/2018</td>\n",
       "      <td>694</td>\n",
       "      <td>21</td>\n",
       "      <td>2.6</td>\n",
       "      <td>39</td>\n",
       "      <td>0.3</td>\n",
       "      <td>1968</td>\n",
       "      <td>-9.9</td>\n",
       "      <td>0.0</td>\n",
       "      <td>0.0</td>\n",
       "      <td>0.0</td>\n",
       "      <td>0</td>\n",
       "      <td>1</td>\n",
       "      <td>1</td>\n",
       "    </tr>\n",
       "    <tr>\n",
       "      <th>8758</th>\n",
       "      <td>30/11/2018</td>\n",
       "      <td>712</td>\n",
       "      <td>22</td>\n",
       "      <td>2.1</td>\n",
       "      <td>41</td>\n",
       "      <td>1.0</td>\n",
       "      <td>1859</td>\n",
       "      <td>-9.8</td>\n",
       "      <td>0.0</td>\n",
       "      <td>0.0</td>\n",
       "      <td>0.0</td>\n",
       "      <td>0</td>\n",
       "      <td>1</td>\n",
       "      <td>1</td>\n",
       "    </tr>\n",
       "    <tr>\n",
       "      <th>8759</th>\n",
       "      <td>30/11/2018</td>\n",
       "      <td>584</td>\n",
       "      <td>23</td>\n",
       "      <td>1.9</td>\n",
       "      <td>43</td>\n",
       "      <td>1.3</td>\n",
       "      <td>1909</td>\n",
       "      <td>-9.3</td>\n",
       "      <td>0.0</td>\n",
       "      <td>0.0</td>\n",
       "      <td>0.0</td>\n",
       "      <td>0</td>\n",
       "      <td>1</td>\n",
       "      <td>1</td>\n",
       "    </tr>\n",
       "  </tbody>\n",
       "</table>\n",
       "<p>8760 rows × 14 columns</p>\n",
       "</div>"
      ],
      "text/plain": [
       "            Date  Rented Bike Count  Hour  Temperature(°C)  Humidity(%)  \\\n",
       "0     01/12/2017                254     0             -5.2           37   \n",
       "1     01/12/2017                204     1             -5.5           38   \n",
       "2     01/12/2017                173     2             -6.0           39   \n",
       "3     01/12/2017                107     3             -6.2           40   \n",
       "4     01/12/2017                 78     4             -6.0           36   \n",
       "...          ...                ...   ...              ...          ...   \n",
       "8755  30/11/2018               1003    19              4.2           34   \n",
       "8756  30/11/2018                764    20              3.4           37   \n",
       "8757  30/11/2018                694    21              2.6           39   \n",
       "8758  30/11/2018                712    22              2.1           41   \n",
       "8759  30/11/2018                584    23              1.9           43   \n",
       "\n",
       "      Wind speed (m/s)  Visibility (10m)  Dew point temperature(°C)  \\\n",
       "0                  2.2              2000                      -17.6   \n",
       "1                  0.8              2000                      -17.6   \n",
       "2                  1.0              2000                      -17.7   \n",
       "3                  0.9              2000                      -17.6   \n",
       "4                  2.3              2000                      -18.6   \n",
       "...                ...               ...                        ...   \n",
       "8755               2.6              1894                      -10.3   \n",
       "8756               2.3              2000                       -9.9   \n",
       "8757               0.3              1968                       -9.9   \n",
       "8758               1.0              1859                       -9.8   \n",
       "8759               1.3              1909                       -9.3   \n",
       "\n",
       "      Solar Radiation (MJ/m2)  Rainfall(mm)  Snowfall (cm)  Seasons  Holiday  \\\n",
       "0                         0.0           0.0            0.0        3        1   \n",
       "1                         0.0           0.0            0.0        3        1   \n",
       "2                         0.0           0.0            0.0        3        1   \n",
       "3                         0.0           0.0            0.0        3        1   \n",
       "4                         0.0           0.0            0.0        3        1   \n",
       "...                       ...           ...            ...      ...      ...   \n",
       "8755                      0.0           0.0            0.0        0        1   \n",
       "8756                      0.0           0.0            0.0        0        1   \n",
       "8757                      0.0           0.0            0.0        0        1   \n",
       "8758                      0.0           0.0            0.0        0        1   \n",
       "8759                      0.0           0.0            0.0        0        1   \n",
       "\n",
       "      Functioning Day  \n",
       "0                   1  \n",
       "1                   1  \n",
       "2                   1  \n",
       "3                   1  \n",
       "4                   1  \n",
       "...               ...  \n",
       "8755                1  \n",
       "8756                1  \n",
       "8757                1  \n",
       "8758                1  \n",
       "8759                1  \n",
       "\n",
       "[8760 rows x 14 columns]"
      ]
     },
     "execution_count": 11,
     "metadata": {},
     "output_type": "execute_result"
    }
   ],
   "source": [
    "data"
   ]
  },
  {
   "cell_type": "code",
   "execution_count": 12,
   "id": "b32cf181",
   "metadata": {},
   "outputs": [
    {
     "data": {
      "text/plain": [
       "(8760, 14)"
      ]
     },
     "execution_count": 12,
     "metadata": {},
     "output_type": "execute_result"
    }
   ],
   "source": [
    "#Remember to continually check shape to make sure everything is right\n",
    "\n",
    "data.shape"
   ]
  },
  {
   "cell_type": "code",
   "execution_count": 13,
   "id": "c3450c4f",
   "metadata": {},
   "outputs": [],
   "source": [
    "#Engineer a few more features from Datetime\n",
    "\n",
    "data['Month'] = pd.DatetimeIndex(data['Date']).month"
   ]
  },
  {
   "cell_type": "code",
   "execution_count": 14,
   "id": "50dd5e4f",
   "metadata": {},
   "outputs": [],
   "source": [
    "data['DayOfMonth'] = pd.DatetimeIndex(data['Date']).day"
   ]
  },
  {
   "cell_type": "code",
   "execution_count": 15,
   "id": "a61e8964",
   "metadata": {},
   "outputs": [],
   "source": [
    "data['Year'] = pd.DatetimeIndex(data['Date']).year"
   ]
  },
  {
   "cell_type": "code",
   "execution_count": 16,
   "id": "43507b1c",
   "metadata": {},
   "outputs": [
    {
     "data": {
      "text/plain": [
       "(8760, 17)"
      ]
     },
     "execution_count": 16,
     "metadata": {},
     "output_type": "execute_result"
    }
   ],
   "source": [
    "data.shape"
   ]
  },
  {
   "cell_type": "code",
   "execution_count": 17,
   "id": "76230b17",
   "metadata": {},
   "outputs": [
    {
     "data": {
      "text/html": [
       "<div>\n",
       "<style scoped>\n",
       "    .dataframe tbody tr th:only-of-type {\n",
       "        vertical-align: middle;\n",
       "    }\n",
       "\n",
       "    .dataframe tbody tr th {\n",
       "        vertical-align: top;\n",
       "    }\n",
       "\n",
       "    .dataframe thead th {\n",
       "        text-align: right;\n",
       "    }\n",
       "</style>\n",
       "<table border=\"1\" class=\"dataframe\">\n",
       "  <thead>\n",
       "    <tr style=\"text-align: right;\">\n",
       "      <th></th>\n",
       "      <th>Date</th>\n",
       "      <th>Rented Bike Count</th>\n",
       "      <th>Hour</th>\n",
       "      <th>Temperature(°C)</th>\n",
       "      <th>Humidity(%)</th>\n",
       "      <th>Wind speed (m/s)</th>\n",
       "      <th>Visibility (10m)</th>\n",
       "      <th>Dew point temperature(°C)</th>\n",
       "      <th>Solar Radiation (MJ/m2)</th>\n",
       "      <th>Rainfall(mm)</th>\n",
       "      <th>Snowfall (cm)</th>\n",
       "      <th>Seasons</th>\n",
       "      <th>Holiday</th>\n",
       "      <th>Functioning Day</th>\n",
       "      <th>Month</th>\n",
       "      <th>DayOfMonth</th>\n",
       "      <th>Year</th>\n",
       "    </tr>\n",
       "  </thead>\n",
       "  <tbody>\n",
       "    <tr>\n",
       "      <th>0</th>\n",
       "      <td>01/12/2017</td>\n",
       "      <td>254</td>\n",
       "      <td>0</td>\n",
       "      <td>-5.2</td>\n",
       "      <td>37</td>\n",
       "      <td>2.2</td>\n",
       "      <td>2000</td>\n",
       "      <td>-17.6</td>\n",
       "      <td>0.0</td>\n",
       "      <td>0.0</td>\n",
       "      <td>0.0</td>\n",
       "      <td>3</td>\n",
       "      <td>1</td>\n",
       "      <td>1</td>\n",
       "      <td>1</td>\n",
       "      <td>12</td>\n",
       "      <td>2017</td>\n",
       "    </tr>\n",
       "    <tr>\n",
       "      <th>1</th>\n",
       "      <td>01/12/2017</td>\n",
       "      <td>204</td>\n",
       "      <td>1</td>\n",
       "      <td>-5.5</td>\n",
       "      <td>38</td>\n",
       "      <td>0.8</td>\n",
       "      <td>2000</td>\n",
       "      <td>-17.6</td>\n",
       "      <td>0.0</td>\n",
       "      <td>0.0</td>\n",
       "      <td>0.0</td>\n",
       "      <td>3</td>\n",
       "      <td>1</td>\n",
       "      <td>1</td>\n",
       "      <td>1</td>\n",
       "      <td>12</td>\n",
       "      <td>2017</td>\n",
       "    </tr>\n",
       "    <tr>\n",
       "      <th>2</th>\n",
       "      <td>01/12/2017</td>\n",
       "      <td>173</td>\n",
       "      <td>2</td>\n",
       "      <td>-6.0</td>\n",
       "      <td>39</td>\n",
       "      <td>1.0</td>\n",
       "      <td>2000</td>\n",
       "      <td>-17.7</td>\n",
       "      <td>0.0</td>\n",
       "      <td>0.0</td>\n",
       "      <td>0.0</td>\n",
       "      <td>3</td>\n",
       "      <td>1</td>\n",
       "      <td>1</td>\n",
       "      <td>1</td>\n",
       "      <td>12</td>\n",
       "      <td>2017</td>\n",
       "    </tr>\n",
       "    <tr>\n",
       "      <th>3</th>\n",
       "      <td>01/12/2017</td>\n",
       "      <td>107</td>\n",
       "      <td>3</td>\n",
       "      <td>-6.2</td>\n",
       "      <td>40</td>\n",
       "      <td>0.9</td>\n",
       "      <td>2000</td>\n",
       "      <td>-17.6</td>\n",
       "      <td>0.0</td>\n",
       "      <td>0.0</td>\n",
       "      <td>0.0</td>\n",
       "      <td>3</td>\n",
       "      <td>1</td>\n",
       "      <td>1</td>\n",
       "      <td>1</td>\n",
       "      <td>12</td>\n",
       "      <td>2017</td>\n",
       "    </tr>\n",
       "    <tr>\n",
       "      <th>4</th>\n",
       "      <td>01/12/2017</td>\n",
       "      <td>78</td>\n",
       "      <td>4</td>\n",
       "      <td>-6.0</td>\n",
       "      <td>36</td>\n",
       "      <td>2.3</td>\n",
       "      <td>2000</td>\n",
       "      <td>-18.6</td>\n",
       "      <td>0.0</td>\n",
       "      <td>0.0</td>\n",
       "      <td>0.0</td>\n",
       "      <td>3</td>\n",
       "      <td>1</td>\n",
       "      <td>1</td>\n",
       "      <td>1</td>\n",
       "      <td>12</td>\n",
       "      <td>2017</td>\n",
       "    </tr>\n",
       "    <tr>\n",
       "      <th>...</th>\n",
       "      <td>...</td>\n",
       "      <td>...</td>\n",
       "      <td>...</td>\n",
       "      <td>...</td>\n",
       "      <td>...</td>\n",
       "      <td>...</td>\n",
       "      <td>...</td>\n",
       "      <td>...</td>\n",
       "      <td>...</td>\n",
       "      <td>...</td>\n",
       "      <td>...</td>\n",
       "      <td>...</td>\n",
       "      <td>...</td>\n",
       "      <td>...</td>\n",
       "      <td>...</td>\n",
       "      <td>...</td>\n",
       "      <td>...</td>\n",
       "    </tr>\n",
       "    <tr>\n",
       "      <th>8755</th>\n",
       "      <td>30/11/2018</td>\n",
       "      <td>1003</td>\n",
       "      <td>19</td>\n",
       "      <td>4.2</td>\n",
       "      <td>34</td>\n",
       "      <td>2.6</td>\n",
       "      <td>1894</td>\n",
       "      <td>-10.3</td>\n",
       "      <td>0.0</td>\n",
       "      <td>0.0</td>\n",
       "      <td>0.0</td>\n",
       "      <td>0</td>\n",
       "      <td>1</td>\n",
       "      <td>1</td>\n",
       "      <td>11</td>\n",
       "      <td>30</td>\n",
       "      <td>2018</td>\n",
       "    </tr>\n",
       "    <tr>\n",
       "      <th>8756</th>\n",
       "      <td>30/11/2018</td>\n",
       "      <td>764</td>\n",
       "      <td>20</td>\n",
       "      <td>3.4</td>\n",
       "      <td>37</td>\n",
       "      <td>2.3</td>\n",
       "      <td>2000</td>\n",
       "      <td>-9.9</td>\n",
       "      <td>0.0</td>\n",
       "      <td>0.0</td>\n",
       "      <td>0.0</td>\n",
       "      <td>0</td>\n",
       "      <td>1</td>\n",
       "      <td>1</td>\n",
       "      <td>11</td>\n",
       "      <td>30</td>\n",
       "      <td>2018</td>\n",
       "    </tr>\n",
       "    <tr>\n",
       "      <th>8757</th>\n",
       "      <td>30/11/2018</td>\n",
       "      <td>694</td>\n",
       "      <td>21</td>\n",
       "      <td>2.6</td>\n",
       "      <td>39</td>\n",
       "      <td>0.3</td>\n",
       "      <td>1968</td>\n",
       "      <td>-9.9</td>\n",
       "      <td>0.0</td>\n",
       "      <td>0.0</td>\n",
       "      <td>0.0</td>\n",
       "      <td>0</td>\n",
       "      <td>1</td>\n",
       "      <td>1</td>\n",
       "      <td>11</td>\n",
       "      <td>30</td>\n",
       "      <td>2018</td>\n",
       "    </tr>\n",
       "    <tr>\n",
       "      <th>8758</th>\n",
       "      <td>30/11/2018</td>\n",
       "      <td>712</td>\n",
       "      <td>22</td>\n",
       "      <td>2.1</td>\n",
       "      <td>41</td>\n",
       "      <td>1.0</td>\n",
       "      <td>1859</td>\n",
       "      <td>-9.8</td>\n",
       "      <td>0.0</td>\n",
       "      <td>0.0</td>\n",
       "      <td>0.0</td>\n",
       "      <td>0</td>\n",
       "      <td>1</td>\n",
       "      <td>1</td>\n",
       "      <td>11</td>\n",
       "      <td>30</td>\n",
       "      <td>2018</td>\n",
       "    </tr>\n",
       "    <tr>\n",
       "      <th>8759</th>\n",
       "      <td>30/11/2018</td>\n",
       "      <td>584</td>\n",
       "      <td>23</td>\n",
       "      <td>1.9</td>\n",
       "      <td>43</td>\n",
       "      <td>1.3</td>\n",
       "      <td>1909</td>\n",
       "      <td>-9.3</td>\n",
       "      <td>0.0</td>\n",
       "      <td>0.0</td>\n",
       "      <td>0.0</td>\n",
       "      <td>0</td>\n",
       "      <td>1</td>\n",
       "      <td>1</td>\n",
       "      <td>11</td>\n",
       "      <td>30</td>\n",
       "      <td>2018</td>\n",
       "    </tr>\n",
       "  </tbody>\n",
       "</table>\n",
       "<p>8760 rows × 17 columns</p>\n",
       "</div>"
      ],
      "text/plain": [
       "            Date  Rented Bike Count  Hour  Temperature(°C)  Humidity(%)  \\\n",
       "0     01/12/2017                254     0             -5.2           37   \n",
       "1     01/12/2017                204     1             -5.5           38   \n",
       "2     01/12/2017                173     2             -6.0           39   \n",
       "3     01/12/2017                107     3             -6.2           40   \n",
       "4     01/12/2017                 78     4             -6.0           36   \n",
       "...          ...                ...   ...              ...          ...   \n",
       "8755  30/11/2018               1003    19              4.2           34   \n",
       "8756  30/11/2018                764    20              3.4           37   \n",
       "8757  30/11/2018                694    21              2.6           39   \n",
       "8758  30/11/2018                712    22              2.1           41   \n",
       "8759  30/11/2018                584    23              1.9           43   \n",
       "\n",
       "      Wind speed (m/s)  Visibility (10m)  Dew point temperature(°C)  \\\n",
       "0                  2.2              2000                      -17.6   \n",
       "1                  0.8              2000                      -17.6   \n",
       "2                  1.0              2000                      -17.7   \n",
       "3                  0.9              2000                      -17.6   \n",
       "4                  2.3              2000                      -18.6   \n",
       "...                ...               ...                        ...   \n",
       "8755               2.6              1894                      -10.3   \n",
       "8756               2.3              2000                       -9.9   \n",
       "8757               0.3              1968                       -9.9   \n",
       "8758               1.0              1859                       -9.8   \n",
       "8759               1.3              1909                       -9.3   \n",
       "\n",
       "      Solar Radiation (MJ/m2)  Rainfall(mm)  Snowfall (cm)  Seasons  Holiday  \\\n",
       "0                         0.0           0.0            0.0        3        1   \n",
       "1                         0.0           0.0            0.0        3        1   \n",
       "2                         0.0           0.0            0.0        3        1   \n",
       "3                         0.0           0.0            0.0        3        1   \n",
       "4                         0.0           0.0            0.0        3        1   \n",
       "...                       ...           ...            ...      ...      ...   \n",
       "8755                      0.0           0.0            0.0        0        1   \n",
       "8756                      0.0           0.0            0.0        0        1   \n",
       "8757                      0.0           0.0            0.0        0        1   \n",
       "8758                      0.0           0.0            0.0        0        1   \n",
       "8759                      0.0           0.0            0.0        0        1   \n",
       "\n",
       "      Functioning Day  Month  DayOfMonth  Year  \n",
       "0                   1      1          12  2017  \n",
       "1                   1      1          12  2017  \n",
       "2                   1      1          12  2017  \n",
       "3                   1      1          12  2017  \n",
       "4                   1      1          12  2017  \n",
       "...               ...    ...         ...   ...  \n",
       "8755                1     11          30  2018  \n",
       "8756                1     11          30  2018  \n",
       "8757                1     11          30  2018  \n",
       "8758                1     11          30  2018  \n",
       "8759                1     11          30  2018  \n",
       "\n",
       "[8760 rows x 17 columns]"
      ]
     },
     "execution_count": 17,
     "metadata": {},
     "output_type": "execute_result"
    }
   ],
   "source": [
    "data"
   ]
  },
  {
   "cell_type": "code",
   "execution_count": null,
   "id": "ac07e915",
   "metadata": {},
   "outputs": [],
   "source": [
    "#Before data exploration, lets extract the most important features\n",
    "\n",
    "#Alternative we can study correlation and try to manually deduce the most important features.\n",
    "\n",
    "#This is not always feasible when we have a dataset with large dimensionality"
   ]
  },
  {
   "cell_type": "code",
   "execution_count": 18,
   "id": "1bd5937b",
   "metadata": {},
   "outputs": [],
   "source": [
    "#We will use this as estimator in genetic algorithm\n",
    "\n",
    "from sklearn import tree"
   ]
  },
  {
   "cell_type": "code",
   "execution_count": 19,
   "id": "4516759a",
   "metadata": {},
   "outputs": [],
   "source": [
    "#Using as estimator in GA"
   ]
  },
  {
   "cell_type": "code",
   "execution_count": 20,
   "id": "f576c670",
   "metadata": {},
   "outputs": [],
   "source": [
    "model = tree.DecisionTreeRegressor()"
   ]
  },
  {
   "cell_type": "code",
   "execution_count": 21,
   "id": "f8d0bf6e",
   "metadata": {},
   "outputs": [],
   "source": [
    "#Preparing data for GA, X is everything but target variable\n",
    "\n",
    "#Y is target variable\n",
    "\n",
    "X = data.drop(['Rented Bike Count', 'Date'], axis=1)\n",
    "Y = data['Rented Bike Count']"
   ]
  },
  {
   "cell_type": "code",
   "execution_count": 22,
   "id": "bc113075",
   "metadata": {},
   "outputs": [
    {
     "data": {
      "text/plain": [
       "(8760, 15)"
      ]
     },
     "execution_count": 22,
     "metadata": {},
     "output_type": "execute_result"
    }
   ],
   "source": [
    "X.shape"
   ]
  },
  {
   "cell_type": "code",
   "execution_count": 23,
   "id": "5fb81ddc",
   "metadata": {},
   "outputs": [
    {
     "data": {
      "text/plain": [
       "(8760,)"
      ]
     },
     "execution_count": 23,
     "metadata": {},
     "output_type": "execute_result"
    }
   ],
   "source": [
    "Y.shape"
   ]
  },
  {
   "cell_type": "code",
   "execution_count": 24,
   "id": "437ff00f",
   "metadata": {},
   "outputs": [],
   "source": [
    "#Import genetic algorithm\n",
    "\n",
    "from sklearn_genetic import GAFeatureSelectionCV"
   ]
  },
  {
   "cell_type": "code",
   "execution_count": 25,
   "id": "e6cfa7a9",
   "metadata": {},
   "outputs": [],
   "source": [
    "#defining the GA"
   ]
  },
  {
   "cell_type": "code",
   "execution_count": 26,
   "id": "4c0c347f",
   "metadata": {},
   "outputs": [],
   "source": [
    "#Scoring = fitness function. Algorithms checks performance using your specified scoring metric.\n",
    "#More information on GA parameters, in sklearn-genetic-opt documentation found online\n",
    "\n",
    "genetic_algorithm = GAFeatureSelectionCV(\n",
    "estimator = model,\n",
    "scoring = 'r2',\n",
    "generations = 50)"
   ]
  },
  {
   "cell_type": "code",
   "execution_count": 27,
   "id": "563d509c",
   "metadata": {},
   "outputs": [
    {
     "name": "stdout",
     "output_type": "stream",
     "text": [
      "gen\tnevals\tfitness  \tfitness_std\tfitness_max\tfitness_min\n",
      "0  \t10    \t-0.925539\t0.503115   \t-0.182987  \t-1.90601   \n",
      "1  \t18    \t-0.916708\t0.449512   \t-0.398458  \t-1.90601   \n",
      "2  \t20    \t-0.868454\t0.300542   \t-0.398458  \t-1.23735   \n",
      "3  \t20    \t-0.67413 \t0.236718   \t-0.398458  \t-1.21192   \n",
      "4  \t19    \t-0.543484\t0.0878061  \t-0.374336  \t-0.661546  \n",
      "5  \t19    \t-0.49547 \t0.0764498  \t-0.352841  \t-0.565136  \n",
      "6  \t18    \t-0.465398\t0.0796267  \t-0.331648  \t-0.572059  \n",
      "7  \t18    \t-0.406525\t0.0700855  \t-0.347848  \t-0.552146  \n",
      "8  \t16    \t-0.337687\t0.0563188  \t-0.267361  \t-0.475981  \n",
      "9  \t18    \t-0.316811\t0.0425358  \t-0.267361  \t-0.427466  \n",
      "10 \t17    \t-0.272937\t0.0252279  \t-0.226029  \t-0.309549  \n",
      "11 \t19    \t-0.247225\t0.0527622  \t-0.111905  \t-0.308788  \n",
      "12 \t15    \t-0.224921\t0.0521417  \t-0.127765  \t-0.27495   \n",
      "13 \t17    \t-0.20833 \t0.0552132  \t-0.127765  \t-0.27495   \n",
      "14 \t19    \t-0.139876\t0.0705006  \t0.028103   \t-0.236087  \n",
      "15 \t19    \t-0.0724451\t0.0635233  \t0.0174079  \t-0.141879  \n",
      "16 \t17    \t-0.0406496\t0.0566998  \t0.0174079  \t-0.120225  \n",
      "17 \t17    \t-0.0202927\t0.0413114  \t0.0174079  \t-0.11036   \n",
      "18 \t17    \t0.00435838\t0.013548   \t0.0190582  \t-0.0211565 \n",
      "19 \t19    \t0.00510263\t0.0140921  \t0.0190582  \t-0.0211565 \n",
      "20 \t18    \t-0.008404 \t0.00797313 \t0.0058283  \t-0.0211565 \n",
      "21 \t19    \t-0.0035613\t0.00759087 \t0.00972512 \t-0.0132161 \n",
      "22 \t17    \t-0.00382341\t0.0128341  \t0.00972512 \t-0.0363313 \n",
      "23 \t19    \t0.00389001 \t0.00644665 \t0.0138043  \t-0.0072499 \n",
      "24 \t18    \t0.00587035 \t0.00719222 \t0.0212649  \t-0.0072499 \n",
      "25 \t14    \t0.00870859 \t0.00498064 \t0.0212649  \t0.0048567  \n",
      "26 \t18    \t0.0104305  \t0.00531472 \t0.0212649  \t0.000966983\n",
      "27 \t16    \t0.00469503 \t0.00982431 \t0.0212649  \t-0.0111219 \n",
      "28 \t17    \t0.0092263  \t0.00834577 \t0.0212649  \t-0.0116204 \n",
      "29 \t15    \t0.00648422 \t0.0070889  \t0.0120778  \t-0.00508573\n",
      "30 \t17    \t0.0102586  \t0.00384102 \t0.0120778  \t0.0002293  \n",
      "31 \t19    \t0.00367033 \t0.0146872  \t0.0120778  \t-0.0348895 \n",
      "32 \t17    \t0.00993561 \t0.0133041  \t0.0194861  \t-0.0284679 \n",
      "33 \t15    \t0.0114199  \t0.00951285 \t0.0194861  \t-0.0101562 \n",
      "34 \t18    \t0.00656762 \t0.0157949  \t0.0194861  \t-0.0212746 \n",
      "35 \t18    \t0.00761555 \t0.0140941  \t0.0194861  \t-0.0154913 \n",
      "36 \t18    \t0.00531673 \t0.0235096  \t0.0194861  \t-0.0612993 \n",
      "37 \t17    \t0.00471707 \t0.0187173  \t0.0194861  \t-0.0441601 \n",
      "38 \t17    \t0.0114605  \t0.0101018  \t0.0268068  \t-0.00311034\n",
      "39 \t17    \t0.0122192  \t0.00773277 \t0.0194861  \t-0.00311034\n",
      "40 \t18    \t0.0103263  \t0.0095741  \t0.0194861  \t-0.00833955\n",
      "41 \t19    \t0.00748304 \t0.0227466  \t0.0194861  \t-0.0548094 \n",
      "42 \t17    \t0.0194861  \t3.46945e-18\t0.0194861  \t0.0194861  \n",
      "43 \t19    \t0.00586123 \t0.0173095  \t0.0194861  \t-0.0209898 \n",
      "44 \t16    \t0.0178573  \t0.0068926  \t0.0303668  \t0.00324118 \n",
      "45 \t18    \t0.0148528  \t0.00942488 \t0.0194861  \t-0.0115072 \n",
      "46 \t19    \t0.0122665  \t0.00989796 \t0.0194861  \t-0.00641182\n",
      "47 \t18    \t0.0141135  \t0.00990677 \t0.0212889  \t-0.0028207 \n",
      "48 \t17    \t0.0230662  \t0.00473949 \t0.0305796  \t0.0194861  \n",
      "49 \t19    \t0.0214248  \t0.00921852 \t0.0305796  \t0.00165801 \n",
      "50 \t17    \t0.0222816  \t0.0106951  \t0.0305796  \t0.00165801 \n"
     ]
    },
    {
     "data": {
      "text/plain": [
       "GAFeatureSelectionCV(estimator=DecisionTreeRegressor(), generations=50,\n",
       "                     return_train_score=True, scoring='r2')"
      ]
     },
     "execution_count": 27,
     "metadata": {},
     "output_type": "execute_result"
    }
   ],
   "source": [
    "#Training the GA\n",
    "\n",
    "genetic_algorithm.fit(X, Y)"
   ]
  },
  {
   "cell_type": "code",
   "execution_count": 28,
   "id": "9926d795",
   "metadata": {},
   "outputs": [],
   "source": [
    "#Calling the best features attribute\n",
    "\n",
    "features = genetic_algorithm.best_features_"
   ]
  },
  {
   "cell_type": "code",
   "execution_count": 29,
   "id": "43eebadd",
   "metadata": {},
   "outputs": [
    {
     "data": {
      "text/plain": [
       "array([ True,  True, False, False, False, False,  True,  True, False,\n",
       "        True, False, False, False, False, False])"
      ]
     },
     "execution_count": 29,
     "metadata": {},
     "output_type": "execute_result"
    }
   ],
   "source": [
    "features"
   ]
  },
  {
   "cell_type": "code",
   "execution_count": 30,
   "id": "7482ba78",
   "metadata": {},
   "outputs": [],
   "source": [
    "#Creating new dataframe based on our results\n",
    "\n",
    "newdata = data[['Hour', 'Temperature(°C)', 'Solar Radiation (MJ/m2)', 'Rainfall(mm)', 'Holiday','Month', 'Year', 'Rented Bike Count', 'Functioning Day']]"
   ]
  },
  {
   "cell_type": "code",
   "execution_count": 31,
   "id": "a024b8dd",
   "metadata": {},
   "outputs": [
    {
     "data": {
      "text/html": [
       "<div>\n",
       "<style scoped>\n",
       "    .dataframe tbody tr th:only-of-type {\n",
       "        vertical-align: middle;\n",
       "    }\n",
       "\n",
       "    .dataframe tbody tr th {\n",
       "        vertical-align: top;\n",
       "    }\n",
       "\n",
       "    .dataframe thead th {\n",
       "        text-align: right;\n",
       "    }\n",
       "</style>\n",
       "<table border=\"1\" class=\"dataframe\">\n",
       "  <thead>\n",
       "    <tr style=\"text-align: right;\">\n",
       "      <th></th>\n",
       "      <th>Hour</th>\n",
       "      <th>Temperature(°C)</th>\n",
       "      <th>Solar Radiation (MJ/m2)</th>\n",
       "      <th>Rainfall(mm)</th>\n",
       "      <th>Holiday</th>\n",
       "      <th>Month</th>\n",
       "      <th>Year</th>\n",
       "      <th>Rented Bike Count</th>\n",
       "      <th>Functioning Day</th>\n",
       "    </tr>\n",
       "  </thead>\n",
       "  <tbody>\n",
       "    <tr>\n",
       "      <th>0</th>\n",
       "      <td>0</td>\n",
       "      <td>-5.2</td>\n",
       "      <td>0.0</td>\n",
       "      <td>0.0</td>\n",
       "      <td>1</td>\n",
       "      <td>1</td>\n",
       "      <td>2017</td>\n",
       "      <td>254</td>\n",
       "      <td>1</td>\n",
       "    </tr>\n",
       "    <tr>\n",
       "      <th>1</th>\n",
       "      <td>1</td>\n",
       "      <td>-5.5</td>\n",
       "      <td>0.0</td>\n",
       "      <td>0.0</td>\n",
       "      <td>1</td>\n",
       "      <td>1</td>\n",
       "      <td>2017</td>\n",
       "      <td>204</td>\n",
       "      <td>1</td>\n",
       "    </tr>\n",
       "    <tr>\n",
       "      <th>2</th>\n",
       "      <td>2</td>\n",
       "      <td>-6.0</td>\n",
       "      <td>0.0</td>\n",
       "      <td>0.0</td>\n",
       "      <td>1</td>\n",
       "      <td>1</td>\n",
       "      <td>2017</td>\n",
       "      <td>173</td>\n",
       "      <td>1</td>\n",
       "    </tr>\n",
       "    <tr>\n",
       "      <th>3</th>\n",
       "      <td>3</td>\n",
       "      <td>-6.2</td>\n",
       "      <td>0.0</td>\n",
       "      <td>0.0</td>\n",
       "      <td>1</td>\n",
       "      <td>1</td>\n",
       "      <td>2017</td>\n",
       "      <td>107</td>\n",
       "      <td>1</td>\n",
       "    </tr>\n",
       "    <tr>\n",
       "      <th>4</th>\n",
       "      <td>4</td>\n",
       "      <td>-6.0</td>\n",
       "      <td>0.0</td>\n",
       "      <td>0.0</td>\n",
       "      <td>1</td>\n",
       "      <td>1</td>\n",
       "      <td>2017</td>\n",
       "      <td>78</td>\n",
       "      <td>1</td>\n",
       "    </tr>\n",
       "    <tr>\n",
       "      <th>...</th>\n",
       "      <td>...</td>\n",
       "      <td>...</td>\n",
       "      <td>...</td>\n",
       "      <td>...</td>\n",
       "      <td>...</td>\n",
       "      <td>...</td>\n",
       "      <td>...</td>\n",
       "      <td>...</td>\n",
       "      <td>...</td>\n",
       "    </tr>\n",
       "    <tr>\n",
       "      <th>8755</th>\n",
       "      <td>19</td>\n",
       "      <td>4.2</td>\n",
       "      <td>0.0</td>\n",
       "      <td>0.0</td>\n",
       "      <td>1</td>\n",
       "      <td>11</td>\n",
       "      <td>2018</td>\n",
       "      <td>1003</td>\n",
       "      <td>1</td>\n",
       "    </tr>\n",
       "    <tr>\n",
       "      <th>8756</th>\n",
       "      <td>20</td>\n",
       "      <td>3.4</td>\n",
       "      <td>0.0</td>\n",
       "      <td>0.0</td>\n",
       "      <td>1</td>\n",
       "      <td>11</td>\n",
       "      <td>2018</td>\n",
       "      <td>764</td>\n",
       "      <td>1</td>\n",
       "    </tr>\n",
       "    <tr>\n",
       "      <th>8757</th>\n",
       "      <td>21</td>\n",
       "      <td>2.6</td>\n",
       "      <td>0.0</td>\n",
       "      <td>0.0</td>\n",
       "      <td>1</td>\n",
       "      <td>11</td>\n",
       "      <td>2018</td>\n",
       "      <td>694</td>\n",
       "      <td>1</td>\n",
       "    </tr>\n",
       "    <tr>\n",
       "      <th>8758</th>\n",
       "      <td>22</td>\n",
       "      <td>2.1</td>\n",
       "      <td>0.0</td>\n",
       "      <td>0.0</td>\n",
       "      <td>1</td>\n",
       "      <td>11</td>\n",
       "      <td>2018</td>\n",
       "      <td>712</td>\n",
       "      <td>1</td>\n",
       "    </tr>\n",
       "    <tr>\n",
       "      <th>8759</th>\n",
       "      <td>23</td>\n",
       "      <td>1.9</td>\n",
       "      <td>0.0</td>\n",
       "      <td>0.0</td>\n",
       "      <td>1</td>\n",
       "      <td>11</td>\n",
       "      <td>2018</td>\n",
       "      <td>584</td>\n",
       "      <td>1</td>\n",
       "    </tr>\n",
       "  </tbody>\n",
       "</table>\n",
       "<p>8760 rows × 9 columns</p>\n",
       "</div>"
      ],
      "text/plain": [
       "      Hour  Temperature(°C)  Solar Radiation (MJ/m2)  Rainfall(mm)  Holiday  \\\n",
       "0        0             -5.2                      0.0           0.0        1   \n",
       "1        1             -5.5                      0.0           0.0        1   \n",
       "2        2             -6.0                      0.0           0.0        1   \n",
       "3        3             -6.2                      0.0           0.0        1   \n",
       "4        4             -6.0                      0.0           0.0        1   \n",
       "...    ...              ...                      ...           ...      ...   \n",
       "8755    19              4.2                      0.0           0.0        1   \n",
       "8756    20              3.4                      0.0           0.0        1   \n",
       "8757    21              2.6                      0.0           0.0        1   \n",
       "8758    22              2.1                      0.0           0.0        1   \n",
       "8759    23              1.9                      0.0           0.0        1   \n",
       "\n",
       "      Month  Year  Rented Bike Count  Functioning Day  \n",
       "0         1  2017                254                1  \n",
       "1         1  2017                204                1  \n",
       "2         1  2017                173                1  \n",
       "3         1  2017                107                1  \n",
       "4         1  2017                 78                1  \n",
       "...     ...   ...                ...              ...  \n",
       "8755     11  2018               1003                1  \n",
       "8756     11  2018                764                1  \n",
       "8757     11  2018                694                1  \n",
       "8758     11  2018                712                1  \n",
       "8759     11  2018                584                1  \n",
       "\n",
       "[8760 rows x 9 columns]"
      ]
     },
     "execution_count": 31,
     "metadata": {},
     "output_type": "execute_result"
    }
   ],
   "source": [
    "newdata"
   ]
  },
  {
   "cell_type": "code",
   "execution_count": 32,
   "id": "5872b3eb",
   "metadata": {},
   "outputs": [],
   "source": [
    "#DATA EXPLORATION"
   ]
  },
  {
   "cell_type": "code",
   "execution_count": 33,
   "id": "0977f2d0",
   "metadata": {},
   "outputs": [],
   "source": [
    "#importing necessary libraries\n",
    "\n",
    "#We will plot independent variables against dependant variable\n",
    "\n",
    "import seaborn as sns\n",
    "\n",
    "import matplotlib.pyplot as plt"
   ]
  },
  {
   "cell_type": "code",
   "execution_count": 34,
   "id": "8861deb4",
   "metadata": {},
   "outputs": [
    {
     "data": {
      "text/plain": [
       "[Text(0.5, 1.0, 'Rented Bikes per hour')]"
      ]
     },
     "execution_count": 34,
     "metadata": {},
     "output_type": "execute_result"
    },
    {
     "data": {
      "image/png": "[encoded data removed]",
      "text/plain": [
       "<Figure size 720x432 with 1 Axes>"
      ]
     },
     "metadata": {
      "needs_background": "light"
     },
     "output_type": "display_data"
    }
   ],
   "source": [
    "ax = plt.subplots(figsize = (10,6))\n",
    "sns.barplot(x = 'Hour', y = 'Rented Bike Count', data = newdata, color='c').set(title='Rented Bikes per hour')"
   ]
  },
  {
   "cell_type": "code",
   "execution_count": 35,
   "id": "4e48b9d5",
   "metadata": {},
   "outputs": [
    {
     "data": {
      "text/plain": [
       "[Text(0.5, 1.0, 'rented bikes during rainfall')]"
      ]
     },
     "execution_count": 35,
     "metadata": {},
     "output_type": "execute_result"
    },
    {
     "data": {
      "image/png": "[encoded data removed]",
      "text/plain": [
       "<Figure size 720x432 with 1 Axes>"
      ]
     },
     "metadata": {
      "needs_background": "light"
     },
     "output_type": "display_data"
    }
   ],
   "source": [
    "ax = plt.subplots(figsize = (10,6))\n",
    "sns.lineplot(x = 'Rainfall(mm)', y='Rented Bike Count', data=newdata, color='c').set(title = 'rented bikes during rainfall')"
   ]
  },
  {
   "cell_type": "code",
   "execution_count": 36,
   "id": "c0193df5",
   "metadata": {},
   "outputs": [
    {
     "data": {
      "text/plain": [
       "[Text(0.5, 1.0, 'Rented bikes per holiday')]"
      ]
     },
     "execution_count": 36,
     "metadata": {},
     "output_type": "execute_result"
    },
    {
     "data": {
      "image/png": "[encoded data removed]",
      "text/plain": [
       "<Figure size 720x432 with 1 Axes>"
      ]
     },
     "metadata": {
      "needs_background": "light"
     },
     "output_type": "display_data"
    }
   ],
   "source": [
    "ax = plt.subplots(figsize = (10,6))\n",
    "sns.barplot(x = 'Holiday', y='Rented Bike Count', data=newdata, color='c').set(title='Rented bikes per holiday')"
   ]
  },
  {
   "cell_type": "code",
   "execution_count": 37,
   "id": "e8443584",
   "metadata": {},
   "outputs": [],
   "source": [
    "#Modelling\n",
    "\n",
    "#Before modelling we must scale our data - since neural networks work best when values are between -1 and 1\n",
    "\n",
    "\n",
    "#For that we are going to use the MinMaxScaler"
   ]
  },
  {
   "cell_type": "code",
   "execution_count": 38,
   "id": "4e76e9d9",
   "metadata": {},
   "outputs": [],
   "source": [
    "from sklearn.preprocessing import MinMaxScaler"
   ]
  },
  {
   "cell_type": "code",
   "execution_count": 39,
   "id": "a8c318bd",
   "metadata": {},
   "outputs": [],
   "source": [
    "#Set range\n",
    "\n",
    "scaler = MinMaxScaler(feature_range = (-1,1))"
   ]
  },
  {
   "cell_type": "code",
   "execution_count": 40,
   "id": "9074e340",
   "metadata": {},
   "outputs": [],
   "source": [
    "#Redefine X and Y\n",
    "\n",
    "X = newdata.drop(['Rented Bike Count'], axis=1)\n",
    "Y = newdata['Rented Bike Count']"
   ]
  },
  {
   "cell_type": "code",
   "execution_count": 42,
   "id": "496b14f4",
   "metadata": {},
   "outputs": [
    {
     "data": {
      "text/plain": [
       "(8760, 8)"
      ]
     },
     "execution_count": 42,
     "metadata": {},
     "output_type": "execute_result"
    }
   ],
   "source": [
    "X.shape"
   ]
  },
  {
   "cell_type": "code",
   "execution_count": 44,
   "id": "74ce4a4c",
   "metadata": {},
   "outputs": [
    {
     "data": {
      "text/plain": [
       "(8760,)"
      ]
     },
     "execution_count": 44,
     "metadata": {},
     "output_type": "execute_result"
    }
   ],
   "source": [
    "Y.shape"
   ]
  },
  {
   "cell_type": "code",
   "execution_count": 45,
   "id": "ac28886d",
   "metadata": {},
   "outputs": [],
   "source": [
    "#TRAIN_TEST_SPLIT"
   ]
  },
  {
   "cell_type": "code",
   "execution_count": 47,
   "id": "ec6998b9",
   "metadata": {},
   "outputs": [],
   "source": [
    "from sklearn.model_selection import train_test_split"
   ]
  },
  {
   "cell_type": "code",
   "execution_count": 48,
   "id": "da72a6fd",
   "metadata": {},
   "outputs": [],
   "source": [
    "X_train, X_test, y_train, y_test = train_test_split(X, Y, test_size = 0.01)"
   ]
  },
  {
   "cell_type": "code",
   "execution_count": 50,
   "id": "c0c1cb31",
   "metadata": {},
   "outputs": [
    {
     "data": {
      "text/plain": [
       "(8672, 8)"
      ]
     },
     "execution_count": 50,
     "metadata": {},
     "output_type": "execute_result"
    }
   ],
   "source": [
    "X_train.shape"
   ]
  },
  {
   "cell_type": "code",
   "execution_count": 52,
   "id": "ed7a4a33",
   "metadata": {},
   "outputs": [
    {
     "data": {
      "text/plain": [
       "(88, 8)"
      ]
     },
     "execution_count": 52,
     "metadata": {},
     "output_type": "execute_result"
    }
   ],
   "source": [
    "X_test.shape"
   ]
  },
  {
   "cell_type": "code",
   "execution_count": 54,
   "id": "e32c7e30",
   "metadata": {},
   "outputs": [
    {
     "data": {
      "text/plain": [
       "(8672,)"
      ]
     },
     "execution_count": 54,
     "metadata": {},
     "output_type": "execute_result"
    }
   ],
   "source": [
    "y_train.shape"
   ]
  },
  {
   "cell_type": "code",
   "execution_count": 56,
   "id": "076d9b4b",
   "metadata": {},
   "outputs": [
    {
     "data": {
      "text/plain": [
       "(88,)"
      ]
     },
     "execution_count": 56,
     "metadata": {},
     "output_type": "execute_result"
    }
   ],
   "source": [
    "y_test.shape"
   ]
  },
  {
   "cell_type": "code",
   "execution_count": 57,
   "id": "fade1ae5",
   "metadata": {},
   "outputs": [],
   "source": [
    "#SCALING"
   ]
  },
  {
   "cell_type": "code",
   "execution_count": 58,
   "id": "0e35d333",
   "metadata": {},
   "outputs": [],
   "source": [
    "X_train = scaler.fit_transform(X_train)"
   ]
  },
  {
   "cell_type": "code",
   "execution_count": 61,
   "id": "17bb90c5",
   "metadata": {},
   "outputs": [],
   "source": [
    "X_test = scaler.fit_transform(X_test)"
   ]
  },
  {
   "cell_type": "code",
   "execution_count": 1,
   "id": "80f649ff",
   "metadata": {},
   "outputs": [],
   "source": [
    "#Y is 1 dimensional - not compatible with the scaler we therefore reshape. \n",
    "\n",
    "#To reshape we must convert to numpy array first"
   ]
  },
  {
   "cell_type": "code",
   "execution_count": 65,
   "id": "2cbc400f",
   "metadata": {},
   "outputs": [],
   "source": [
    "y_train = y_train.to_numpy()"
   ]
  },
  {
   "cell_type": "code",
   "execution_count": 67,
   "id": "d213aac1",
   "metadata": {},
   "outputs": [],
   "source": [
    "y_train = y_train.reshape(-1,1)"
   ]
  },
  {
   "cell_type": "code",
   "execution_count": 68,
   "id": "1322b9fd",
   "metadata": {},
   "outputs": [],
   "source": [
    "y_train = scaler.fit_transform(y_train)"
   ]
  },
  {
   "cell_type": "code",
   "execution_count": 69,
   "id": "565daeff",
   "metadata": {},
   "outputs": [],
   "source": [
    "y_test = y_test.to_numpy()"
   ]
  },
  {
   "cell_type": "code",
   "execution_count": 70,
   "id": "24180d1e",
   "metadata": {},
   "outputs": [],
   "source": [
    "y_test = y_test.reshape(-1,1)"
   ]
  },
  {
   "cell_type": "code",
   "execution_count": 71,
   "id": "546f433d",
   "metadata": {},
   "outputs": [],
   "source": [
    "y_test = scaler.fit_transform(y_test)"
   ]
  },
  {
   "cell_type": "code",
   "execution_count": 74,
   "id": "e2259bfe",
   "metadata": {},
   "outputs": [],
   "source": [
    "#Modelling"
   ]
  },
  {
   "cell_type": "code",
   "execution_count": 75,
   "id": "17fce83e",
   "metadata": {},
   "outputs": [],
   "source": [
    "from sklearn.neural_network import MLPRegressor"
   ]
  },
  {
   "cell_type": "code",
   "execution_count": 76,
   "id": "fd69db6b",
   "metadata": {},
   "outputs": [],
   "source": [
    "model2 = MLPRegressor()"
   ]
  },
  {
   "cell_type": "code",
   "execution_count": 77,
   "id": "a0d0b740",
   "metadata": {},
   "outputs": [
    {
     "name": "stderr",
     "output_type": "stream",
     "text": [
      "C:\\Users\\HP\\anaconda3\\lib\\site-packages\\sklearn\\utils\\validation.py:63: DataConversionWarning: A column-vector y was passed when a 1d array was expected. Please change the shape of y to (n_samples, ), for example using ravel().\n",
      "  return f(*args, **kwargs)\n"
     ]
    },
    {
     "data": {
      "text/plain": [
       "MLPRegressor()"
      ]
     },
     "execution_count": 77,
     "metadata": {},
     "output_type": "execute_result"
    }
   ],
   "source": [
    "#Training\n",
    "\n",
    "model2.fit(X_train, y_train)"
   ]
  },
  {
   "cell_type": "code",
   "execution_count": 78,
   "id": "7f92a3cf",
   "metadata": {},
   "outputs": [],
   "source": [
    "#Prediction\n",
    "\n",
    "prediction = model2.predict(X_test)"
   ]
  },
  {
   "cell_type": "code",
   "execution_count": 79,
   "id": "72e44323",
   "metadata": {},
   "outputs": [
    {
     "data": {
      "text/plain": [
       "array([-0.94374254, -0.97214112, -0.86107991, -0.4866795 , -0.94863051,\n",
       "       -0.13079391, -0.18015178, -0.72523226, -1.04072914, -0.01169014,\n",
       "       -0.07036446, -0.31834135, -0.90799687, -0.62784522, -0.87668837,\n",
       "       -0.76868099, -0.9913576 , -0.61885179, -0.6409597 , -0.97244207,\n",
       "       -0.86422   , -0.83994641, -0.86680218, -0.13742555, -0.62864832,\n",
       "       -0.22289565, -0.7348725 , -0.70375653, -0.61879875, -0.8153649 ,\n",
       "       -0.55892918, -0.66877694, -0.93172506, -0.4376768 , -0.52158316,\n",
       "       -0.22925146, -0.13174736, -1.17050018, -0.3804518 , -1.00343819,\n",
       "       -0.58103269,  0.05793514, -1.00823491, -0.82324807, -0.77195202,\n",
       "       -0.62592476, -0.93110329,  0.11976793, -1.00609507, -0.79869584,\n",
       "       -0.97208734, -0.5651184 , -0.07249585, -0.75931042, -0.00175693,\n",
       "       -0.80763261, -0.94242638, -0.35025593, -0.46525784, -0.79431204,\n",
       "       -0.09391129, -0.44848584, -0.47945449, -0.36799447, -0.34736825,\n",
       "       -0.87101776, -0.62067524, -0.56763946, -0.75666927, -0.66125381,\n",
       "       -0.81220087, -0.52280032, -0.89631744,  0.22180976, -0.11504651,\n",
       "       -0.25422126, -0.81700235, -1.03230292, -0.98122911, -0.67481464,\n",
       "       -0.75815941, -0.46820563, -0.29199976, -0.82206647, -0.90839633,\n",
       "       -0.94794644, -1.08606594, -0.8652987 ])"
      ]
     },
     "execution_count": 79,
     "metadata": {},
     "output_type": "execute_result"
    }
   ],
   "source": [
    "prediction"
   ]
  },
  {
   "cell_type": "code",
   "execution_count": 80,
   "id": "6241afd3",
   "metadata": {},
   "outputs": [],
   "source": [
    "#1 dimensional again so we reshape\n",
    "\n",
    "prediction = prediction.reshape(-1,1)"
   ]
  },
  {
   "cell_type": "code",
   "execution_count": 81,
   "id": "9123dde3",
   "metadata": {},
   "outputs": [],
   "source": [
    "\n",
    "#We then invert back the scaled values\n",
    "\n",
    "\n",
    "inversepred = scaler.inverse_transform(prediction)"
   ]
  },
  {
   "cell_type": "code",
   "execution_count": 85,
   "id": "9c81bb7d",
   "metadata": {},
   "outputs": [],
   "source": [
    "#We invert back also y_train so we could evaluate \n",
    "\n",
    "inverseytest = scaler.inverse_transform(y_test)"
   ]
  },
  {
   "cell_type": "code",
   "execution_count": null,
   "id": "a3eba393",
   "metadata": {},
   "outputs": [],
   "source": []
  },
  {
   "cell_type": "code",
   "execution_count": 87,
   "id": "da38358e",
   "metadata": {},
   "outputs": [],
   "source": [
    "#MODEL EVALUATION"
   ]
  },
  {
   "cell_type": "code",
   "execution_count": 88,
   "id": "f292bf53",
   "metadata": {},
   "outputs": [],
   "source": [
    "from sklearn.metrics import r2_score"
   ]
  },
  {
   "cell_type": "code",
   "execution_count": 90,
   "id": "ee506d0c",
   "metadata": {},
   "outputs": [],
   "source": [
    "from sklearn.metrics import mean_absolute_percentage_error"
   ]
  },
  {
   "cell_type": "code",
   "execution_count": 91,
   "id": "8eb88c60",
   "metadata": {},
   "outputs": [
    {
     "data": {
      "text/plain": [
       "-0.03133046770951631"
      ]
     },
     "execution_count": 91,
     "metadata": {},
     "output_type": "execute_result"
    }
   ],
   "source": [
    "r2_score(inversepred, inverseytest)"
   ]
  },
  {
   "cell_type": "code",
   "execution_count": 93,
   "id": "c4faeb07",
   "metadata": {},
   "outputs": [
    {
     "data": {
      "text/plain": [
       "1.802085483125923"
      ]
     },
     "execution_count": 93,
     "metadata": {},
     "output_type": "execute_result"
    }
   ],
   "source": [
    "mean_absolute_percentage_error(inversepred, inverseytest)"
   ]
  },
  {
   "cell_type": "code",
   "execution_count": 99,
   "id": "876cbf49",
   "metadata": {},
   "outputs": [
    {
     "data": {
      "text/plain": [
       "[array([[-5.02111813e-001,  1.76072990e-002, -4.22989419e-001,\n",
       "         -4.05117830e-002,  5.44345220e-001, -1.04205544e-001,\n",
       "         -6.10187497e-002,  2.44473725e-001, -8.44024450e-003,\n",
       "         -6.24151631e-115,  3.14372638e-001, -6.96317553e-002,\n",
       "         -5.16868833e-002,  6.45399937e-002, -9.36227822e-002,\n",
       "         -3.04532005e-001, -2.55926349e-003, -9.02760612e-002,\n",
       "         -9.56685742e-002,  5.44866348e-001, -4.06750511e-002,\n",
       "          7.47098987e-001,  6.59396333e-001, -1.44291165e-001,\n",
       "          5.09104601e-001,  3.35251614e-001, -6.10722060e-002,\n",
       "          3.27627863e-001,  5.79230579e-001, -5.45367176e-001,\n",
       "         -2.19271968e-002,  1.94066332e-001, -1.17689918e-001,\n",
       "          1.02086733e-002, -5.12140320e-001,  6.12057260e-002,\n",
       "          1.25373164e-001, -1.07355741e-001,  6.88410065e-001,\n",
       "         -1.48476467e-001,  7.80590608e-001, -5.49770221e-001,\n",
       "          3.33191525e-001,  1.77637598e-001, -3.04729292e-002,\n",
       "          1.46233676e-001, -1.63586430e-001,  2.56812580e-001,\n",
       "          6.64013173e-001, -1.76006802e-001, -8.42023910e-002,\n",
       "          2.34930537e-001, -1.87304346e-001, -1.71840423e-001,\n",
       "         -2.51945673e-002,  2.98842262e-001, -1.58180971e-001,\n",
       "          2.21650581e-001,  4.67417832e-002, -1.64357248e-001,\n",
       "         -1.20425841e-001,  1.90856953e-003,  1.82916702e-001,\n",
       "         -5.20253485e-001, -4.45516240e-001,  4.57862130e-002,\n",
       "         -7.97275489e-001,  1.24115139e-001,  2.75504216e-002,\n",
       "          3.71137560e-002,  1.34890489e-001,  1.18686502e-002,\n",
       "         -5.76723509e-001, -5.69896942e-002,  2.46996438e-001,\n",
       "         -1.00449715e-001,  3.12847822e-001, -1.83613516e-002,\n",
       "         -8.87629052e-002,  7.10531012e-001,  6.94267459e-003,\n",
       "         -1.29016128e-001,  1.60364599e-001, -2.17550157e-001,\n",
       "         -2.09302948e-001, -2.15429187e-102, -4.85117227e-002,\n",
       "          2.25965819e-001, -5.32782736e-001,  4.61890967e-005,\n",
       "         -2.08757600e-002,  1.06818095e-001, -7.25977060e-001,\n",
       "          5.81038518e-001, -2.96027346e-001,  2.16417467e-001,\n",
       "          1.33994562e-001,  2.69735801e-002, -4.56096535e-002,\n",
       "         -1.44504653e-001],\n",
       "        [ 3.09051857e-001, -1.69912413e-001,  7.98733889e-002,\n",
       "          3.46875692e-001,  2.68581149e-001, -1.41115814e-001,\n",
       "          2.70409903e-001,  9.32903658e-002,  2.69876471e-001,\n",
       "         -8.39479556e-115,  3.22189522e-001,  3.03600644e-001,\n",
       "          9.47236857e-002, -1.13970394e-001,  9.28988936e-002,\n",
       "          2.96093858e-001, -5.86023725e-002, -6.29460601e-002,\n",
       "         -1.16855225e-001,  1.21741454e-002, -2.07393499e-002,\n",
       "         -1.72097401e-001,  1.72518795e-001, -3.43389783e-002,\n",
       "         -1.74633424e-002, -5.79218651e-001, -2.45986360e-002,\n",
       "         -8.39802213e-003,  7.54050573e-002, -2.51567388e-001,\n",
       "          1.38636134e-001, -2.53560786e-001, -1.24102302e-001,\n",
       "          1.19977374e-001, -2.17864309e-001,  3.72223351e-002,\n",
       "         -4.78849959e-001, -8.66599596e-002,  1.98463021e-001,\n",
       "          2.08059911e-002,  1.20987252e-001,  1.00436990e-002,\n",
       "          3.00105551e-002, -1.59494521e-001,  1.58140767e-001,\n",
       "         -1.55780834e-001,  5.57634577e-002,  5.66628995e-001,\n",
       "         -7.50407971e-003, -3.60382970e-002, -4.53090142e-001,\n",
       "         -2.35257437e-001, -1.29158062e-001, -3.84064271e-001,\n",
       "          3.40913645e-001,  2.98778477e-002,  2.06668641e-001,\n",
       "         -3.49587517e-002, -4.91392692e-001, -1.31397054e-001,\n",
       "         -2.65354042e-001,  3.21957106e-001, -1.01278633e-001,\n",
       "         -4.91774233e-001,  1.26316220e-001, -2.22747171e-001,\n",
       "          1.49915885e-002, -6.31852968e-003, -2.79178862e-001,\n",
       "         -4.80152776e-001,  1.81914824e-001,  4.30366566e-002,\n",
       "         -1.12044098e-002,  6.79985493e-001,  2.42731962e-001,\n",
       "          3.48275733e-004,  6.98571328e-001,  8.15791697e-001,\n",
       "          1.99405678e-001,  2.06145201e-002, -5.60216909e-001,\n",
       "          3.92478289e-001,  7.84867488e-002, -1.81886830e-001,\n",
       "          4.12715351e-001,  7.05599331e-094, -1.20573238e-002,\n",
       "          1.12935152e-001,  7.61649670e-002,  3.48640413e-001,\n",
       "         -4.99624879e-001, -3.12389938e-001, -4.43982885e-002,\n",
       "          8.87718869e-002, -2.21144337e-002,  3.01429395e-001,\n",
       "          2.06144416e-001,  1.62772662e-001, -1.06811494e-024,\n",
       "          7.96440932e-002],\n",
       "        [ 2.16510641e-002,  1.05727047e-001, -7.96465339e-002,\n",
       "          2.57226746e-001,  2.75540709e-001, -9.76067372e-002,\n",
       "         -1.87933119e-001, -1.28672073e-001, -1.55841580e-001,\n",
       "          1.64604064e-112, -1.70441590e-002, -2.52386961e-001,\n",
       "         -9.63473980e-002,  3.78738179e-001, -1.82768792e-001,\n",
       "         -8.91036966e-002, -2.73763547e-001,  2.85649432e-001,\n",
       "          1.78058711e-001,  7.16296179e-001, -2.27860529e-001,\n",
       "          2.43261285e-002, -8.30018238e-002, -3.24535910e-002,\n",
       "          1.97855770e-001,  2.01244676e-001,  1.16202421e-002,\n",
       "          9.18041432e-002, -1.28954675e-001,  5.64808763e-002,\n",
       "         -2.63362719e-002, -2.71454297e-001, -9.47028592e-002,\n",
       "         -2.69744319e-001,  9.45484974e-002, -2.08647078e-001,\n",
       "         -1.98915938e-002, -8.21293963e-002,  1.03426537e-001,\n",
       "          2.55403954e-001,  2.62944746e-001, -5.38533538e-002,\n",
       "         -9.27739372e-002,  1.10027160e-001, -5.91650089e-001,\n",
       "         -2.68602389e-001,  1.97226191e-001,  6.82160000e-002,\n",
       "          1.02922933e-001,  3.72630302e-002,  9.25858775e-002,\n",
       "         -5.46023404e-002, -1.35856488e-001, -1.90112921e-001,\n",
       "         -1.18952670e-001,  2.58855384e-001, -9.03198147e-002,\n",
       "         -5.72512729e-002, -1.51735574e-001,  4.96995112e-001,\n",
       "         -1.59143490e-001, -1.69380447e-001, -3.51632299e-002,\n",
       "          4.36692850e-003, -8.18629313e-002, -4.18678446e-001,\n",
       "          9.83314889e-002, -7.46150722e-003,  2.50888173e-001,\n",
       "         -1.46600743e-001,  1.34777312e-001,  2.26390773e-002,\n",
       "          5.33034046e-001, -2.29014925e-002,  4.66617880e-002,\n",
       "         -1.42320582e-001,  2.81081135e-002,  2.20661147e-001,\n",
       "          5.12003657e-001, -1.29730586e-001, -1.46405931e-001,\n",
       "          4.81531953e-001,  2.64895549e-001, -6.39506337e-002,\n",
       "         -1.28572994e-001,  1.55053995e-084, -4.90416778e-002,\n",
       "          2.09162245e-001,  1.86305055e-001,  3.29408667e-001,\n",
       "         -3.68852443e-001,  1.75380216e-001,  2.37162202e-002,\n",
       "         -1.06738405e-001,  2.11826347e-001, -1.30171105e-001,\n",
       "         -9.79036722e-002,  7.70476136e-001, -4.32073168e-003,\n",
       "         -1.98971109e-001],\n",
       "        [ 2.47043338e-001,  1.26066368e-001,  9.46408438e-002,\n",
       "          3.99157974e-002, -1.61015702e-001,  3.18742270e-001,\n",
       "          1.84967988e-001, -9.92592671e-002,  3.38209615e-001,\n",
       "          6.33407171e-095,  1.71374954e-001,  2.74806409e-001,\n",
       "          1.84868325e-002, -1.47493164e-001, -2.58078531e-001,\n",
       "          2.37486885e-001,  3.10392316e-001, -9.99933441e-002,\n",
       "          1.69988825e-001, -7.95140314e-002, -1.07742243e-002,\n",
       "         -5.22235078e-002,  5.66958371e-002, -1.06751071e-001,\n",
       "         -2.24796759e-002,  6.60187231e-002, -1.37613329e-001,\n",
       "          2.52461771e-001, -8.75523702e-002, -2.04347326e-001,\n",
       "          3.41437550e-002,  1.05532928e-001,  2.30941232e-001,\n",
       "          6.97321696e-001,  8.74870296e-004,  3.29862910e-001,\n",
       "          4.57182790e-001, -2.82042748e-001, -8.29492090e-002,\n",
       "         -2.83755724e-001, -4.93678333e-001,  4.22058735e-003,\n",
       "         -8.18326792e-002,  7.38711243e-002,  2.32335500e-001,\n",
       "         -1.15928858e-001,  3.80368190e-001, -1.76116990e-001,\n",
       "          1.91314018e-001, -3.05132352e-001,  8.55889699e-002,\n",
       "          5.40316854e-001,  2.04096015e-002,  1.71958538e-001,\n",
       "          6.03385615e-001,  2.66310293e-002, -2.25222746e-001,\n",
       "         -6.93816153e-002, -9.03369432e-002,  1.95872121e-002,\n",
       "         -1.06101477e-001, -9.75753277e-002,  1.59055584e-001,\n",
       "         -5.19599720e-002,  7.51322032e-002,  2.39953899e-001,\n",
       "          1.18400019e-001, -6.36039405e-003, -5.95065400e-002,\n",
       "          2.83914064e-001,  1.79898238e-001,  2.49720611e-001,\n",
       "         -2.22746599e-001,  3.37619533e-002,  1.03020994e-001,\n",
       "         -1.35969058e-003,  4.75821837e-002,  1.17555597e-001,\n",
       "         -8.64972893e-002,  3.20825124e-001,  4.30875381e-001,\n",
       "         -9.01710212e-002,  1.27095845e-001, -2.44470501e-001,\n",
       "          9.10844324e-002,  7.54790676e-085, -4.65256633e-002,\n",
       "         -2.46484821e-001,  2.89945835e-001,  3.53029633e-002,\n",
       "         -8.93524459e-002,  1.44468885e-001, -2.41532110e-001,\n",
       "         -1.78120878e-001,  1.17801151e-001, -1.58747846e-001,\n",
       "         -2.53413334e-001, -7.42908661e-002,  7.46470953e-002,\n",
       "          2.55332020e-001],\n",
       "        [-7.66178144e-002, -5.83174248e-002,  3.13472586e-001,\n",
       "          9.85375466e-002, -1.56139626e-001,  1.69600073e-001,\n",
       "          2.33217441e-001, -2.02067152e-001,  1.91351705e-001,\n",
       "         -6.00049241e-115, -3.07725821e-001, -1.02909535e-001,\n",
       "          1.48291072e-001,  2.83177455e-001, -9.24335906e-002,\n",
       "          6.75707407e-002,  1.85005186e-001, -3.03745524e-001,\n",
       "         -3.16231868e-001,  1.16718103e-001,  1.71121185e-001,\n",
       "          1.78105343e-002, -5.75742785e-002, -2.29382430e-001,\n",
       "          1.17317532e-001, -2.83978319e-001,  2.29293455e-001,\n",
       "          1.47681951e-001,  1.76893453e-001,  7.30713054e-002,\n",
       "          5.78827986e-002, -3.07274867e-002,  1.71393342e-001,\n",
       "         -4.95713581e-002, -3.56896866e-002,  1.65190983e-001,\n",
       "         -2.21139250e-002,  9.65220577e-002, -1.47727872e-001,\n",
       "          1.52134182e-001, -5.62272676e-002,  1.86332730e-002,\n",
       "         -1.98275903e-001, -6.60851408e-002, -1.06845480e-001,\n",
       "          2.36607165e-002,  1.20249750e-001, -3.92729615e-002,\n",
       "          1.76867278e-001, -2.30418035e-001, -7.69432207e-002,\n",
       "          2.12814030e-001, -2.17300059e-001,  1.09231411e-001,\n",
       "          5.99437938e-002, -3.00657428e-001,  1.66190686e-001,\n",
       "          2.10006253e-001, -3.09192186e-002, -4.16696513e-001,\n",
       "          1.66890099e-001, -1.04401267e-002,  1.77024695e-001,\n",
       "         -3.84211833e-001, -1.03915237e-001,  2.08359044e-001,\n",
       "         -5.89099125e-002, -1.40370928e-001,  2.32248957e-001,\n",
       "         -1.55642850e-002, -2.09383969e-002,  1.22659386e-001,\n",
       "         -1.85473937e-001, -2.38813908e-002,  1.54390543e-001,\n",
       "          2.48292929e-001, -2.15795011e-002, -2.55743707e-002,\n",
       "         -1.77423885e-001, -2.72834792e-001,  7.03551028e-002,\n",
       "         -5.43170575e-002,  1.31138522e-001, -5.87029353e-002,\n",
       "          2.56191486e-002,  3.37753150e-095,  6.01154173e-002,\n",
       "          3.59981981e-002, -7.42805536e-002,  2.04713363e-001,\n",
       "         -1.38721664e-001,  1.18312636e-001,  6.63378821e-002,\n",
       "         -7.40819707e-002, -8.96078786e-002,  2.67567430e-002,\n",
       "          1.84091020e-001,  3.50564617e-001, -1.01795776e-001,\n",
       "         -4.19436148e-002],\n",
       "        [-2.48325866e-001, -4.86303018e-002, -3.78440643e-002,\n",
       "         -3.36718202e-001, -3.58430153e-001,  1.93257450e-002,\n",
       "         -2.68661976e-001,  2.60754809e-001,  1.23663058e-002,\n",
       "          6.58595275e-096, -2.37333435e-001,  2.13305894e-002,\n",
       "         -4.69929837e-001, -7.34235419e-003,  3.13180096e-001,\n",
       "         -8.57572206e-002, -1.53363560e-001,  4.21559244e-001,\n",
       "         -3.04243507e-001,  4.53215816e-003,  1.17854797e-001,\n",
       "          2.55635324e-002, -6.28976202e-003, -1.12913192e-001,\n",
       "         -6.77976063e-004, -2.32056629e-003,  2.56236401e-001,\n",
       "         -5.58419099e-004,  1.01542656e-002, -3.13754271e-002,\n",
       "         -2.46866021e-001,  4.42237978e-001,  3.13922771e-002,\n",
       "         -2.25317131e-002, -3.95583335e-002, -7.29758542e-003,\n",
       "         -1.40240307e-002,  1.29605023e-001,  4.92810603e-002,\n",
       "         -1.97634772e-001,  4.82038843e-002, -8.51357860e-002,\n",
       "          1.46073383e-001, -6.02707752e-002, -3.89562081e-002,\n",
       "          1.16580994e-001,  6.98739220e-003,  6.50183797e-002,\n",
       "         -9.90069409e-004,  2.52348976e-001,  3.28165456e-001,\n",
       "          2.31153546e-002, -7.29593283e-003, -1.05233197e-001,\n",
       "          9.97430318e-004,  1.94639402e-002, -2.01028612e-001,\n",
       "         -1.57422583e-001, -3.10633974e-001,  1.19195982e-002,\n",
       "         -2.13335351e-002, -7.91889674e-002, -5.82820377e-003,\n",
       "          3.29160508e-003, -9.66745681e-003, -4.12646007e-002,\n",
       "          1.73264904e-004, -7.54659520e-002, -1.30714128e-001,\n",
       "          2.24784596e-001,  1.63031976e-001, -6.03360623e-002,\n",
       "         -4.59717886e-003,  4.28602088e-002, -2.20487321e-001,\n",
       "          2.46443853e-001,  2.86050441e-002,  9.39178001e-002,\n",
       "         -3.42334431e-002, -6.18440561e-003, -1.06575179e-001,\n",
       "          1.28719004e-002, -3.34134623e-001, -2.71507824e-001,\n",
       "          1.64803561e-001, -6.24757055e-091,  3.14521628e-002,\n",
       "         -1.04050279e-001,  2.92446864e-002, -6.57073346e-002,\n",
       "         -4.20203523e-001,  2.08868083e-001, -6.47382402e-004,\n",
       "          1.09894454e-002,  9.33510439e-002,  4.23189121e-002,\n",
       "          1.20032054e-001,  8.30351764e-002, -5.61417371e-002,\n",
       "          1.31510594e-001],\n",
       "        [ 1.13712822e-001, -5.11148810e-002, -1.31739698e-002,\n",
       "         -3.08071745e-001, -1.18932353e-001,  1.40328065e-001,\n",
       "          1.65039181e-001, -2.21036661e-001,  1.90981277e-001,\n",
       "         -4.63315976e-105,  2.19615825e-002, -8.07228564e-002,\n",
       "         -1.78261519e-001, -1.10453469e-001,  4.57155733e-002,\n",
       "         -5.19706500e-002,  9.91150298e-002, -7.28111188e-002,\n",
       "          1.63225988e-001,  2.77401996e-002,  7.08033041e-002,\n",
       "         -2.97595126e-001, -3.98125709e-002, -1.39421236e-001,\n",
       "         -1.68341297e-001,  3.15173319e-001,  1.49627834e-001,\n",
       "          1.06610563e-001, -2.19716298e-001, -1.11451765e-001,\n",
       "         -7.91270879e-002,  7.59763849e-002,  1.74381746e-001,\n",
       "          3.52768853e-001,  9.50062714e-002,  1.37401407e-001,\n",
       "          1.81285150e-002, -1.77766094e-001,  5.43621909e-002,\n",
       "          1.25897823e-001, -1.69339663e-001,  5.89653388e-002,\n",
       "         -5.93993780e-002, -4.56794275e-002, -1.98944137e-004,\n",
       "          5.50359496e-002, -2.37747648e-002, -1.46614968e-001,\n",
       "          1.20459331e-001,  1.28461071e-001, -6.90767033e-002,\n",
       "         -8.93993882e-002, -2.07379610e-001,  1.43361803e-001,\n",
       "          7.63180550e-002,  3.21677314e-002,  9.47392571e-003,\n",
       "          2.02751081e-001, -1.73145457e-001,  1.35589473e-001,\n",
       "          3.86290924e-002,  2.51243564e-001,  2.42683238e-002,\n",
       "          6.84291667e-002, -6.87671977e-002, -1.18347423e-001,\n",
       "          1.58392367e-001, -5.75238099e-002, -1.12389110e-001,\n",
       "          1.37486355e-001, -1.42013467e-001,  2.37229182e-001,\n",
       "          1.50264652e-001, -1.12772363e-001,  2.21436686e-003,\n",
       "         -6.39436045e-002,  3.66421509e-002, -1.69587870e-001,\n",
       "          1.62757752e-001, -3.83506179e-003, -1.09089155e-001,\n",
       "          2.49133913e-001, -1.02718565e-001, -2.29653943e-001,\n",
       "         -6.58310992e-002,  6.98693459e-077,  9.35765457e-002,\n",
       "          1.14635586e-002, -2.83470721e-001,  6.03869603e-002,\n",
       "         -1.36961391e-001, -5.42041897e-002, -1.35965781e-001,\n",
       "         -2.07706112e-002, -3.74884379e-002,  1.57517052e-001,\n",
       "         -1.22270263e-002,  2.32992046e-001, -8.33035472e-002,\n",
       "         -2.03099641e-001],\n",
       "        [ 9.21927985e-002, -1.76798865e-001,  1.66366965e-001,\n",
       "          1.60361504e-001, -2.07312205e-002,  2.91833462e-002,\n",
       "         -6.32512033e-002, -3.99732315e-001, -9.67159670e-002,\n",
       "         -7.24645549e-119, -2.82924140e-001,  1.22204966e-001,\n",
       "          6.93160432e-002, -1.62135569e-002, -2.60373093e-001,\n",
       "          2.69161949e-001, -1.62357337e-002,  5.64068303e-002,\n",
       "         -2.05459323e-001, -1.98736275e-001,  1.67911258e-001,\n",
       "         -2.78187150e-001, -3.27549499e-001, -6.82952658e-003,\n",
       "          2.48182699e-001,  1.85085720e-001, -1.02814219e-001,\n",
       "          3.86398035e-002, -3.18437035e-001,  1.50834564e-001,\n",
       "         -3.96075984e-002,  1.71864518e-001, -1.66279648e-001,\n",
       "         -1.57391386e-001, -5.30747316e-001,  2.09991400e-002,\n",
       "          1.78987979e-001,  1.26572996e-001, -1.46931463e-001,\n",
       "         -6.76754348e-002, -1.00475882e-001, -4.57810220e-002,\n",
       "         -1.75347566e-001,  3.45447063e-002, -7.75159572e-002,\n",
       "          6.27446435e-002,  9.07465515e-002,  8.16098018e-002,\n",
       "         -3.02831569e-002,  2.07883736e-002, -4.19969208e-001,\n",
       "          2.31172317e-001, -5.52312969e-002,  2.13364790e-001,\n",
       "         -1.54997257e-001, -3.13971787e-001,  7.91558850e-002,\n",
       "         -6.02043080e-002, -4.21899541e-002, -5.33320448e-002,\n",
       "         -9.45995695e-003,  2.05695129e-001, -6.23738935e-002,\n",
       "         -3.27651303e-001,  1.54818708e-001,  1.57551925e-001,\n",
       "         -3.84456924e-001,  1.69017194e-001,  2.11501582e-001,\n",
       "          1.48125119e-001,  9.40085806e-002, -1.09018626e-001,\n",
       "         -7.67399313e-002, -2.60389765e-001,  1.40576187e-001,\n",
       "         -5.27626411e-002, -4.04001794e-001, -1.70654949e-001,\n",
       "          1.26649230e-001, -1.24725833e-001,  5.09351550e-002,\n",
       "         -2.46907567e-001,  1.43052416e-002,  1.78410227e-001,\n",
       "         -1.31527293e-001, -1.08623559e-105,  1.71397230e-001,\n",
       "          1.05656696e-001, -4.74906974e-002,  1.59417696e-001,\n",
       "         -1.65609234e-001,  9.43910405e-002, -8.99319722e-002,\n",
       "         -2.03810528e-001, -1.30294422e-002,  4.55422653e-002,\n",
       "          1.29473093e-001, -1.50484708e-001, -1.31325232e-001,\n",
       "         -5.59592004e-002]]),\n",
       " array([[ 5.60106021e-001],\n",
       "        [ 1.44618218e-001],\n",
       "        [-2.45009566e-001],\n",
       "        [-3.53674428e-001],\n",
       "        [ 4.50922256e-001],\n",
       "        [-3.01904657e-001],\n",
       "        [-1.61651788e-001],\n",
       "        [ 3.06575062e-001],\n",
       "        [-6.29779748e-001],\n",
       "        [ 1.08036378e-105],\n",
       "        [ 5.88395349e-001],\n",
       "        [-5.93051804e-001],\n",
       "        [ 1.12801502e-001],\n",
       "        [-3.71880994e-001],\n",
       "        [ 2.84398430e-001],\n",
       "        [-4.55768072e-001],\n",
       "        [-3.50521872e-001],\n",
       "        [-4.43398077e-001],\n",
       "        [-4.53720657e-001],\n",
       "        [ 6.16842193e-001],\n",
       "        [-7.30587125e-002],\n",
       "        [-1.18749987e+000],\n",
       "        [-8.16721458e-001],\n",
       "        [ 2.40989495e-002],\n",
       "        [-3.87925469e-001],\n",
       "        [-4.66932141e-001],\n",
       "        [ 1.69784635e-001],\n",
       "        [-1.81079212e-001],\n",
       "        [ 4.45084091e-001],\n",
       "        [-2.53386893e-001],\n",
       "        [-6.37706143e-002],\n",
       "        [-2.01217564e-001],\n",
       "        [-1.82058476e-001],\n",
       "        [ 7.20154960e-001],\n",
       "        [-5.15683602e-001],\n",
       "        [-1.93856851e-001],\n",
       "        [ 9.98847622e-001],\n",
       "        [ 2.03499682e-001],\n",
       "        [ 6.33952915e-001],\n",
       "        [ 1.86048714e-001],\n",
       "        [ 7.74501870e-001],\n",
       "        [-2.59581328e-001],\n",
       "        [ 4.63706660e-001],\n",
       "        [ 1.43716964e-001],\n",
       "        [-6.27605540e-001],\n",
       "        [-1.18110049e-001],\n",
       "        [ 8.39094821e-001],\n",
       "        [ 2.19636293e-001],\n",
       "        [-4.22070730e-001],\n",
       "        [ 3.07827381e-001],\n",
       "        [-5.73703677e-001],\n",
       "        [ 5.16984803e-001],\n",
       "        [ 1.65151166e-001],\n",
       "        [-2.54447313e-001],\n",
       "        [ 8.74349472e-001],\n",
       "        [ 4.13957380e-001],\n",
       "        [ 6.74750491e-002],\n",
       "        [ 1.04811736e-001],\n",
       "        [ 3.07193588e-001],\n",
       "        [-5.43748000e-001],\n",
       "        [-8.61534648e-002],\n",
       "        [ 1.87051840e-001],\n",
       "        [-1.84419716e-001],\n",
       "        [-7.04595771e-001],\n",
       "        [-2.08671952e-001],\n",
       "        [-4.37631057e-001],\n",
       "        [ 8.89504861e-001],\n",
       "        [-1.50682080e-001],\n",
       "        [-2.18747641e-001],\n",
       "        [ 4.50255591e-001],\n",
       "        [ 1.23467050e-001],\n",
       "        [-8.58893220e-002],\n",
       "        [ 6.44975126e-001],\n",
       "        [-7.21968552e-001],\n",
       "        [ 2.13402055e-002],\n",
       "        [-1.98609245e-001],\n",
       "        [-7.61587183e-001],\n",
       "        [-8.88615493e-001],\n",
       "        [-5.23149148e-001],\n",
       "        [-1.25994615e+000],\n",
       "        [ 4.85947885e-001],\n",
       "        [-5.88579519e-001],\n",
       "        [-4.05532143e-001],\n",
       "        [ 2.93926952e-001],\n",
       "        [-2.20356723e-001],\n",
       "        [ 2.24161160e-107],\n",
       "        [ 3.79095123e-002],\n",
       "        [ 2.06719618e-001],\n",
       "        [ 7.52556330e-001],\n",
       "        [ 2.43447909e-001],\n",
       "        [-1.81164313e-001],\n",
       "        [-3.74710148e-001],\n",
       "        [ 3.63188613e-001],\n",
       "        [ 6.68946566e-001],\n",
       "        [ 2.60401454e-001],\n",
       "        [ 1.81747521e-001],\n",
       "        [ 1.94715989e-001],\n",
       "        [-4.90067039e-001],\n",
       "        [ 1.85318097e-023],\n",
       "        [ 2.49568932e-001]])]"
      ]
     },
     "execution_count": 99,
     "metadata": {},
     "output_type": "execute_result"
    }
   ],
   "source": [
    "#Weight matrix\n",
    "\n",
    "model2.coefs_"
   ]
  },
  {
   "cell_type": "code",
   "execution_count": 100,
   "id": "5a21b259",
   "metadata": {},
   "outputs": [
    {
     "data": {
      "text/plain": [
       "[array([ 0.05427718,  0.00354746, -0.17573932, -0.02147253,  0.05424696,\n",
       "         0.14570851, -0.14388963,  0.0525284 , -0.10582128, -0.11586802,\n",
       "        -0.18376021,  0.1245405 ,  0.07561298,  0.03817695, -0.1631062 ,\n",
       "        -0.01444017, -0.1329657 , -0.12725705, -0.17796536,  0.12325972,\n",
       "         0.17233236,  0.07742435, -0.18440973, -0.03597353,  0.11606052,\n",
       "        -0.04651014,  0.07804091,  0.1442961 ,  0.02944222,  0.23275613,\n",
       "        -0.00124219, -0.0671737 ,  0.22404254,  0.14771303,  0.03045383,\n",
       "         0.1684964 ,  0.10181538,  0.14665224, -0.03096219,  0.15513575,\n",
       "        -0.18494852,  0.32972144, -0.24835972, -0.22222639, -0.07166673,\n",
       "         0.16019562,  0.26717309, -0.01853672,  0.22056082, -0.1180299 ,\n",
       "        -0.0416338 , -0.11961008,  0.05924401,  0.0231809 ,  0.27789165,\n",
       "        -0.08595208, -0.13934193,  0.17764926, -0.05295537, -0.11202625,\n",
       "         0.08213345, -0.11205352,  0.23659232,  0.35027919,  0.27334559,\n",
       "        -0.14203576, -0.09152597,  0.10145947, -0.10631096, -0.08042835,\n",
       "        -0.23022911,  0.23477319,  0.05126284,  0.07630906, -0.08523692,\n",
       "        -0.1258108 , -0.09629113,  0.07512917,  0.01065553,  0.19181742,\n",
       "         0.18084443, -0.05540709,  0.15241359, -0.18016482,  0.17660558,\n",
       "        -0.16065895, -0.01314546,  0.13028666,  0.05744331, -0.05873166,\n",
       "         0.22531864, -0.0072807 ,  0.16275206, -0.1372169 , -0.10887979,\n",
       "        -0.06825957, -0.12743278, -0.02674152, -0.14924068, -0.12547478]),\n",
       " array([-0.17551496])]"
      ]
     },
     "execution_count": 100,
     "metadata": {},
     "output_type": "execute_result"
    }
   ],
   "source": [
    "#Bias matrix\n",
    "\n",
    "model2.intercepts_"
   ]
  },
  {
   "cell_type": "code",
   "execution_count": null,
   "id": "2ba4b46a",
   "metadata": {},
   "outputs": [],
   "source": []
  },
  {
   "cell_type": "code",
   "execution_count": null,
   "id": "6835e259",
   "metadata": {},
   "outputs": [],
   "source": []
  }
 ],
 "metadata": {
  "kernelspec": {
   "display_name": "Python 3 (ipykernel)",
   "language": "python",
   "name": "python3"
  },
  "language_info": {
   "codemirror_mode": {
    "name": "ipython",
    "version": 3
   },
   "file_extension": ".py",
   "mimetype": "text/x-python",
   "name": "python",
   "nbconvert_exporter": "python",
   "pygments_lexer": "ipython3",
   "version": "3.9.0"
  }
 },
 "nbformat": 4,
 "nbformat_minor": 5
}
